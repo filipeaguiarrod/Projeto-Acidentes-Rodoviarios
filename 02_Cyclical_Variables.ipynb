{
 "cells": [
  {
   "cell_type": "code",
   "execution_count": 82,
   "metadata": {},
   "outputs": [],
   "source": [
    "import numpy as np\n",
    "import pandas as pd\n",
    "import seaborn as sns\n",
    "import missingno as msno\n",
    "import matplotlib.pyplot as plt"
   ]
  },
  {
   "cell_type": "code",
   "execution_count": 83,
   "metadata": {},
   "outputs": [
    {
     "data": {
      "text/plain": [
       "(609846, 24)"
      ]
     },
     "execution_count": 83,
     "metadata": {},
     "output_type": "execute_result"
    }
   ],
   "source": [
    "df = pd.read_csv('df_acidentes.csv')\n",
    "pd.set_option('max_columns', None)\n",
    "\n",
    "df.shape"
   ]
  },
  {
   "cell_type": "code",
   "execution_count": 84,
   "metadata": {},
   "outputs": [
    {
     "data": {
      "text/plain": [
       "Index(['id', 'data_inversa', 'dia_semana', 'horario', 'uf', 'causa_acidente',\n",
       "       'tipo_acidente', 'classificacao_acidente', 'fase_dia',\n",
       "       'condicao_metereologica', 'tipo_pista', 'tracado_via', 'uso_solo',\n",
       "       'tipo_veiculo', 'ano_fabricacao_veiculo', 'tipo_envolvido', 'idade',\n",
       "       'sexo', 'ilesos', 'mortos', 'latitude', 'longitude', 'ano',\n",
       "       'feridos_cal'],\n",
       "      dtype='object')"
      ]
     },
     "execution_count": 84,
     "metadata": {},
     "output_type": "execute_result"
    }
   ],
   "source": [
    "df.columns"
   ]
  },
  {
   "cell_type": "code",
   "execution_count": 85,
   "metadata": {},
   "outputs": [
    {
     "data": {
      "text/plain": [
       "id                        0\n",
       "data_inversa              0\n",
       "dia_semana                0\n",
       "horario                   0\n",
       "uf                        0\n",
       "causa_acidente            0\n",
       "tipo_acidente             0\n",
       "classificacao_acidente    0\n",
       "fase_dia                  0\n",
       "condicao_metereologica    0\n",
       "tipo_pista                0\n",
       "tracado_via               0\n",
       "uso_solo                  0\n",
       "tipo_veiculo              0\n",
       "ano_fabricacao_veiculo    0\n",
       "tipo_envolvido            0\n",
       "idade                     0\n",
       "sexo                      0\n",
       "ilesos                    0\n",
       "mortos                    0\n",
       "latitude                  0\n",
       "longitude                 0\n",
       "ano                       0\n",
       "feridos_cal               0\n",
       "dtype: int64"
      ]
     },
     "execution_count": 85,
     "metadata": {},
     "output_type": "execute_result"
    }
   ],
   "source": [
    "df.isnull().sum()"
   ]
  },
  {
   "cell_type": "code",
   "execution_count": 88,
   "metadata": {},
   "outputs": [
    {
     "name": "stdout",
     "output_type": "stream",
     "text": [
      "<class 'pandas.core.frame.DataFrame'>\n",
      "RangeIndex: 609846 entries, 0 to 609845\n",
      "Data columns (total 24 columns):\n",
      " #   Column                  Non-Null Count   Dtype  \n",
      "---  ------                  --------------   -----  \n",
      " 0   id                      609846 non-null  float64\n",
      " 1   data_inversa            609846 non-null  object \n",
      " 2   dia_semana              609846 non-null  object \n",
      " 3   horario                 609846 non-null  object \n",
      " 4   uf                      609846 non-null  object \n",
      " 5   causa_acidente          609846 non-null  object \n",
      " 6   tipo_acidente           609846 non-null  object \n",
      " 7   classificacao_acidente  609846 non-null  object \n",
      " 8   fase_dia                609846 non-null  object \n",
      " 9   condicao_metereologica  609846 non-null  object \n",
      " 10  tipo_pista              609846 non-null  object \n",
      " 11  tracado_via             609846 non-null  object \n",
      " 12  uso_solo                609846 non-null  object \n",
      " 13  tipo_veiculo            609846 non-null  object \n",
      " 14  ano_fabricacao_veiculo  609846 non-null  float64\n",
      " 15  tipo_envolvido          609846 non-null  object \n",
      " 16  idade                   609846 non-null  float64\n",
      " 17  sexo                    609846 non-null  object \n",
      " 18  ilesos                  609846 non-null  float64\n",
      " 19  mortos                  609846 non-null  float64\n",
      " 20  latitude                609846 non-null  float64\n",
      " 21  longitude               609846 non-null  float64\n",
      " 22  ano                     609846 non-null  float64\n",
      " 23  feridos_cal             609846 non-null  float64\n",
      "dtypes: float64(9), object(15)\n",
      "memory usage: 111.7+ MB\n"
     ]
    }
   ],
   "source": [
    "df.info()"
   ]
  },
  {
   "cell_type": "code",
   "execution_count": 12,
   "metadata": {},
   "outputs": [],
   "source": [
    "# Total de variáveis a serem classificadas\n",
    "\n",
    "\n",
    "# - id                        - Quantitativa Continua\n",
    "# - dia_semana                - Qualitativa Ordinal *\n",
    "# - horario                   - Qualitativa Ordinal *\n",
    "# - uf                        - Qualitativa Nominal\n",
    "# - causa_acidente            - Qualitativa Nominal\n",
    "# - tipo_acidente             - Qualitativa Nominal\n",
    "# - classificacao_acidente    - Qualitativa Ordinal *\n",
    "# - fase_dia                  - Qualitativa Ordinal\n",
    "# - condicao_metereologica    - Qualitativa Nominal\n",
    "# - tipo_pista                - Qualitativa Nominal\n",
    "# - tracado_via               - Qualitativa Nominal\n",
    "# - uso_solo                  - Qualitativa Nominal\n",
    "# - tipo_veiculo              - Qualitativa Nominal\n",
    "# - ano_fabricacao_veiculo    - Quantitativa Continua\n",
    "# - tipo_envolvido            - Qualitativa Nominal\n",
    "# - idade                     - Quantitativa Continua\n",
    "# - sexo                      - Qualitativa Nominal\n",
    "# - ilesos                    - Quantitativa Discreta\n",
    "# - mortos                    - Quantitativa Discreta\n",
    "# - ano                       - Quantitativa Continua\n",
    "# - feridos_cal               - Quantitativa Discreta"
   ]
  },
  {
   "cell_type": "code",
   "execution_count": 13,
   "metadata": {},
   "outputs": [],
   "source": [
    "# Variáveis que deveremos transformar em quantitativas :\n",
    "\n",
    "# dia_semana                - Qualitativa Ordinal * https://statisticalanalysisconsulting.com/is-time-nominal-ordinal-interval-or-ratio-is-it-categorical-or-continuous/#:~:text=For%20instance%2C%20suppose%20you%20are,was%20president%20at%20the%20time.\n",
    "# causa_acidente            - Qualitativa Nominal\n",
    "# tipo_acidente             - Qualitativa Nominal\n",
    "# classificacao_acidente    - Qualitativa Ordinal * Reposta \n",
    "# fase_dia                  - Qualitativa Ordinal \n",
    "# condicao_metereologica    - Qualitativa Nominal\n",
    "# tipo_pista                - Qualitativa Nominal\n",
    "# tracado_via               - Qualitativa Nominal\n",
    "# uso_solo                  - Qualitativa Nominal\n",
    "# tipo_veiculo              - Qualitativa Nominal\n",
    "# tipo_envolvido            - Qualitativa Nominal\n",
    "# sexo                      - Qualitativa Nominal"
   ]
  },
  {
   "cell_type": "code",
   "execution_count": 14,
   "metadata": {},
   "outputs": [],
   "source": [
    "#  id                        266747 - Excluir\n",
    "#  data_inversa               89563 - non-null  datetime64[ns] - resgatar (modelagem ciclica)\n",
    "#  dia_semana                     7 - Felipe - Proposta de Modelagem (modelagem ciclica)\n",
    "#  horario                     1434 - Felipe - Proposta de Modelagem (modelagem ciclica)\n",
    "#  uf                            27 - Excluir\n",
    "#  causa_acidente                24 - Usar (Sem problemas na dimensão atual)\n",
    "#  tipo_acidente                 16 - Usar\n",
    "#  classificacao_acidente         3 - Variável Resposta ( Usar )\n",
    "#  fase_dia                       4 - Usar fase_dia\n",
    "#  condicao_metereologica         9 - Usar\n",
    "#  tipo_pista                     3 - Usar\n",
    "#  tracado_via                    9 - Usar\n",
    "#  uso_solo                       2 - Usar\n",
    "#  tipo_veiculo                  23 - Usar\n",
    "#  ano_fabricacao_veiculo        70 - Usar\n",
    "#  tipo_envolvido                 4 - Dropar passageiro -> Dropar Coluna (Testar)\n",
    "#  idade                        109 - Dropar passageiro -> Dropar Coluna (Testar)\n",
    "#  sexo                           2 - Dropar passageiro -> Dropar Coluna (Testar)\n",
    "#  ilesos                         2 - Variável Resposta - Excluir (p/Pessoa)\n",
    "#  mortos                         2 - Variável Resposta - Excluir (p/Pessoa)\n",
    "#  ano                            4 - Excluir\n",
    "#  feridos_cal                    2 - Variável Resposta - Excluir (p/Pessoa)"
   ]
  },
  {
   "cell_type": "markdown",
   "metadata": {},
   "source": [
    "## Modelando Variáveis Ciclicas;\n",
    "\n",
    "- data_inversa\n",
    "- dia_semana\n",
    "- horario"
   ]
  },
  {
   "cell_type": "code",
   "execution_count": 89,
   "metadata": {},
   "outputs": [
    {
     "data": {
      "text/plain": [
       "111401    2017-07-30\n",
       "339169    2018-12-08\n",
       "72298     2017-05-17\n",
       "336734    2018-12-02\n",
       "423206    2019-05-19\n",
       "363127    2019-06-22\n",
       "363578    2019-06-29\n",
       "215342    2018-02-10\n",
       "525127    2020-09-27\n",
       "604352    2020-09-15\n",
       "Name: data_inversa, dtype: object"
      ]
     },
     "execution_count": 89,
     "metadata": {},
     "output_type": "execute_result"
    }
   ],
   "source": [
    "df['data_inversa'].sample(10)"
   ]
  },
  {
   "cell_type": "code",
   "execution_count": 90,
   "metadata": {},
   "outputs": [],
   "source": [
    "pd.set_option('max_columns', None)"
   ]
  },
  {
   "cell_type": "code",
   "execution_count": 91,
   "metadata": {},
   "outputs": [
    {
     "data": {
      "text/html": [
       "<div>\n",
       "<style scoped>\n",
       "    .dataframe tbody tr th:only-of-type {\n",
       "        vertical-align: middle;\n",
       "    }\n",
       "\n",
       "    .dataframe tbody tr th {\n",
       "        vertical-align: top;\n",
       "    }\n",
       "\n",
       "    .dataframe thead th {\n",
       "        text-align: right;\n",
       "    }\n",
       "</style>\n",
       "<table border=\"1\" class=\"dataframe\">\n",
       "  <thead>\n",
       "    <tr style=\"text-align: right;\">\n",
       "      <th></th>\n",
       "      <th>id</th>\n",
       "      <th>data_inversa</th>\n",
       "      <th>dia_semana</th>\n",
       "      <th>horario</th>\n",
       "      <th>uf</th>\n",
       "      <th>causa_acidente</th>\n",
       "      <th>tipo_acidente</th>\n",
       "      <th>classificacao_acidente</th>\n",
       "      <th>fase_dia</th>\n",
       "      <th>condicao_metereologica</th>\n",
       "      <th>tipo_pista</th>\n",
       "      <th>tracado_via</th>\n",
       "      <th>uso_solo</th>\n",
       "      <th>tipo_veiculo</th>\n",
       "      <th>ano_fabricacao_veiculo</th>\n",
       "      <th>tipo_envolvido</th>\n",
       "      <th>idade</th>\n",
       "      <th>sexo</th>\n",
       "      <th>ilesos</th>\n",
       "      <th>mortos</th>\n",
       "      <th>latitude</th>\n",
       "      <th>longitude</th>\n",
       "      <th>ano</th>\n",
       "      <th>feridos_cal</th>\n",
       "      <th>ano_t</th>\n",
       "      <th>mes</th>\n",
       "      <th>dia</th>\n",
       "    </tr>\n",
       "  </thead>\n",
       "  <tbody>\n",
       "    <tr>\n",
       "      <th>113694</th>\n",
       "      <td>59537.0</td>\n",
       "      <td>2017-08-04</td>\n",
       "      <td>sexta-feira</td>\n",
       "      <td>15:10:00</td>\n",
       "      <td>RJ</td>\n",
       "      <td>Pista Escorregadia</td>\n",
       "      <td>Colisão frontal</td>\n",
       "      <td>Com Vítimas Feridas</td>\n",
       "      <td>Pleno dia</td>\n",
       "      <td>Chuva</td>\n",
       "      <td>Simples</td>\n",
       "      <td>Curva</td>\n",
       "      <td>Rural</td>\n",
       "      <td>Automóvel</td>\n",
       "      <td>2006.00000</td>\n",
       "      <td>Condutor</td>\n",
       "      <td>51.00000</td>\n",
       "      <td>Masculino</td>\n",
       "      <td>0.0</td>\n",
       "      <td>0.0</td>\n",
       "      <td>-22.489090</td>\n",
       "      <td>-43.223700</td>\n",
       "      <td>2017.0</td>\n",
       "      <td>1.0</td>\n",
       "      <td>2017</td>\n",
       "      <td>08</td>\n",
       "      <td>04</td>\n",
       "    </tr>\n",
       "    <tr>\n",
       "      <th>498589</th>\n",
       "      <td>254849.0</td>\n",
       "      <td>2019-12-08</td>\n",
       "      <td>domingo</td>\n",
       "      <td>22:30:00</td>\n",
       "      <td>RS</td>\n",
       "      <td>Ingestão de Álcool</td>\n",
       "      <td>Saída de leito carroçável</td>\n",
       "      <td>Sem Vítimas</td>\n",
       "      <td>Plena Noite</td>\n",
       "      <td>Céu Claro</td>\n",
       "      <td>Simples</td>\n",
       "      <td>Curva</td>\n",
       "      <td>Rural</td>\n",
       "      <td>Automóvel</td>\n",
       "      <td>2016.00000</td>\n",
       "      <td>Passageiro</td>\n",
       "      <td>55.00000</td>\n",
       "      <td>Masculino</td>\n",
       "      <td>1.0</td>\n",
       "      <td>0.0</td>\n",
       "      <td>-29.383443</td>\n",
       "      <td>-54.745175</td>\n",
       "      <td>2019.0</td>\n",
       "      <td>0.0</td>\n",
       "      <td>2019</td>\n",
       "      <td>12</td>\n",
       "      <td>08</td>\n",
       "    </tr>\n",
       "    <tr>\n",
       "      <th>598569</th>\n",
       "      <td>304686.0</td>\n",
       "      <td>2020-08-30</td>\n",
       "      <td>domingo</td>\n",
       "      <td>20:30:00</td>\n",
       "      <td>PR</td>\n",
       "      <td>Ultrapassagem Indevida</td>\n",
       "      <td>Colisão frontal</td>\n",
       "      <td>Com Vítimas Feridas</td>\n",
       "      <td>Plena Noite</td>\n",
       "      <td>Céu Claro</td>\n",
       "      <td>Simples</td>\n",
       "      <td>Reta</td>\n",
       "      <td>Rural</td>\n",
       "      <td>Automóvel</td>\n",
       "      <td>2010.00000</td>\n",
       "      <td>Passageiro</td>\n",
       "      <td>64.00000</td>\n",
       "      <td>Feminino</td>\n",
       "      <td>0.0</td>\n",
       "      <td>0.0</td>\n",
       "      <td>-25.185033</td>\n",
       "      <td>-50.687438</td>\n",
       "      <td>2020.0</td>\n",
       "      <td>1.0</td>\n",
       "      <td>2020</td>\n",
       "      <td>08</td>\n",
       "      <td>30</td>\n",
       "    </tr>\n",
       "    <tr>\n",
       "      <th>127009</th>\n",
       "      <td>66575.0</td>\n",
       "      <td>2017-08-31</td>\n",
       "      <td>quinta-feira</td>\n",
       "      <td>19:50:00</td>\n",
       "      <td>RS</td>\n",
       "      <td>Desobediência às normas de trânsito pelo condutor</td>\n",
       "      <td>Colisão transversal</td>\n",
       "      <td>Com Vítimas Feridas</td>\n",
       "      <td>Plena Noite</td>\n",
       "      <td>Céu Claro</td>\n",
       "      <td>Simples</td>\n",
       "      <td>Curva</td>\n",
       "      <td>Rural</td>\n",
       "      <td>Automóvel</td>\n",
       "      <td>2007.00000</td>\n",
       "      <td>Passageiro</td>\n",
       "      <td>35.00000</td>\n",
       "      <td>Feminino</td>\n",
       "      <td>0.0</td>\n",
       "      <td>0.0</td>\n",
       "      <td>-28.348030</td>\n",
       "      <td>-53.502120</td>\n",
       "      <td>2017.0</td>\n",
       "      <td>1.0</td>\n",
       "      <td>2017</td>\n",
       "      <td>08</td>\n",
       "      <td>31</td>\n",
       "    </tr>\n",
       "    <tr>\n",
       "      <th>42300</th>\n",
       "      <td>21892.0</td>\n",
       "      <td>2017-03-22</td>\n",
       "      <td>quarta-feira</td>\n",
       "      <td>12:30:00</td>\n",
       "      <td>SC</td>\n",
       "      <td>Ingestão de Álcool</td>\n",
       "      <td>Colisão lateral</td>\n",
       "      <td>Com Vítimas Feridas</td>\n",
       "      <td>Pleno dia</td>\n",
       "      <td>Céu Claro</td>\n",
       "      <td>Múltipla</td>\n",
       "      <td>Reta</td>\n",
       "      <td>Urbano</td>\n",
       "      <td>Caminhão</td>\n",
       "      <td>2008.86264</td>\n",
       "      <td>Condutor</td>\n",
       "      <td>38.07216</td>\n",
       "      <td>Feminino</td>\n",
       "      <td>1.0</td>\n",
       "      <td>0.0</td>\n",
       "      <td>-27.521084</td>\n",
       "      <td>-48.637201</td>\n",
       "      <td>2017.0</td>\n",
       "      <td>0.0</td>\n",
       "      <td>2017</td>\n",
       "      <td>03</td>\n",
       "      <td>22</td>\n",
       "    </tr>\n",
       "  </tbody>\n",
       "</table>\n",
       "</div>"
      ],
      "text/plain": [
       "              id data_inversa    dia_semana   horario  uf  \\\n",
       "113694   59537.0   2017-08-04   sexta-feira  15:10:00  RJ   \n",
       "498589  254849.0   2019-12-08       domingo  22:30:00  RS   \n",
       "598569  304686.0   2020-08-30       domingo  20:30:00  PR   \n",
       "127009   66575.0   2017-08-31  quinta-feira  19:50:00  RS   \n",
       "42300    21892.0   2017-03-22  quarta-feira  12:30:00  SC   \n",
       "\n",
       "                                           causa_acidente  \\\n",
       "113694                                 Pista Escorregadia   \n",
       "498589                                 Ingestão de Álcool   \n",
       "598569                             Ultrapassagem Indevida   \n",
       "127009  Desobediência às normas de trânsito pelo condutor   \n",
       "42300                                  Ingestão de Álcool   \n",
       "\n",
       "                    tipo_acidente classificacao_acidente     fase_dia  \\\n",
       "113694            Colisão frontal    Com Vítimas Feridas    Pleno dia   \n",
       "498589  Saída de leito carroçável            Sem Vítimas  Plena Noite   \n",
       "598569            Colisão frontal    Com Vítimas Feridas  Plena Noite   \n",
       "127009        Colisão transversal    Com Vítimas Feridas  Plena Noite   \n",
       "42300             Colisão lateral    Com Vítimas Feridas    Pleno dia   \n",
       "\n",
       "       condicao_metereologica tipo_pista tracado_via uso_solo tipo_veiculo  \\\n",
       "113694                  Chuva    Simples       Curva    Rural    Automóvel   \n",
       "498589              Céu Claro    Simples       Curva    Rural    Automóvel   \n",
       "598569              Céu Claro    Simples        Reta    Rural    Automóvel   \n",
       "127009              Céu Claro    Simples       Curva    Rural    Automóvel   \n",
       "42300               Céu Claro   Múltipla        Reta   Urbano     Caminhão   \n",
       "\n",
       "        ano_fabricacao_veiculo tipo_envolvido     idade       sexo  ilesos  \\\n",
       "113694              2006.00000       Condutor  51.00000  Masculino     0.0   \n",
       "498589              2016.00000     Passageiro  55.00000  Masculino     1.0   \n",
       "598569              2010.00000     Passageiro  64.00000   Feminino     0.0   \n",
       "127009              2007.00000     Passageiro  35.00000   Feminino     0.0   \n",
       "42300               2008.86264       Condutor  38.07216   Feminino     1.0   \n",
       "\n",
       "        mortos   latitude  longitude     ano  feridos_cal ano_t mes dia  \n",
       "113694     0.0 -22.489090 -43.223700  2017.0          1.0  2017  08  04  \n",
       "498589     0.0 -29.383443 -54.745175  2019.0          0.0  2019  12  08  \n",
       "598569     0.0 -25.185033 -50.687438  2020.0          1.0  2020  08  30  \n",
       "127009     0.0 -28.348030 -53.502120  2017.0          1.0  2017  08  31  \n",
       "42300      0.0 -27.521084 -48.637201  2017.0          0.0  2017  03  22  "
      ]
     },
     "execution_count": 91,
     "metadata": {},
     "output_type": "execute_result"
    }
   ],
   "source": [
    "df[['ano_t','mes','dia']] = df['data_inversa'].str.split('-',expand=True)\n",
    "df.sample(5)"
   ]
  },
  {
   "cell_type": "markdown",
   "metadata": {},
   "source": [
    "#### - Reorganizando Dataset"
   ]
  },
  {
   "cell_type": "code",
   "execution_count": 92,
   "metadata": {},
   "outputs": [
    {
     "data": {
      "text/plain": [
       "Index(['id', 'data_inversa', 'dia_semana', 'horario', 'uf', 'causa_acidente',\n",
       "       'tipo_acidente', 'classificacao_acidente', 'fase_dia',\n",
       "       'condicao_metereologica', 'tipo_pista', 'tracado_via', 'uso_solo',\n",
       "       'tipo_veiculo', 'ano_fabricacao_veiculo', 'tipo_envolvido', 'idade',\n",
       "       'sexo', 'ilesos', 'mortos', 'latitude', 'longitude', 'ano',\n",
       "       'feridos_cal', 'ano_t', 'mes', 'dia'],\n",
       "      dtype='object')"
      ]
     },
     "execution_count": 92,
     "metadata": {},
     "output_type": "execute_result"
    }
   ],
   "source": [
    "df.columns"
   ]
  },
  {
   "cell_type": "code",
   "execution_count": 93,
   "metadata": {},
   "outputs": [],
   "source": [
    "df = df[['id', 'mes', 'dia', 'dia_semana', 'horario', 'uf', 'causa_acidente',\n",
    "       'tipo_acidente', 'fase_dia', 'condicao_metereologica', 'tipo_pista',\n",
    "       'tracado_via', 'uso_solo', 'tipo_veiculo', 'ano_fabricacao_veiculo',\n",
    "       'tipo_envolvido', 'idade', 'sexo', 'ano', 'latitude', 'longitude', 'ilesos', 'feridos_cal',\n",
    "       'mortos', 'classificacao_acidente']]"
   ]
  },
  {
   "cell_type": "code",
   "execution_count": 94,
   "metadata": {},
   "outputs": [
    {
     "data": {
      "text/plain": [
       "(609846, 25)"
      ]
     },
     "execution_count": 94,
     "metadata": {},
     "output_type": "execute_result"
    }
   ],
   "source": [
    "df.shape # ou seja apenas adicionamos o dia e mes!"
   ]
  },
  {
   "cell_type": "code",
   "execution_count": 95,
   "metadata": {},
   "outputs": [
    {
     "name": "stdout",
     "output_type": "stream",
     "text": [
      "<class 'pandas.core.frame.DataFrame'>\n",
      "RangeIndex: 609846 entries, 0 to 609845\n",
      "Data columns (total 25 columns):\n",
      " #   Column                  Non-Null Count   Dtype  \n",
      "---  ------                  --------------   -----  \n",
      " 0   id                      609846 non-null  float64\n",
      " 1   mes                     609846 non-null  object \n",
      " 2   dia                     609846 non-null  object \n",
      " 3   dia_semana              609846 non-null  object \n",
      " 4   horario                 609846 non-null  object \n",
      " 5   uf                      609846 non-null  object \n",
      " 6   causa_acidente          609846 non-null  object \n",
      " 7   tipo_acidente           609846 non-null  object \n",
      " 8   fase_dia                609846 non-null  object \n",
      " 9   condicao_metereologica  609846 non-null  object \n",
      " 10  tipo_pista              609846 non-null  object \n",
      " 11  tracado_via             609846 non-null  object \n",
      " 12  uso_solo                609846 non-null  object \n",
      " 13  tipo_veiculo            609846 non-null  object \n",
      " 14  ano_fabricacao_veiculo  609846 non-null  float64\n",
      " 15  tipo_envolvido          609846 non-null  object \n",
      " 16  idade                   609846 non-null  float64\n",
      " 17  sexo                    609846 non-null  object \n",
      " 18  ano                     609846 non-null  float64\n",
      " 19  latitude                609846 non-null  float64\n",
      " 20  longitude               609846 non-null  float64\n",
      " 21  ilesos                  609846 non-null  float64\n",
      " 22  feridos_cal             609846 non-null  float64\n",
      " 23  mortos                  609846 non-null  float64\n",
      " 24  classificacao_acidente  609846 non-null  object \n",
      "dtypes: float64(9), object(16)\n",
      "memory usage: 116.3+ MB\n"
     ]
    }
   ],
   "source": [
    "df.info()"
   ]
  },
  {
   "cell_type": "code",
   "execution_count": 96,
   "metadata": {},
   "outputs": [],
   "source": [
    "df[['mes', 'dia']] = df[['mes', 'dia']].astype('int64')"
   ]
  },
  {
   "cell_type": "code",
   "execution_count": 97,
   "metadata": {},
   "outputs": [
    {
     "name": "stdout",
     "output_type": "stream",
     "text": [
      "<class 'pandas.core.frame.DataFrame'>\n",
      "RangeIndex: 609846 entries, 0 to 609845\n",
      "Data columns (total 25 columns):\n",
      " #   Column                  Non-Null Count   Dtype  \n",
      "---  ------                  --------------   -----  \n",
      " 0   id                      609846 non-null  float64\n",
      " 1   mes                     609846 non-null  int64  \n",
      " 2   dia                     609846 non-null  int64  \n",
      " 3   dia_semana              609846 non-null  object \n",
      " 4   horario                 609846 non-null  object \n",
      " 5   uf                      609846 non-null  object \n",
      " 6   causa_acidente          609846 non-null  object \n",
      " 7   tipo_acidente           609846 non-null  object \n",
      " 8   fase_dia                609846 non-null  object \n",
      " 9   condicao_metereologica  609846 non-null  object \n",
      " 10  tipo_pista              609846 non-null  object \n",
      " 11  tracado_via             609846 non-null  object \n",
      " 12  uso_solo                609846 non-null  object \n",
      " 13  tipo_veiculo            609846 non-null  object \n",
      " 14  ano_fabricacao_veiculo  609846 non-null  float64\n",
      " 15  tipo_envolvido          609846 non-null  object \n",
      " 16  idade                   609846 non-null  float64\n",
      " 17  sexo                    609846 non-null  object \n",
      " 18  ano                     609846 non-null  float64\n",
      " 19  latitude                609846 non-null  float64\n",
      " 20  longitude               609846 non-null  float64\n",
      " 21  ilesos                  609846 non-null  float64\n",
      " 22  feridos_cal             609846 non-null  float64\n",
      " 23  mortos                  609846 non-null  float64\n",
      " 24  classificacao_acidente  609846 non-null  object \n",
      "dtypes: float64(9), int64(2), object(14)\n",
      "memory usage: 116.3+ MB\n"
     ]
    }
   ],
   "source": [
    "df.info()"
   ]
  },
  {
   "cell_type": "markdown",
   "metadata": {},
   "source": [
    "#### - Modelando - mes"
   ]
  },
  {
   "cell_type": "code",
   "execution_count": 98,
   "metadata": {},
   "outputs": [
    {
     "data": {
      "text/plain": [
       "184863    12\n",
       "337927    12\n",
       "557653     4\n",
       "407160     3\n",
       "376239     1\n",
       "Name: mes, dtype: int64"
      ]
     },
     "execution_count": 98,
     "metadata": {},
     "output_type": "execute_result"
    }
   ],
   "source": [
    "df['mes'].sample(5)"
   ]
  },
  {
   "cell_type": "code",
   "execution_count": 99,
   "metadata": {},
   "outputs": [
    {
     "data": {
      "text/plain": [
       "count    609846.000000\n",
       "mean          6.273661\n",
       "std           3.448733\n",
       "min           1.000000\n",
       "25%           3.000000\n",
       "50%           6.000000\n",
       "75%           9.000000\n",
       "max          12.000000\n",
       "Name: mes, dtype: float64"
      ]
     },
     "execution_count": 99,
     "metadata": {},
     "output_type": "execute_result"
    }
   ],
   "source": [
    "df['mes'].describe() # Tudo certo com o mes !"
   ]
  },
  {
   "cell_type": "code",
   "execution_count": 100,
   "metadata": {},
   "outputs": [],
   "source": [
    "df['mes_sin']=np.sin(2.*np.pi*df.mes/12)\n",
    "df['mes_cos']=np.cos(2.*np.pi*df.mes/12)"
   ]
  },
  {
   "cell_type": "code",
   "execution_count": 101,
   "metadata": {},
   "outputs": [
    {
     "data": {
      "text/html": [
       "<div>\n",
       "<style scoped>\n",
       "    .dataframe tbody tr th:only-of-type {\n",
       "        vertical-align: middle;\n",
       "    }\n",
       "\n",
       "    .dataframe tbody tr th {\n",
       "        vertical-align: top;\n",
       "    }\n",
       "\n",
       "    .dataframe thead th {\n",
       "        text-align: right;\n",
       "    }\n",
       "</style>\n",
       "<table border=\"1\" class=\"dataframe\">\n",
       "  <thead>\n",
       "    <tr style=\"text-align: right;\">\n",
       "      <th></th>\n",
       "      <th>id</th>\n",
       "      <th>mes</th>\n",
       "      <th>dia</th>\n",
       "      <th>dia_semana</th>\n",
       "      <th>horario</th>\n",
       "      <th>uf</th>\n",
       "      <th>causa_acidente</th>\n",
       "      <th>tipo_acidente</th>\n",
       "      <th>fase_dia</th>\n",
       "      <th>condicao_metereologica</th>\n",
       "      <th>tipo_pista</th>\n",
       "      <th>tracado_via</th>\n",
       "      <th>uso_solo</th>\n",
       "      <th>tipo_veiculo</th>\n",
       "      <th>ano_fabricacao_veiculo</th>\n",
       "      <th>tipo_envolvido</th>\n",
       "      <th>idade</th>\n",
       "      <th>sexo</th>\n",
       "      <th>ano</th>\n",
       "      <th>latitude</th>\n",
       "      <th>longitude</th>\n",
       "      <th>ilesos</th>\n",
       "      <th>feridos_cal</th>\n",
       "      <th>mortos</th>\n",
       "      <th>classificacao_acidente</th>\n",
       "      <th>mes_sin</th>\n",
       "      <th>mes_cos</th>\n",
       "    </tr>\n",
       "  </thead>\n",
       "  <tbody>\n",
       "    <tr>\n",
       "      <th>108941</th>\n",
       "      <td>57194.0</td>\n",
       "      <td>7</td>\n",
       "      <td>26</td>\n",
       "      <td>quarta-feira</td>\n",
       "      <td>10:50:00</td>\n",
       "      <td>CE</td>\n",
       "      <td>Avarias e/ou desgaste excessivo no pneu</td>\n",
       "      <td>Tombamento</td>\n",
       "      <td>Pleno dia</td>\n",
       "      <td>Céu Claro</td>\n",
       "      <td>Dupla</td>\n",
       "      <td>Reta</td>\n",
       "      <td>Urbano</td>\n",
       "      <td>Motocicleta</td>\n",
       "      <td>2016.00000</td>\n",
       "      <td>Passageiro</td>\n",
       "      <td>18.00000</td>\n",
       "      <td>Feminino</td>\n",
       "      <td>2017.0</td>\n",
       "      <td>-3.762514</td>\n",
       "      <td>-38.655570</td>\n",
       "      <td>0.0</td>\n",
       "      <td>1.0</td>\n",
       "      <td>0.0</td>\n",
       "      <td>Com Vítimas Feridas</td>\n",
       "      <td>-0.500000</td>\n",
       "      <td>-8.660254e-01</td>\n",
       "    </tr>\n",
       "    <tr>\n",
       "      <th>499079</th>\n",
       "      <td>255129.0</td>\n",
       "      <td>9</td>\n",
       "      <td>15</td>\n",
       "      <td>domingo</td>\n",
       "      <td>18:40:00</td>\n",
       "      <td>BA</td>\n",
       "      <td>Falta de Atenção à Condução</td>\n",
       "      <td>Colisão frontal</td>\n",
       "      <td>Plena Noite</td>\n",
       "      <td>Céu Claro</td>\n",
       "      <td>Simples</td>\n",
       "      <td>Reta</td>\n",
       "      <td>Rural</td>\n",
       "      <td>Automóvel</td>\n",
       "      <td>2008.86264</td>\n",
       "      <td>Condutor</td>\n",
       "      <td>38.07216</td>\n",
       "      <td>Masculino</td>\n",
       "      <td>2019.0</td>\n",
       "      <td>-11.374879</td>\n",
       "      <td>-40.024969</td>\n",
       "      <td>0.0</td>\n",
       "      <td>0.0</td>\n",
       "      <td>0.0</td>\n",
       "      <td>Com Vítimas Feridas</td>\n",
       "      <td>-1.000000</td>\n",
       "      <td>-1.836970e-16</td>\n",
       "    </tr>\n",
       "    <tr>\n",
       "      <th>400156</th>\n",
       "      <td>196902.0</td>\n",
       "      <td>3</td>\n",
       "      <td>14</td>\n",
       "      <td>quinta-feira</td>\n",
       "      <td>10:30:00</td>\n",
       "      <td>RJ</td>\n",
       "      <td>Não guardar distância de segurança</td>\n",
       "      <td>Colisão traseira</td>\n",
       "      <td>Pleno dia</td>\n",
       "      <td>Céu Claro</td>\n",
       "      <td>Simples</td>\n",
       "      <td>Reta</td>\n",
       "      <td>Urbano</td>\n",
       "      <td>Automóvel</td>\n",
       "      <td>2007.00000</td>\n",
       "      <td>Condutor</td>\n",
       "      <td>35.00000</td>\n",
       "      <td>Masculino</td>\n",
       "      <td>2019.0</td>\n",
       "      <td>-21.713665</td>\n",
       "      <td>-41.308619</td>\n",
       "      <td>1.0</td>\n",
       "      <td>0.0</td>\n",
       "      <td>0.0</td>\n",
       "      <td>Sem Vítimas</td>\n",
       "      <td>1.000000</td>\n",
       "      <td>6.123234e-17</td>\n",
       "    </tr>\n",
       "    <tr>\n",
       "      <th>355127</th>\n",
       "      <td>190132.0</td>\n",
       "      <td>2</td>\n",
       "      <td>8</td>\n",
       "      <td>sexta-feira</td>\n",
       "      <td>17:45:00</td>\n",
       "      <td>RJ</td>\n",
       "      <td>Falta de Atenção à Condução</td>\n",
       "      <td>Colisão lateral</td>\n",
       "      <td>Pleno dia</td>\n",
       "      <td>Nublado</td>\n",
       "      <td>Simples</td>\n",
       "      <td>Reta</td>\n",
       "      <td>Rural</td>\n",
       "      <td>Caminhão</td>\n",
       "      <td>2015.00000</td>\n",
       "      <td>Condutor</td>\n",
       "      <td>60.00000</td>\n",
       "      <td>Masculino</td>\n",
       "      <td>2019.0</td>\n",
       "      <td>-22.539900</td>\n",
       "      <td>-43.224100</td>\n",
       "      <td>1.0</td>\n",
       "      <td>0.0</td>\n",
       "      <td>0.0</td>\n",
       "      <td>Sem Vítimas</td>\n",
       "      <td>0.866025</td>\n",
       "      <td>5.000000e-01</td>\n",
       "    </tr>\n",
       "    <tr>\n",
       "      <th>380580</th>\n",
       "      <td>185532.0</td>\n",
       "      <td>1</td>\n",
       "      <td>16</td>\n",
       "      <td>quarta-feira</td>\n",
       "      <td>09:20:00</td>\n",
       "      <td>PA</td>\n",
       "      <td>Falta de Atenção do Pedestre</td>\n",
       "      <td>Atropelamento de Pedestre</td>\n",
       "      <td>Pleno dia</td>\n",
       "      <td>Céu Claro</td>\n",
       "      <td>Simples</td>\n",
       "      <td>Reta</td>\n",
       "      <td>Urbano</td>\n",
       "      <td>Automóvel</td>\n",
       "      <td>2014.00000</td>\n",
       "      <td>Condutor</td>\n",
       "      <td>60.00000</td>\n",
       "      <td>Masculino</td>\n",
       "      <td>2019.0</td>\n",
       "      <td>-4.293095</td>\n",
       "      <td>-47.556904</td>\n",
       "      <td>1.0</td>\n",
       "      <td>0.0</td>\n",
       "      <td>0.0</td>\n",
       "      <td>Com Vítimas Feridas</td>\n",
       "      <td>0.500000</td>\n",
       "      <td>8.660254e-01</td>\n",
       "    </tr>\n",
       "  </tbody>\n",
       "</table>\n",
       "</div>"
      ],
      "text/plain": [
       "              id  mes  dia    dia_semana   horario  uf  \\\n",
       "108941   57194.0    7   26  quarta-feira  10:50:00  CE   \n",
       "499079  255129.0    9   15       domingo  18:40:00  BA   \n",
       "400156  196902.0    3   14  quinta-feira  10:30:00  RJ   \n",
       "355127  190132.0    2    8   sexta-feira  17:45:00  RJ   \n",
       "380580  185532.0    1   16  quarta-feira  09:20:00  PA   \n",
       "\n",
       "                                 causa_acidente              tipo_acidente  \\\n",
       "108941  Avarias e/ou desgaste excessivo no pneu                 Tombamento   \n",
       "499079              Falta de Atenção à Condução            Colisão frontal   \n",
       "400156       Não guardar distância de segurança           Colisão traseira   \n",
       "355127              Falta de Atenção à Condução            Colisão lateral   \n",
       "380580             Falta de Atenção do Pedestre  Atropelamento de Pedestre   \n",
       "\n",
       "           fase_dia condicao_metereologica tipo_pista tracado_via uso_solo  \\\n",
       "108941    Pleno dia              Céu Claro      Dupla        Reta   Urbano   \n",
       "499079  Plena Noite              Céu Claro    Simples        Reta    Rural   \n",
       "400156    Pleno dia              Céu Claro    Simples        Reta   Urbano   \n",
       "355127    Pleno dia                Nublado    Simples        Reta    Rural   \n",
       "380580    Pleno dia              Céu Claro    Simples        Reta   Urbano   \n",
       "\n",
       "       tipo_veiculo  ano_fabricacao_veiculo tipo_envolvido     idade  \\\n",
       "108941  Motocicleta              2016.00000     Passageiro  18.00000   \n",
       "499079    Automóvel              2008.86264       Condutor  38.07216   \n",
       "400156    Automóvel              2007.00000       Condutor  35.00000   \n",
       "355127     Caminhão              2015.00000       Condutor  60.00000   \n",
       "380580    Automóvel              2014.00000       Condutor  60.00000   \n",
       "\n",
       "             sexo     ano   latitude  longitude  ilesos  feridos_cal  mortos  \\\n",
       "108941   Feminino  2017.0  -3.762514 -38.655570     0.0          1.0     0.0   \n",
       "499079  Masculino  2019.0 -11.374879 -40.024969     0.0          0.0     0.0   \n",
       "400156  Masculino  2019.0 -21.713665 -41.308619     1.0          0.0     0.0   \n",
       "355127  Masculino  2019.0 -22.539900 -43.224100     1.0          0.0     0.0   \n",
       "380580  Masculino  2019.0  -4.293095 -47.556904     1.0          0.0     0.0   \n",
       "\n",
       "       classificacao_acidente   mes_sin       mes_cos  \n",
       "108941    Com Vítimas Feridas -0.500000 -8.660254e-01  \n",
       "499079    Com Vítimas Feridas -1.000000 -1.836970e-16  \n",
       "400156            Sem Vítimas  1.000000  6.123234e-17  \n",
       "355127            Sem Vítimas  0.866025  5.000000e-01  \n",
       "380580    Com Vítimas Feridas  0.500000  8.660254e-01  "
      ]
     },
     "execution_count": 101,
     "metadata": {},
     "output_type": "execute_result"
    }
   ],
   "source": [
    "df.sample(5)"
   ]
  },
  {
   "cell_type": "code",
   "execution_count": 102,
   "metadata": {},
   "outputs": [
    {
     "name": "stderr",
     "output_type": "stream",
     "text": [
      "C:\\Users\\rodri\\anaconda3\\lib\\site-packages\\seaborn\\_decorators.py:36: FutureWarning: Pass the following variables as keyword args: x, y. From version 0.12, the only valid positional argument will be `data`, and passing other arguments without an explicit keyword will result in an error or misinterpretation.\n",
      "  warnings.warn(\n"
     ]
    },
    {
     "data": {
      "text/plain": [
       "<AxesSubplot:xlabel='mes_sin', ylabel='mes_cos'>"
      ]
     },
     "execution_count": 102,
     "metadata": {},
     "output_type": "execute_result"
    },
    {
     "data": {
      "image/png": "[encoded data removed]",
      "text/plain": [
       "<Figure size 900x900 with 1 Axes>"
      ]
     },
     "metadata": {
      "needs_background": "light"
     },
     "output_type": "display_data"
    }
   ],
   "source": [
    "plt.figure(figsize=(12.5,12.5))\n",
    "sns.scatterplot(df['mes_sin'],df['mes_cos'],hue=df['mes'],s=300)"
   ]
  },
  {
   "cell_type": "markdown",
   "metadata": {},
   "source": [
    "#### - Modelando - dia_semana"
   ]
  },
  {
   "cell_type": "code",
   "execution_count": 103,
   "metadata": {},
   "outputs": [
    {
     "data": {
      "text/plain": [
       "308565    segunda-feira\n",
       "515376     quinta-feira\n",
       "459080    segunda-feira\n",
       "479062           sábado\n",
       "198171          domingo\n",
       "529907           sábado\n",
       "179255      terça-feira\n",
       "584968    segunda-feira\n",
       "214236      sexta-feira\n",
       "85386           domingo\n",
       "Name: dia_semana, dtype: object"
      ]
     },
     "execution_count": 103,
     "metadata": {},
     "output_type": "execute_result"
    }
   ],
   "source": [
    "df['dia_semana'].sample(10)"
   ]
  },
  {
   "cell_type": "markdown",
   "metadata": {},
   "source": [
    "'''Primeiro é necessário transformar o dia da semana em número! O Label Encoder não vai funcionar, pois da ordem aleatória de números,\n",
    "neste caso precisamos que segunda (1) e depois terça(2), para que os seno e cosseno realmente passem uma ideia ciclica respeitando a \n",
    "ordem dos dias da semana'''"
   ]
  },
  {
   "cell_type": "code",
   "execution_count": 104,
   "metadata": {},
   "outputs": [],
   "source": [
    "# Transformando dia da semana em número e normalizando ela. Como saída teremos 3 colunas novas.\n",
    "\n",
    "def week_to_feature(df,week_days):\n",
    "    \n",
    "    df['dias_semana_num']=df[week_days]\n",
    "    \n",
    "    dic = {'domingo':7          \n",
    "    ,'sábado':6           \n",
    "    ,'sexta-feira':5   \n",
    "    ,'quinta-feira':4    \n",
    "    ,'quarta-feira':3     \n",
    "    ,'terça-feira':2\n",
    "    ,'segunda-feira':1} # Começar com 1 pois caso não seja ira gerar um ciclo com 6 números\n",
    "        \n",
    "    for days, num in dic.items():\n",
    "        \n",
    "         #print (days)\n",
    "         #print (num)\n",
    "         df['dias_semana_num'].replace(days,num,inplace=True)\n",
    "            \n",
    "    df['dias_semana_norm']=df['dias_semana_num']/df['dias_semana_num'].max() # normaliza os dias da semana < 1\n",
    "    \n",
    "    df['dias_semana_sin']=np.sin(2.*np.pi*df.dias_semana_norm)\n",
    "    df['dias_semana_cos']=np.cos(2.*np.pi*df.dias_semana_norm)\n",
    "    \n",
    "    # Printando o resultado do processo... \n",
    "    \n",
    "    plt.figure(figsize=(12.5,12.5))\n",
    "    sns.scatterplot(df['dias_semana_sin'],df['dias_semana_cos'],hue=df['dia_semana'],s=300)\n",
    "   "
   ]
  },
  {
   "cell_type": "code",
   "execution_count": 105,
   "metadata": {},
   "outputs": [
    {
     "name": "stderr",
     "output_type": "stream",
     "text": [
      "C:\\Users\\rodri\\anaconda3\\lib\\site-packages\\seaborn\\_decorators.py:36: FutureWarning: Pass the following variables as keyword args: x, y. From version 0.12, the only valid positional argument will be `data`, and passing other arguments without an explicit keyword will result in an error or misinterpretation.\n",
      "  warnings.warn(\n"
     ]
    },
    {
     "data": {
      "image/png": "[encoded data removed]",
      "text/plain": [
       "<Figure size 900x900 with 1 Axes>"
      ]
     },
     "metadata": {
      "needs_background": "light"
     },
     "output_type": "display_data"
    }
   ],
   "source": [
    "week_to_feature(df,'dia_semana')"
   ]
  },
  {
   "cell_type": "markdown",
   "metadata": {},
   "source": [
    "#### - Modelando - horario"
   ]
  },
  {
   "cell_type": "code",
   "execution_count": 106,
   "metadata": {},
   "outputs": [
    {
     "data": {
      "text/html": [
       "<div>\n",
       "<style scoped>\n",
       "    .dataframe tbody tr th:only-of-type {\n",
       "        vertical-align: middle;\n",
       "    }\n",
       "\n",
       "    .dataframe tbody tr th {\n",
       "        vertical-align: top;\n",
       "    }\n",
       "\n",
       "    .dataframe thead th {\n",
       "        text-align: right;\n",
       "    }\n",
       "</style>\n",
       "<table border=\"1\" class=\"dataframe\">\n",
       "  <thead>\n",
       "    <tr style=\"text-align: right;\">\n",
       "      <th></th>\n",
       "      <th>id</th>\n",
       "      <th>mes</th>\n",
       "      <th>dia</th>\n",
       "      <th>dia_semana</th>\n",
       "      <th>horario</th>\n",
       "      <th>uf</th>\n",
       "      <th>causa_acidente</th>\n",
       "      <th>tipo_acidente</th>\n",
       "      <th>fase_dia</th>\n",
       "      <th>condicao_metereologica</th>\n",
       "      <th>tipo_pista</th>\n",
       "      <th>tracado_via</th>\n",
       "      <th>uso_solo</th>\n",
       "      <th>tipo_veiculo</th>\n",
       "      <th>ano_fabricacao_veiculo</th>\n",
       "      <th>tipo_envolvido</th>\n",
       "      <th>idade</th>\n",
       "      <th>sexo</th>\n",
       "      <th>ano</th>\n",
       "      <th>latitude</th>\n",
       "      <th>longitude</th>\n",
       "      <th>ilesos</th>\n",
       "      <th>feridos_cal</th>\n",
       "      <th>mortos</th>\n",
       "      <th>classificacao_acidente</th>\n",
       "      <th>mes_sin</th>\n",
       "      <th>mes_cos</th>\n",
       "      <th>dias_semana_num</th>\n",
       "      <th>dias_semana_norm</th>\n",
       "      <th>dias_semana_sin</th>\n",
       "      <th>dias_semana_cos</th>\n",
       "      <th>hora</th>\n",
       "      <th>minuto</th>\n",
       "      <th>segundo</th>\n",
       "    </tr>\n",
       "  </thead>\n",
       "  <tbody>\n",
       "    <tr>\n",
       "      <th>22865</th>\n",
       "      <td>11663.0</td>\n",
       "      <td>2</td>\n",
       "      <td>13</td>\n",
       "      <td>segunda-feira</td>\n",
       "      <td>07:20:00</td>\n",
       "      <td>MG</td>\n",
       "      <td>Velocidade Incompatível</td>\n",
       "      <td>Saída de leito carroçável</td>\n",
       "      <td>Pleno dia</td>\n",
       "      <td>Chuva</td>\n",
       "      <td>Simples</td>\n",
       "      <td>Curva</td>\n",
       "      <td>Rural</td>\n",
       "      <td>Motocicleta</td>\n",
       "      <td>2012.0</td>\n",
       "      <td>Condutor</td>\n",
       "      <td>28.0</td>\n",
       "      <td>Masculino</td>\n",
       "      <td>2017.0</td>\n",
       "      <td>-19.671900</td>\n",
       "      <td>-42.972200</td>\n",
       "      <td>0.0</td>\n",
       "      <td>1.0</td>\n",
       "      <td>0.0</td>\n",
       "      <td>Com Vítimas Feridas</td>\n",
       "      <td>0.866025</td>\n",
       "      <td>5.000000e-01</td>\n",
       "      <td>1</td>\n",
       "      <td>0.142857</td>\n",
       "      <td>0.781831</td>\n",
       "      <td>0.623490</td>\n",
       "      <td>07</td>\n",
       "      <td>20</td>\n",
       "      <td>00</td>\n",
       "    </tr>\n",
       "    <tr>\n",
       "      <th>454683</th>\n",
       "      <td>228711.0</td>\n",
       "      <td>8</td>\n",
       "      <td>14</td>\n",
       "      <td>quarta-feira</td>\n",
       "      <td>14:00:00</td>\n",
       "      <td>SC</td>\n",
       "      <td>Não guardar distância de segurança</td>\n",
       "      <td>Colisão lateral</td>\n",
       "      <td>Pleno dia</td>\n",
       "      <td>Céu Claro</td>\n",
       "      <td>Dupla</td>\n",
       "      <td>Reta</td>\n",
       "      <td>Urbano</td>\n",
       "      <td>Camioneta</td>\n",
       "      <td>2015.0</td>\n",
       "      <td>Condutor</td>\n",
       "      <td>56.0</td>\n",
       "      <td>Feminino</td>\n",
       "      <td>2019.0</td>\n",
       "      <td>-27.584347</td>\n",
       "      <td>-48.607221</td>\n",
       "      <td>1.0</td>\n",
       "      <td>0.0</td>\n",
       "      <td>0.0</td>\n",
       "      <td>Com Vítimas Feridas</td>\n",
       "      <td>-0.866025</td>\n",
       "      <td>-5.000000e-01</td>\n",
       "      <td>3</td>\n",
       "      <td>0.428571</td>\n",
       "      <td>0.433884</td>\n",
       "      <td>-0.900969</td>\n",
       "      <td>14</td>\n",
       "      <td>00</td>\n",
       "      <td>00</td>\n",
       "    </tr>\n",
       "    <tr>\n",
       "      <th>399586</th>\n",
       "      <td>196531.0</td>\n",
       "      <td>3</td>\n",
       "      <td>12</td>\n",
       "      <td>terça-feira</td>\n",
       "      <td>12:35:00</td>\n",
       "      <td>RJ</td>\n",
       "      <td>Defeito na Via</td>\n",
       "      <td>Queda de ocupante de veículo</td>\n",
       "      <td>Pleno dia</td>\n",
       "      <td>Nublado</td>\n",
       "      <td>Simples</td>\n",
       "      <td>Interseção de vias</td>\n",
       "      <td>Rural</td>\n",
       "      <td>Motocicleta</td>\n",
       "      <td>2008.0</td>\n",
       "      <td>Condutor</td>\n",
       "      <td>46.0</td>\n",
       "      <td>Masculino</td>\n",
       "      <td>2019.0</td>\n",
       "      <td>-22.705651</td>\n",
       "      <td>-43.290575</td>\n",
       "      <td>0.0</td>\n",
       "      <td>1.0</td>\n",
       "      <td>0.0</td>\n",
       "      <td>Com Vítimas Feridas</td>\n",
       "      <td>1.000000</td>\n",
       "      <td>6.123234e-17</td>\n",
       "      <td>2</td>\n",
       "      <td>0.285714</td>\n",
       "      <td>0.974928</td>\n",
       "      <td>-0.222521</td>\n",
       "      <td>12</td>\n",
       "      <td>35</td>\n",
       "      <td>00</td>\n",
       "    </tr>\n",
       "    <tr>\n",
       "      <th>58135</th>\n",
       "      <td>30636.0</td>\n",
       "      <td>4</td>\n",
       "      <td>20</td>\n",
       "      <td>quinta-feira</td>\n",
       "      <td>22:00:00</td>\n",
       "      <td>MG</td>\n",
       "      <td>Ingestão de Álcool</td>\n",
       "      <td>Colisão lateral</td>\n",
       "      <td>Plena Noite</td>\n",
       "      <td>Céu Claro</td>\n",
       "      <td>Simples</td>\n",
       "      <td>Curva</td>\n",
       "      <td>Rural</td>\n",
       "      <td>Caminhonete</td>\n",
       "      <td>2010.0</td>\n",
       "      <td>Passageiro</td>\n",
       "      <td>40.0</td>\n",
       "      <td>Feminino</td>\n",
       "      <td>2017.0</td>\n",
       "      <td>-19.847842</td>\n",
       "      <td>-43.162600</td>\n",
       "      <td>1.0</td>\n",
       "      <td>0.0</td>\n",
       "      <td>0.0</td>\n",
       "      <td>Sem Vítimas</td>\n",
       "      <td>0.866025</td>\n",
       "      <td>-5.000000e-01</td>\n",
       "      <td>4</td>\n",
       "      <td>0.571429</td>\n",
       "      <td>-0.433884</td>\n",
       "      <td>-0.900969</td>\n",
       "      <td>22</td>\n",
       "      <td>00</td>\n",
       "      <td>00</td>\n",
       "    </tr>\n",
       "    <tr>\n",
       "      <th>464382</th>\n",
       "      <td>234425.0</td>\n",
       "      <td>9</td>\n",
       "      <td>9</td>\n",
       "      <td>segunda-feira</td>\n",
       "      <td>19:20:00</td>\n",
       "      <td>RJ</td>\n",
       "      <td>Defeito Mecânico no Veículo</td>\n",
       "      <td>Incêndio</td>\n",
       "      <td>Plena Noite</td>\n",
       "      <td>Céu Claro</td>\n",
       "      <td>Dupla</td>\n",
       "      <td>Reta</td>\n",
       "      <td>Urbano</td>\n",
       "      <td>Ônibus</td>\n",
       "      <td>2014.0</td>\n",
       "      <td>Condutor</td>\n",
       "      <td>37.0</td>\n",
       "      <td>Masculino</td>\n",
       "      <td>2019.0</td>\n",
       "      <td>-22.756775</td>\n",
       "      <td>-43.431072</td>\n",
       "      <td>1.0</td>\n",
       "      <td>0.0</td>\n",
       "      <td>0.0</td>\n",
       "      <td>Sem Vítimas</td>\n",
       "      <td>-1.000000</td>\n",
       "      <td>-1.836970e-16</td>\n",
       "      <td>1</td>\n",
       "      <td>0.142857</td>\n",
       "      <td>0.781831</td>\n",
       "      <td>0.623490</td>\n",
       "      <td>19</td>\n",
       "      <td>20</td>\n",
       "      <td>00</td>\n",
       "    </tr>\n",
       "  </tbody>\n",
       "</table>\n",
       "</div>"
      ],
      "text/plain": [
       "              id  mes  dia     dia_semana   horario  uf  \\\n",
       "22865    11663.0    2   13  segunda-feira  07:20:00  MG   \n",
       "454683  228711.0    8   14   quarta-feira  14:00:00  SC   \n",
       "399586  196531.0    3   12    terça-feira  12:35:00  RJ   \n",
       "58135    30636.0    4   20   quinta-feira  22:00:00  MG   \n",
       "464382  234425.0    9    9  segunda-feira  19:20:00  RJ   \n",
       "\n",
       "                            causa_acidente                 tipo_acidente  \\\n",
       "22865              Velocidade Incompatível     Saída de leito carroçável   \n",
       "454683  Não guardar distância de segurança               Colisão lateral   \n",
       "399586                      Defeito na Via  Queda de ocupante de veículo   \n",
       "58135                   Ingestão de Álcool               Colisão lateral   \n",
       "464382         Defeito Mecânico no Veículo                      Incêndio   \n",
       "\n",
       "           fase_dia condicao_metereologica tipo_pista         tracado_via  \\\n",
       "22865     Pleno dia                  Chuva    Simples               Curva   \n",
       "454683    Pleno dia              Céu Claro      Dupla                Reta   \n",
       "399586    Pleno dia                Nublado    Simples  Interseção de vias   \n",
       "58135   Plena Noite              Céu Claro    Simples               Curva   \n",
       "464382  Plena Noite              Céu Claro      Dupla                Reta   \n",
       "\n",
       "       uso_solo tipo_veiculo  ano_fabricacao_veiculo tipo_envolvido  idade  \\\n",
       "22865     Rural  Motocicleta                  2012.0       Condutor   28.0   \n",
       "454683   Urbano    Camioneta                  2015.0       Condutor   56.0   \n",
       "399586    Rural  Motocicleta                  2008.0       Condutor   46.0   \n",
       "58135     Rural  Caminhonete                  2010.0     Passageiro   40.0   \n",
       "464382   Urbano       Ônibus                  2014.0       Condutor   37.0   \n",
       "\n",
       "             sexo     ano   latitude  longitude  ilesos  feridos_cal  mortos  \\\n",
       "22865   Masculino  2017.0 -19.671900 -42.972200     0.0          1.0     0.0   \n",
       "454683   Feminino  2019.0 -27.584347 -48.607221     1.0          0.0     0.0   \n",
       "399586  Masculino  2019.0 -22.705651 -43.290575     0.0          1.0     0.0   \n",
       "58135    Feminino  2017.0 -19.847842 -43.162600     1.0          0.0     0.0   \n",
       "464382  Masculino  2019.0 -22.756775 -43.431072     1.0          0.0     0.0   \n",
       "\n",
       "       classificacao_acidente   mes_sin       mes_cos  dias_semana_num  \\\n",
       "22865     Com Vítimas Feridas  0.866025  5.000000e-01                1   \n",
       "454683    Com Vítimas Feridas -0.866025 -5.000000e-01                3   \n",
       "399586    Com Vítimas Feridas  1.000000  6.123234e-17                2   \n",
       "58135             Sem Vítimas  0.866025 -5.000000e-01                4   \n",
       "464382            Sem Vítimas -1.000000 -1.836970e-16                1   \n",
       "\n",
       "        dias_semana_norm  dias_semana_sin  dias_semana_cos hora minuto segundo  \n",
       "22865           0.142857         0.781831         0.623490   07     20      00  \n",
       "454683          0.428571         0.433884        -0.900969   14     00      00  \n",
       "399586          0.285714         0.974928        -0.222521   12     35      00  \n",
       "58135           0.571429        -0.433884        -0.900969   22     00      00  \n",
       "464382          0.142857         0.781831         0.623490   19     20      00  "
      ]
     },
     "execution_count": 106,
     "metadata": {},
     "output_type": "execute_result"
    }
   ],
   "source": [
    "df[['hora','minuto','segundo']] = df['horario'].str.split(':',expand=True)\n",
    "df.sample(5)"
   ]
  },
  {
   "cell_type": "code",
   "execution_count": 107,
   "metadata": {},
   "outputs": [],
   "source": [
    "df[['hora','minuto','segundo']] = df[['hora','minuto','segundo']].astype('float64')"
   ]
  },
  {
   "cell_type": "code",
   "execution_count": 108,
   "metadata": {},
   "outputs": [],
   "source": [
    "df['horario_float'] = df['hora']  + df['minuto']/60"
   ]
  },
  {
   "cell_type": "code",
   "execution_count": 109,
   "metadata": {},
   "outputs": [
    {
     "data": {
      "text/plain": [
       "461473    10.500000\n",
       "445004    16.750000\n",
       "558514    15.416667\n",
       "6774      11.666667\n",
       "566548     9.750000\n",
       "Name: horario_float, dtype: float64"
      ]
     },
     "execution_count": 109,
     "metadata": {},
     "output_type": "execute_result"
    }
   ],
   "source": [
    "df['horario_float'].sample(5)"
   ]
  },
  {
   "cell_type": "markdown",
   "metadata": {},
   "source": [
    "df['horario_sin']=np.sin(2.*np.pi*df.horario_float/24.)\n",
    "df['horario_cos']=np.cos(2.*np.pi*df.horario_float/24.)"
   ]
  },
  {
   "cell_type": "code",
   "execution_count": 111,
   "metadata": {},
   "outputs": [
    {
     "name": "stderr",
     "output_type": "stream",
     "text": [
      "C:\\Users\\rodri\\anaconda3\\lib\\site-packages\\seaborn\\_decorators.py:36: FutureWarning: Pass the following variables as keyword args: x, y. From version 0.12, the only valid positional argument will be `data`, and passing other arguments without an explicit keyword will result in an error or misinterpretation.\n",
      "  warnings.warn(\n"
     ]
    },
    {
     "data": {
      "text/plain": [
       "<AxesSubplot:xlabel='horario_sin', ylabel='horario_cos'>"
      ]
     },
     "execution_count": 111,
     "metadata": {},
     "output_type": "execute_result"
    },
    {
     "data": {
      "image/png": "[encoded data removed]",
      "text/plain": [
       "<Figure size 900x900 with 1 Axes>"
      ]
     },
     "metadata": {
      "needs_background": "light"
     },
     "output_type": "display_data"
    }
   ],
   "source": [
    "plt.figure(figsize=(12.5,12.5))\n",
    "sns.scatterplot(df['horario_sin'],df['horario_cos'],s=300,hue=df['hora'])"
   ]
  },
  {
   "cell_type": "markdown",
   "metadata": {},
   "source": [
    "# Reorganizar Data Frame e eliminar coisas que não precisamos !!!! Depois export"
   ]
  },
  {
   "cell_type": "code",
   "execution_count": 112,
   "metadata": {},
   "outputs": [
    {
     "data": {
      "text/plain": [
       "(609846, 37)"
      ]
     },
     "execution_count": 112,
     "metadata": {},
     "output_type": "execute_result"
    }
   ],
   "source": [
    "df.shape"
   ]
  },
  {
   "cell_type": "code",
   "execution_count": 113,
   "metadata": {},
   "outputs": [
    {
     "data": {
      "text/plain": [
       "Index(['id', 'mes', 'dia', 'dia_semana', 'horario', 'uf', 'causa_acidente',\n",
       "       'tipo_acidente', 'fase_dia', 'condicao_metereologica', 'tipo_pista',\n",
       "       'tracado_via', 'uso_solo', 'tipo_veiculo', 'ano_fabricacao_veiculo',\n",
       "       'tipo_envolvido', 'idade', 'sexo', 'ano', 'latitude', 'longitude',\n",
       "       'ilesos', 'feridos_cal', 'mortos', 'classificacao_acidente', 'mes_sin',\n",
       "       'mes_cos', 'dias_semana_num', 'dias_semana_norm', 'dias_semana_sin',\n",
       "       'dias_semana_cos', 'hora', 'minuto', 'segundo', 'horario_float',\n",
       "       'horario_sin', 'horario_cos'],\n",
       "      dtype='object')"
      ]
     },
     "execution_count": 113,
     "metadata": {},
     "output_type": "execute_result"
    }
   ],
   "source": [
    "df.columns"
   ]
  },
  {
   "cell_type": "code",
   "execution_count": 114,
   "metadata": {},
   "outputs": [],
   "source": [
    "df = df[['id', 'mes', 'mes_sin', 'mes_cos','dia', 'dia_semana','dias_semana_sin',\n",
    "       'dias_semana_cos', 'hora', 'minuto',\n",
    "       'horario_sin', 'horario_cos', 'uf', 'causa_acidente',\n",
    "       'tipo_acidente', 'fase_dia', 'condicao_metereologica', 'tipo_pista',\n",
    "       'tracado_via', 'uso_solo', 'tipo_veiculo', 'ano_fabricacao_veiculo',\n",
    "       'tipo_envolvido', 'idade', 'sexo','latitude','longitude', 'ano', 'ilesos', 'feridos_cal',\n",
    "       'mortos', 'classificacao_acidente']]"
   ]
  },
  {
   "cell_type": "code",
   "execution_count": 115,
   "metadata": {},
   "outputs": [
    {
     "data": {
      "text/plain": [
       "(609846, 32)"
      ]
     },
     "execution_count": 115,
     "metadata": {},
     "output_type": "execute_result"
    }
   ],
   "source": [
    "df.shape"
   ]
  },
  {
   "cell_type": "code",
   "execution_count": 116,
   "metadata": {},
   "outputs": [
    {
     "name": "stdout",
     "output_type": "stream",
     "text": [
      "<class 'pandas.core.frame.DataFrame'>\n",
      "RangeIndex: 609846 entries, 0 to 609845\n",
      "Data columns (total 32 columns):\n",
      " #   Column                  Non-Null Count   Dtype  \n",
      "---  ------                  --------------   -----  \n",
      " 0   id                      609846 non-null  float64\n",
      " 1   mes                     609846 non-null  int64  \n",
      " 2   mes_sin                 609846 non-null  float64\n",
      " 3   mes_cos                 609846 non-null  float64\n",
      " 4   dia                     609846 non-null  int64  \n",
      " 5   dia_semana              609846 non-null  object \n",
      " 6   dias_semana_sin         609846 non-null  float64\n",
      " 7   dias_semana_cos         609846 non-null  float64\n",
      " 8   hora                    609846 non-null  float64\n",
      " 9   minuto                  609846 non-null  float64\n",
      " 10  horario_sin             609846 non-null  float64\n",
      " 11  horario_cos             609846 non-null  float64\n",
      " 12  uf                      609846 non-null  object \n",
      " 13  causa_acidente          609846 non-null  object \n",
      " 14  tipo_acidente           609846 non-null  object \n",
      " 15  fase_dia                609846 non-null  object \n",
      " 16  condicao_metereologica  609846 non-null  object \n",
      " 17  tipo_pista              609846 non-null  object \n",
      " 18  tracado_via             609846 non-null  object \n",
      " 19  uso_solo                609846 non-null  object \n",
      " 20  tipo_veiculo            609846 non-null  object \n",
      " 21  ano_fabricacao_veiculo  609846 non-null  float64\n",
      " 22  tipo_envolvido          609846 non-null  object \n",
      " 23  idade                   609846 non-null  float64\n",
      " 24  sexo                    609846 non-null  object \n",
      " 25  latitude                609846 non-null  float64\n",
      " 26  longitude               609846 non-null  float64\n",
      " 27  ano                     609846 non-null  float64\n",
      " 28  ilesos                  609846 non-null  float64\n",
      " 29  feridos_cal             609846 non-null  float64\n",
      " 30  mortos                  609846 non-null  float64\n",
      " 31  classificacao_acidente  609846 non-null  object \n",
      "dtypes: float64(17), int64(2), object(13)\n",
      "memory usage: 148.9+ MB\n"
     ]
    }
   ],
   "source": [
    "df.info()"
   ]
  },
  {
   "cell_type": "code",
   "execution_count": 117,
   "metadata": {},
   "outputs": [
    {
     "data": {
      "text/html": [
       "<div>\n",
       "<style scoped>\n",
       "    .dataframe tbody tr th:only-of-type {\n",
       "        vertical-align: middle;\n",
       "    }\n",
       "\n",
       "    .dataframe tbody tr th {\n",
       "        vertical-align: top;\n",
       "    }\n",
       "\n",
       "    .dataframe thead th {\n",
       "        text-align: right;\n",
       "    }\n",
       "</style>\n",
       "<table border=\"1\" class=\"dataframe\">\n",
       "  <thead>\n",
       "    <tr style=\"text-align: right;\">\n",
       "      <th></th>\n",
       "      <th>id</th>\n",
       "      <th>mes</th>\n",
       "      <th>mes_sin</th>\n",
       "      <th>mes_cos</th>\n",
       "      <th>dia</th>\n",
       "      <th>dia_semana</th>\n",
       "      <th>dias_semana_sin</th>\n",
       "      <th>dias_semana_cos</th>\n",
       "      <th>hora</th>\n",
       "      <th>minuto</th>\n",
       "      <th>horario_sin</th>\n",
       "      <th>horario_cos</th>\n",
       "      <th>uf</th>\n",
       "      <th>causa_acidente</th>\n",
       "      <th>tipo_acidente</th>\n",
       "      <th>fase_dia</th>\n",
       "      <th>condicao_metereologica</th>\n",
       "      <th>tipo_pista</th>\n",
       "      <th>tracado_via</th>\n",
       "      <th>uso_solo</th>\n",
       "      <th>tipo_veiculo</th>\n",
       "      <th>ano_fabricacao_veiculo</th>\n",
       "      <th>tipo_envolvido</th>\n",
       "      <th>idade</th>\n",
       "      <th>sexo</th>\n",
       "      <th>latitude</th>\n",
       "      <th>longitude</th>\n",
       "      <th>ano</th>\n",
       "      <th>ilesos</th>\n",
       "      <th>feridos_cal</th>\n",
       "      <th>mortos</th>\n",
       "      <th>classificacao_acidente</th>\n",
       "    </tr>\n",
       "  </thead>\n",
       "  <tbody>\n",
       "    <tr>\n",
       "      <th>418936</th>\n",
       "      <td>207828.0</td>\n",
       "      <td>5</td>\n",
       "      <td>5.000000e-01</td>\n",
       "      <td>-0.866025</td>\n",
       "      <td>7</td>\n",
       "      <td>terça-feira</td>\n",
       "      <td>0.974928</td>\n",
       "      <td>-0.222521</td>\n",
       "      <td>14.0</td>\n",
       "      <td>15.0</td>\n",
       "      <td>-0.555570</td>\n",
       "      <td>-0.831470</td>\n",
       "      <td>SP</td>\n",
       "      <td>Ingestão de Álcool</td>\n",
       "      <td>Colisão lateral</td>\n",
       "      <td>Pleno dia</td>\n",
       "      <td>Céu Claro</td>\n",
       "      <td>Simples</td>\n",
       "      <td>Reta</td>\n",
       "      <td>Rural</td>\n",
       "      <td>Caminhonete</td>\n",
       "      <td>2000.0</td>\n",
       "      <td>Condutor</td>\n",
       "      <td>41.0</td>\n",
       "      <td>Masculino</td>\n",
       "      <td>-22.732813</td>\n",
       "      <td>-45.098679</td>\n",
       "      <td>2019.0</td>\n",
       "      <td>0.0</td>\n",
       "      <td>1.0</td>\n",
       "      <td>0.0</td>\n",
       "      <td>Com Vítimas Feridas</td>\n",
       "    </tr>\n",
       "    <tr>\n",
       "      <th>90580</th>\n",
       "      <td>47772.0</td>\n",
       "      <td>6</td>\n",
       "      <td>1.224647e-16</td>\n",
       "      <td>-1.000000</td>\n",
       "      <td>21</td>\n",
       "      <td>quarta-feira</td>\n",
       "      <td>0.433884</td>\n",
       "      <td>-0.900969</td>\n",
       "      <td>8.0</td>\n",
       "      <td>0.0</td>\n",
       "      <td>0.866025</td>\n",
       "      <td>-0.500000</td>\n",
       "      <td>PA</td>\n",
       "      <td>Falta de Atenção à Condução</td>\n",
       "      <td>Colisão lateral</td>\n",
       "      <td>Pleno dia</td>\n",
       "      <td>Céu Claro</td>\n",
       "      <td>Dupla</td>\n",
       "      <td>Reta</td>\n",
       "      <td>Urbano</td>\n",
       "      <td>Caminhão-trator</td>\n",
       "      <td>2016.0</td>\n",
       "      <td>Condutor</td>\n",
       "      <td>36.0</td>\n",
       "      <td>Masculino</td>\n",
       "      <td>-5.360600</td>\n",
       "      <td>-49.080700</td>\n",
       "      <td>2017.0</td>\n",
       "      <td>1.0</td>\n",
       "      <td>0.0</td>\n",
       "      <td>0.0</td>\n",
       "      <td>Com Vítimas Feridas</td>\n",
       "    </tr>\n",
       "    <tr>\n",
       "      <th>75653</th>\n",
       "      <td>39801.0</td>\n",
       "      <td>5</td>\n",
       "      <td>5.000000e-01</td>\n",
       "      <td>-0.866025</td>\n",
       "      <td>22</td>\n",
       "      <td>segunda-feira</td>\n",
       "      <td>0.781831</td>\n",
       "      <td>0.623490</td>\n",
       "      <td>22.0</td>\n",
       "      <td>10.0</td>\n",
       "      <td>-0.461749</td>\n",
       "      <td>0.887011</td>\n",
       "      <td>MG</td>\n",
       "      <td>Falta de Atenção à Condução</td>\n",
       "      <td>Tombamento</td>\n",
       "      <td>Plena Noite</td>\n",
       "      <td>Céu Claro</td>\n",
       "      <td>Dupla</td>\n",
       "      <td>Curva</td>\n",
       "      <td>Rural</td>\n",
       "      <td>Caminhão-trator</td>\n",
       "      <td>2014.0</td>\n",
       "      <td>Condutor</td>\n",
       "      <td>25.0</td>\n",
       "      <td>Masculino</td>\n",
       "      <td>-21.648992</td>\n",
       "      <td>-45.299399</td>\n",
       "      <td>2017.0</td>\n",
       "      <td>0.0</td>\n",
       "      <td>1.0</td>\n",
       "      <td>0.0</td>\n",
       "      <td>Com Vítimas Feridas</td>\n",
       "    </tr>\n",
       "    <tr>\n",
       "      <th>511980</th>\n",
       "      <td>269798.0</td>\n",
       "      <td>2</td>\n",
       "      <td>8.660254e-01</td>\n",
       "      <td>0.500000</td>\n",
       "      <td>17</td>\n",
       "      <td>segunda-feira</td>\n",
       "      <td>0.781831</td>\n",
       "      <td>0.623490</td>\n",
       "      <td>4.0</td>\n",
       "      <td>50.0</td>\n",
       "      <td>0.953717</td>\n",
       "      <td>0.300706</td>\n",
       "      <td>SC</td>\n",
       "      <td>Defeito na Via</td>\n",
       "      <td>Saída de leito carroçável</td>\n",
       "      <td>Amanhecer</td>\n",
       "      <td>Garoa/Chuvisco</td>\n",
       "      <td>Simples</td>\n",
       "      <td>Desvio Temporário</td>\n",
       "      <td>Rural</td>\n",
       "      <td>Caminhão-trator</td>\n",
       "      <td>1986.0</td>\n",
       "      <td>Condutor</td>\n",
       "      <td>60.0</td>\n",
       "      <td>Masculino</td>\n",
       "      <td>-27.292120</td>\n",
       "      <td>-50.175362</td>\n",
       "      <td>2020.0</td>\n",
       "      <td>0.0</td>\n",
       "      <td>1.0</td>\n",
       "      <td>0.0</td>\n",
       "      <td>Com Vítimas Feridas</td>\n",
       "    </tr>\n",
       "    <tr>\n",
       "      <th>543051</th>\n",
       "      <td>269858.0</td>\n",
       "      <td>2</td>\n",
       "      <td>8.660254e-01</td>\n",
       "      <td>0.500000</td>\n",
       "      <td>17</td>\n",
       "      <td>segunda-feira</td>\n",
       "      <td>0.781831</td>\n",
       "      <td>0.623490</td>\n",
       "      <td>10.0</td>\n",
       "      <td>30.0</td>\n",
       "      <td>0.382683</td>\n",
       "      <td>-0.923880</td>\n",
       "      <td>BA</td>\n",
       "      <td>Ultrapassagem Indevida</td>\n",
       "      <td>Colisão frontal</td>\n",
       "      <td>Pleno dia</td>\n",
       "      <td>Céu Claro</td>\n",
       "      <td>Simples</td>\n",
       "      <td>Reta</td>\n",
       "      <td>Rural</td>\n",
       "      <td>Caminhonete</td>\n",
       "      <td>2012.0</td>\n",
       "      <td>Passageiro</td>\n",
       "      <td>25.0</td>\n",
       "      <td>Feminino</td>\n",
       "      <td>-12.412577</td>\n",
       "      <td>-38.459204</td>\n",
       "      <td>2020.0</td>\n",
       "      <td>1.0</td>\n",
       "      <td>0.0</td>\n",
       "      <td>0.0</td>\n",
       "      <td>Com Vítimas Feridas</td>\n",
       "    </tr>\n",
       "  </tbody>\n",
       "</table>\n",
       "</div>"
      ],
      "text/plain": [
       "              id  mes       mes_sin   mes_cos  dia     dia_semana  \\\n",
       "418936  207828.0    5  5.000000e-01 -0.866025    7    terça-feira   \n",
       "90580    47772.0    6  1.224647e-16 -1.000000   21   quarta-feira   \n",
       "75653    39801.0    5  5.000000e-01 -0.866025   22  segunda-feira   \n",
       "511980  269798.0    2  8.660254e-01  0.500000   17  segunda-feira   \n",
       "543051  269858.0    2  8.660254e-01  0.500000   17  segunda-feira   \n",
       "\n",
       "        dias_semana_sin  dias_semana_cos  hora  minuto  horario_sin  \\\n",
       "418936         0.974928        -0.222521  14.0    15.0    -0.555570   \n",
       "90580          0.433884        -0.900969   8.0     0.0     0.866025   \n",
       "75653          0.781831         0.623490  22.0    10.0    -0.461749   \n",
       "511980         0.781831         0.623490   4.0    50.0     0.953717   \n",
       "543051         0.781831         0.623490  10.0    30.0     0.382683   \n",
       "\n",
       "        horario_cos  uf               causa_acidente  \\\n",
       "418936    -0.831470  SP           Ingestão de Álcool   \n",
       "90580     -0.500000  PA  Falta de Atenção à Condução   \n",
       "75653      0.887011  MG  Falta de Atenção à Condução   \n",
       "511980     0.300706  SC               Defeito na Via   \n",
       "543051    -0.923880  BA       Ultrapassagem Indevida   \n",
       "\n",
       "                    tipo_acidente     fase_dia condicao_metereologica  \\\n",
       "418936            Colisão lateral    Pleno dia              Céu Claro   \n",
       "90580             Colisão lateral    Pleno dia              Céu Claro   \n",
       "75653                  Tombamento  Plena Noite              Céu Claro   \n",
       "511980  Saída de leito carroçável    Amanhecer         Garoa/Chuvisco   \n",
       "543051            Colisão frontal    Pleno dia              Céu Claro   \n",
       "\n",
       "       tipo_pista        tracado_via uso_solo     tipo_veiculo  \\\n",
       "418936    Simples               Reta    Rural      Caminhonete   \n",
       "90580       Dupla               Reta   Urbano  Caminhão-trator   \n",
       "75653       Dupla              Curva    Rural  Caminhão-trator   \n",
       "511980    Simples  Desvio Temporário    Rural  Caminhão-trator   \n",
       "543051    Simples               Reta    Rural      Caminhonete   \n",
       "\n",
       "        ano_fabricacao_veiculo tipo_envolvido  idade       sexo   latitude  \\\n",
       "418936                  2000.0       Condutor   41.0  Masculino -22.732813   \n",
       "90580                   2016.0       Condutor   36.0  Masculino  -5.360600   \n",
       "75653                   2014.0       Condutor   25.0  Masculino -21.648992   \n",
       "511980                  1986.0       Condutor   60.0  Masculino -27.292120   \n",
       "543051                  2012.0     Passageiro   25.0   Feminino -12.412577   \n",
       "\n",
       "        longitude     ano  ilesos  feridos_cal  mortos classificacao_acidente  \n",
       "418936 -45.098679  2019.0     0.0          1.0     0.0    Com Vítimas Feridas  \n",
       "90580  -49.080700  2017.0     1.0          0.0     0.0    Com Vítimas Feridas  \n",
       "75653  -45.299399  2017.0     0.0          1.0     0.0    Com Vítimas Feridas  \n",
       "511980 -50.175362  2020.0     0.0          1.0     0.0    Com Vítimas Feridas  \n",
       "543051 -38.459204  2020.0     1.0          0.0     0.0    Com Vítimas Feridas  "
      ]
     },
     "execution_count": 117,
     "metadata": {},
     "output_type": "execute_result"
    }
   ],
   "source": [
    "df.sample(5)"
   ]
  },
  {
   "cell_type": "code",
   "execution_count": 118,
   "metadata": {},
   "outputs": [],
   "source": [
    "'''Variaveis ciclicas modeladas'''\n",
    "\n",
    "\n",
    "df.to_csv('df_acidentes_v2.csv',index=False)"
   ]
  },
  {
   "cell_type": "code",
   "execution_count": 119,
   "metadata": {},
   "outputs": [
    {
     "data": {
      "text/plain": [
       "<seaborn.axisgrid.PairGrid at 0x21b474a9c10>"
      ]
     },
     "execution_count": 119,
     "metadata": {},
     "output_type": "execute_result"
    },
    {
     "data": {
      "image/png": "[encoded data removed]",
      "text/plain": [
       "<Figure size 360x360 with 6 Axes>"
      ]
     },
     "metadata": {
      "needs_background": "light"
     },
     "output_type": "display_data"
    }
   ],
   "source": [
    "sns.pairplot(df[['latitude','longitude']])"
   ]
  },
  {
   "cell_type": "code",
   "execution_count": 120,
   "metadata": {},
   "outputs": [
    {
     "data": {
      "text/plain": [
       "id                        0\n",
       "mes                       0\n",
       "mes_sin                   0\n",
       "mes_cos                   0\n",
       "dia                       0\n",
       "dia_semana                0\n",
       "dias_semana_sin           0\n",
       "dias_semana_cos           0\n",
       "hora                      0\n",
       "minuto                    0\n",
       "horario_sin               0\n",
       "horario_cos               0\n",
       "uf                        0\n",
       "causa_acidente            0\n",
       "tipo_acidente             0\n",
       "fase_dia                  0\n",
       "condicao_metereologica    0\n",
       "tipo_pista                0\n",
       "tracado_via               0\n",
       "uso_solo                  0\n",
       "tipo_veiculo              0\n",
       "ano_fabricacao_veiculo    0\n",
       "tipo_envolvido            0\n",
       "idade                     0\n",
       "sexo                      0\n",
       "latitude                  0\n",
       "longitude                 0\n",
       "ano                       0\n",
       "ilesos                    0\n",
       "feridos_cal               0\n",
       "mortos                    0\n",
       "classificacao_acidente    0\n",
       "dtype: int64"
      ]
     },
     "execution_count": 120,
     "metadata": {},
     "output_type": "execute_result"
    }
   ],
   "source": [
    "df.isnull().sum()\n"
   ]
  }
 ],
 "metadata": {
  "kernelspec": {
   "display_name": "Python 3",
   "language": "python",
   "name": "python3"
  },
  "language_info": {
   "codemirror_mode": {
    "name": "ipython",
    "version": 3
   },
   "file_extension": ".py",
   "mimetype": "text/x-python",
   "name": "python",
   "nbconvert_exporter": "python",
   "pygments_lexer": "ipython3",
   "version": "3.8.5"
  }
 },
 "nbformat": 4,
 "nbformat_minor": 4
}
