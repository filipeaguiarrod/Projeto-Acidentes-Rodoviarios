{
 "cells": [
  {
   "cell_type": "markdown",
   "metadata": {
    "id": "9ssCYWh0BgtV"
   },
   "source": [
    "## Importação de Bibliotecas"
   ]
  },
  {
   "cell_type": "code",
   "execution_count": 108,
   "metadata": {
    "id": "l6FovbwsBa3l"
   },
   "outputs": [],
   "source": [
    "import numpy as np\n",
    "import pandas as pd\n",
    "import seaborn as sns\n",
    "import missingno as msno\n",
    "import matplotlib.pyplot as plt\n",
    "from sklearn.model_selection import train_test_split"
   ]
  },
  {
   "cell_type": "markdown",
   "metadata": {
    "id": "GcNtijR5Ba3v"
   },
   "source": [
    "## Visualizando os dados\r\n",
    "\r\n"
   ]
  },
  {
   "cell_type": "markdown",
   "metadata": {
    "id": "IgBh_pUBB6Br"
   },
   "source": [
    "Importação dos Datasets obtidos no site da Policia Rodoviaria Federal \r\n",
    "https://antigo.prf.gov.br/dados-abertos-acidentes"
   ]
  },
  {
   "cell_type": "code",
   "execution_count": null,
   "metadata": {
    "collapsed": true,
    "id": "wTQmTCBoBa3w",
    "jupyter": {
     "outputs_hidden": true,
     "source_hidden": true
    }
   },
   "outputs": [],
   "source": [
    "df_17 = pd.read_excel('acidentes2017.xlsx')\n",
    "df_18 = pd.read_excel('acidentes2018.xlsx')\n",
    "df_19 = pd.read_excel('acidentes2019.xlsx')\n",
    "df_20 = pd.read_excel('acidentes2020.xlsx')"
   ]
  },
  {
   "cell_type": "markdown",
   "metadata": {
    "id": "cH4f4CkNCLT-"
   },
   "source": [
    "Verificação dos datasets que iremos utilizar"
   ]
  },
  {
   "cell_type": "code",
   "execution_count": null,
   "metadata": {
    "collapsed": true,
    "id": "1EGrQS2_Ba3w",
    "jupyter": {
     "outputs_hidden": true,
     "source_hidden": true
    },
    "outputId": "68e3e968-17d2-464c-ce1e-d1a5a23eaf16"
   },
   "outputs": [
    {
     "name": "stdout",
     "output_type": "stream",
     "text": [
      "<class 'pandas.core.frame.DataFrame'>\n",
      "RangeIndex: 204395 entries, 0 to 204394\n",
      "Data columns (total 35 columns):\n",
      " #   Column                  Non-Null Count   Dtype         \n",
      "---  ------                  --------------   -----         \n",
      " 0   id                      204395 non-null  int64         \n",
      " 1   pesid                   204394 non-null  float64       \n",
      " 2   data_inversa            204395 non-null  datetime64[ns]\n",
      " 3   dia_semana              204395 non-null  object        \n",
      " 4   horario                 204395 non-null  object        \n",
      " 5   uf                      204395 non-null  object        \n",
      " 6   br                      204071 non-null  float64       \n",
      " 7   km                      204071 non-null  float64       \n",
      " 8   municipio               204395 non-null  object        \n",
      " 9   causa_acidente          204395 non-null  object        \n",
      " 10  tipo_acidente           204395 non-null  object        \n",
      " 11  classificacao_acidente  204395 non-null  object        \n",
      " 12  fase_dia                204395 non-null  object        \n",
      " 13  sentido_via             204395 non-null  object        \n",
      " 14  condicao_metereologica  204395 non-null  object        \n",
      " 15  tipo_pista              204395 non-null  object        \n",
      " 16  tracado_via             204395 non-null  object        \n",
      " 17  uso_solo                204395 non-null  object        \n",
      " 18  id_veiculo              204391 non-null  float64       \n",
      " 19  tipo_veiculo            204395 non-null  object        \n",
      " 20  marca                   195211 non-null  object        \n",
      " 21  ano_fabricacao_veiculo  194327 non-null  float64       \n",
      " 22  tipo_envolvido          204395 non-null  object        \n",
      " 23  estado_fisico           204395 non-null  object        \n",
      " 24  idade                   187182 non-null  float64       \n",
      " 25  sexo                    204395 non-null  object        \n",
      " 26  ilesos                  204395 non-null  int64         \n",
      " 27  feridos_leves           204395 non-null  int64         \n",
      " 28  feridos_graves          204395 non-null  int64         \n",
      " 29  mortos                  204395 non-null  int64         \n",
      " 30  latitude                204395 non-null  float64       \n",
      " 31  longitude               204395 non-null  float64       \n",
      " 32  regional                204395 non-null  object        \n",
      " 33  delegacia               204395 non-null  object        \n",
      " 34  uop                     194583 non-null  object        \n",
      "dtypes: datetime64[ns](1), float64(8), int64(5), object(21)\n",
      "memory usage: 54.6+ MB\n"
     ]
    }
   ],
   "source": [
    "df_17.info()"
   ]
  },
  {
   "cell_type": "code",
   "execution_count": null,
   "metadata": {
    "collapsed": true,
    "id": "l29u6-eABa3y",
    "jupyter": {
     "outputs_hidden": true
    },
    "outputId": "7d92ecb6-7135-413a-f337-1adacc8e77e5"
   },
   "outputs": [
    {
     "name": "stdout",
     "output_type": "stream",
     "text": [
      "<class 'pandas.core.frame.DataFrame'>\n",
      "RangeIndex: 164802 entries, 0 to 164801\n",
      "Data columns (total 35 columns):\n",
      " #   Column                  Non-Null Count   Dtype         \n",
      "---  ------                  --------------   -----         \n",
      " 0   id                      164802 non-null  int64         \n",
      " 1   pesid                   164801 non-null  float64       \n",
      " 2   data_inversa            164802 non-null  datetime64[ns]\n",
      " 3   dia_semana              164802 non-null  object        \n",
      " 4   horario                 164802 non-null  object        \n",
      " 5   uf                      164802 non-null  object        \n",
      " 6   br                      164564 non-null  float64       \n",
      " 7   km                      164564 non-null  float64       \n",
      " 8   municipio               164802 non-null  object        \n",
      " 9   causa_acidente          164802 non-null  object        \n",
      " 10  tipo_acidente           164802 non-null  object        \n",
      " 11  classificacao_acidente  164802 non-null  object        \n",
      " 12  fase_dia                164802 non-null  object        \n",
      " 13  sentido_via             164802 non-null  object        \n",
      " 14  condicao_metereologica  164802 non-null  object        \n",
      " 15  tipo_pista              164802 non-null  object        \n",
      " 16  tracado_via             164802 non-null  object        \n",
      " 17  uso_solo                164802 non-null  object        \n",
      " 18  id_veiculo              164802 non-null  int64         \n",
      " 19  tipo_veiculo            164802 non-null  object        \n",
      " 20  marca                   156971 non-null  object        \n",
      " 21  ano_fabricacao_veiculo  155537 non-null  float64       \n",
      " 22  tipo_envolvido          164802 non-null  object        \n",
      " 23  estado_fisico           164802 non-null  object        \n",
      " 24  idade                   149249 non-null  float64       \n",
      " 25  sexo                    164802 non-null  object        \n",
      " 26  ilesos                  164802 non-null  int64         \n",
      " 27  feridos_leves           164802 non-null  int64         \n",
      " 28  feridos_graves          164802 non-null  int64         \n",
      " 29  mortos                  164802 non-null  int64         \n",
      " 30  latitude                164802 non-null  float64       \n",
      " 31  longitude               164802 non-null  float64       \n",
      " 32  regional                164802 non-null  object        \n",
      " 33  delegacia               164802 non-null  object        \n",
      " 34  uop                     156320 non-null  object        \n",
      "dtypes: datetime64[ns](1), float64(7), int64(6), object(21)\n",
      "memory usage: 44.0+ MB\n"
     ]
    }
   ],
   "source": [
    "df_18.info()"
   ]
  },
  {
   "cell_type": "code",
   "execution_count": null,
   "metadata": {
    "collapsed": true,
    "id": "5cqNdB_PBa3y",
    "jupyter": {
     "outputs_hidden": true,
     "source_hidden": true
    },
    "outputId": "ea55ae4e-c2b5-4c63-a046-dcec24b2f6e8"
   },
   "outputs": [
    {
     "name": "stdout",
     "output_type": "stream",
     "text": [
      "<class 'pandas.core.frame.DataFrame'>\n",
      "RangeIndex: 162273 entries, 0 to 162272\n",
      "Data columns (total 35 columns):\n",
      " #   Column                  Non-Null Count   Dtype         \n",
      "---  ------                  --------------   -----         \n",
      " 0   id                      162273 non-null  int64         \n",
      " 1   pesid                   162272 non-null  float64       \n",
      " 2   data_inversa            162273 non-null  datetime64[ns]\n",
      " 3   dia_semana              162273 non-null  object        \n",
      " 4   horario                 162273 non-null  object        \n",
      " 5   uf                      162273 non-null  object        \n",
      " 6   br                      162042 non-null  float64       \n",
      " 7   km                      162042 non-null  float64       \n",
      " 8   municipio               162273 non-null  object        \n",
      " 9   causa_acidente          162273 non-null  object        \n",
      " 10  tipo_acidente           162273 non-null  object        \n",
      " 11  classificacao_acidente  162273 non-null  object        \n",
      " 12  fase_dia                162273 non-null  object        \n",
      " 13  sentido_via             162273 non-null  object        \n",
      " 14  condicao_metereologica  162273 non-null  object        \n",
      " 15  tipo_pista              162273 non-null  object        \n",
      " 16  tracado_via             162273 non-null  object        \n",
      " 17  uso_solo                162273 non-null  object        \n",
      " 18  id_veiculo              162273 non-null  int64         \n",
      " 19  tipo_veiculo            162273 non-null  object        \n",
      " 20  marca                   154122 non-null  object        \n",
      " 21  ano_fabricacao_veiculo  152353 non-null  float64       \n",
      " 22  tipo_envolvido          162273 non-null  object        \n",
      " 23  estado_fisico           162273 non-null  object        \n",
      " 24  idade                   146514 non-null  float64       \n",
      " 25  sexo                    162273 non-null  object        \n",
      " 26  ilesos                  162273 non-null  int64         \n",
      " 27  feridos_leves           162273 non-null  int64         \n",
      " 28  feridos_graves          162273 non-null  int64         \n",
      " 29  mortos                  162273 non-null  int64         \n",
      " 30  latitude                162273 non-null  float64       \n",
      " 31  longitude               162273 non-null  float64       \n",
      " 32  regional                162273 non-null  object        \n",
      " 33  delegacia               162273 non-null  object        \n",
      " 34  uop                     153754 non-null  object        \n",
      "dtypes: datetime64[ns](1), float64(7), int64(6), object(21)\n",
      "memory usage: 43.3+ MB\n"
     ]
    }
   ],
   "source": [
    "df_19.info()"
   ]
  },
  {
   "cell_type": "code",
   "execution_count": null,
   "metadata": {
    "collapsed": true,
    "id": "i2g18QPABa3z",
    "jupyter": {
     "outputs_hidden": true,
     "source_hidden": true
    },
    "outputId": "ac4788d6-6bf9-435d-cb97-a36359b95443"
   },
   "outputs": [
    {
     "name": "stdout",
     "output_type": "stream",
     "text": [
      "<class 'pandas.core.frame.DataFrame'>\n",
      "RangeIndex: 104383 entries, 0 to 104382\n",
      "Data columns (total 35 columns):\n",
      " #   Column                  Non-Null Count   Dtype         \n",
      "---  ------                  --------------   -----         \n",
      " 0   id                      104383 non-null  int64         \n",
      " 1   pesid                   104382 non-null  float64       \n",
      " 2   data_inversa            104383 non-null  datetime64[ns]\n",
      " 3   dia_semana              104383 non-null  object        \n",
      " 4   horario                 104383 non-null  object        \n",
      " 5   uf                      104383 non-null  object        \n",
      " 6   br                      104089 non-null  float64       \n",
      " 7   km                      104089 non-null  float64       \n",
      " 8   municipio               104383 non-null  object        \n",
      " 9   causa_acidente          104383 non-null  object        \n",
      " 10  tipo_acidente           104383 non-null  object        \n",
      " 11  classificacao_acidente  104383 non-null  object        \n",
      " 12  fase_dia                104383 non-null  object        \n",
      " 13  sentido_via             104383 non-null  object        \n",
      " 14  condicao_metereologica  104383 non-null  object        \n",
      " 15  tipo_pista              104383 non-null  object        \n",
      " 16  tracado_via             104383 non-null  object        \n",
      " 17  uso_solo                104383 non-null  object        \n",
      " 18  id_veiculo              104383 non-null  int64         \n",
      " 19  tipo_veiculo            104383 non-null  object        \n",
      " 20  marca                   98472 non-null   object        \n",
      " 21  ano_fabricacao_veiculo  97151 non-null   float64       \n",
      " 22  tipo_envolvido          104383 non-null  object        \n",
      " 23  estado_fisico           104383 non-null  object        \n",
      " 24  idade                   93970 non-null   float64       \n",
      " 25  sexo                    104383 non-null  object        \n",
      " 26  ilesos                  104383 non-null  int64         \n",
      " 27  feridos_leves           104383 non-null  int64         \n",
      " 28  feridos_graves          104383 non-null  int64         \n",
      " 29  mortos                  104383 non-null  int64         \n",
      " 30  latitude                104383 non-null  float64       \n",
      " 31  longitude               104383 non-null  float64       \n",
      " 32  regional                104383 non-null  object        \n",
      " 33  delegacia               104383 non-null  object        \n",
      " 34  uop                     103363 non-null  object        \n",
      "dtypes: datetime64[ns](1), float64(7), int64(6), object(21)\n",
      "memory usage: 27.9+ MB\n"
     ]
    }
   ],
   "source": [
    "df_20.info()"
   ]
  },
  {
   "cell_type": "markdown",
   "metadata": {
    "id": "ljcx1scnCnpi"
   },
   "source": [
    "Criação de uma Coluna em cada Dataset contendo o Ano da ocorrência "
   ]
  },
  {
   "cell_type": "code",
   "execution_count": null,
   "metadata": {
    "collapsed": true,
    "id": "HRBgCO7UBa3z",
    "jupyter": {
     "outputs_hidden": true,
     "source_hidden": true
    }
   },
   "outputs": [],
   "source": [
    "df_17['ano']=2017\n",
    "df_18['ano']=2018\n",
    "df_19['ano']=2019\n",
    "df_20['ano']=2020"
   ]
  },
  {
   "cell_type": "markdown",
   "metadata": {
    "id": "-fK0eXQACvhy"
   },
   "source": [
    "Criação de um único Dataset"
   ]
  },
  {
   "cell_type": "code",
   "execution_count": null,
   "metadata": {
    "collapsed": true,
    "id": "2f-8AU4QBa30",
    "jupyter": {
     "outputs_hidden": true,
     "source_hidden": true
    }
   },
   "outputs": [],
   "source": [
    "df_17_20 = pd.concat([df_17,df_18,df_19,df_20])"
   ]
  },
  {
   "cell_type": "markdown",
   "metadata": {
    "id": "W35OJSMvC1tk"
   },
   "source": [
    "Exportação do Dataset unificado com o nome **df_17_20.csv**"
   ]
  },
  {
   "cell_type": "code",
   "execution_count": null,
   "metadata": {
    "collapsed": true,
    "id": "ozUPWVlmBa30",
    "jupyter": {
     "outputs_hidden": true,
     "source_hidden": true
    }
   },
   "outputs": [],
   "source": [
    "df_17_20.to_csv('df_17_20.csv',index=False)"
   ]
  },
  {
   "cell_type": "markdown",
   "metadata": {},
   "source": [
    "# Corrigindo o Latilon"
   ]
  },
  {
   "cell_type": "markdown",
   "metadata": {},
   "source": [
    " A correção do latilon foi feita através do notebook: Crrecao_Latilon devido ao tamanho do código;\n",
    "  \n",
    " Como saíde do Correcao Latilon = 'df_17_20_v02.csv' que iremos resgatar \n",
    " \n",
    " 'df_17_20' é um backup quando nao foi considerado a utilização do latilon"
   ]
  },
  {
   "cell_type": "markdown",
   "metadata": {
    "id": "LGIJWJYlBa4C"
   },
   "source": [
    "## Analisando dados"
   ]
  },
  {
   "cell_type": "markdown",
   "metadata": {
    "id": "knO2c3ezSjci"
   },
   "source": [
    "Verificando as informações do Dataset"
   ]
  },
  {
   "cell_type": "code",
   "execution_count": 158,
   "metadata": {
    "id": "GDgpMgX3Ba4C"
   },
   "outputs": [],
   "source": [
    "df_17_20_indv = pd.read_csv('df_17_20_v02.csv')"
   ]
  },
  {
   "cell_type": "code",
   "execution_count": 159,
   "metadata": {
    "id": "4WK2_qf6Ba4D",
    "outputId": "c764a855-451c-4220-8388-9714b519627f"
   },
   "outputs": [
    {
     "name": "stdout",
     "output_type": "stream",
     "text": [
      "<class 'pandas.core.frame.DataFrame'>\n",
      "RangeIndex: 633662 entries, 0 to 633661\n",
      "Data columns (total 36 columns):\n",
      " #   Column                  Non-Null Count   Dtype  \n",
      "---  ------                  --------------   -----  \n",
      " 0   id                      633662 non-null  float64\n",
      " 1   pesid                   633658 non-null  float64\n",
      " 2   data_inversa            633662 non-null  object \n",
      " 3   dia_semana              633662 non-null  object \n",
      " 4   horario                 633662 non-null  object \n",
      " 5   uf                      633662 non-null  object \n",
      " 6   br                      632579 non-null  float64\n",
      " 7   km                      632579 non-null  float64\n",
      " 8   municipio               633662 non-null  object \n",
      " 9   causa_acidente          633662 non-null  object \n",
      " 10  tipo_acidente           633662 non-null  object \n",
      " 11  classificacao_acidente  633662 non-null  object \n",
      " 12  fase_dia                633662 non-null  object \n",
      " 13  sentido_via             633662 non-null  object \n",
      " 14  condicao_metereologica  633662 non-null  object \n",
      " 15  tipo_pista              633662 non-null  object \n",
      " 16  tracado_via             633662 non-null  object \n",
      " 17  uso_solo                633662 non-null  object \n",
      " 18  id_veiculo              633658 non-null  float64\n",
      " 19  tipo_veiculo            633662 non-null  object \n",
      " 20  marca                   602777 non-null  object \n",
      " 21  ano_fabricacao_veiculo  597393 non-null  float64\n",
      " 22  tipo_envolvido          633662 non-null  object \n",
      " 23  estado_fisico           633662 non-null  object \n",
      " 24  idade                   575021 non-null  float64\n",
      " 25  sexo                    633662 non-null  object \n",
      " 26  ilesos                  633662 non-null  float64\n",
      " 27  feridos_leves           633662 non-null  float64\n",
      " 28  feridos_graves          633662 non-null  float64\n",
      " 29  mortos                  633662 non-null  float64\n",
      " 30  latitude                633662 non-null  float64\n",
      " 31  longitude               633662 non-null  float64\n",
      " 32  regional                633662 non-null  object \n",
      " 33  delegacia               633662 non-null  object \n",
      " 34  uop                     605832 non-null  object \n",
      " 35  ano                     633662 non-null  float64\n",
      "dtypes: float64(14), object(22)\n",
      "memory usage: 174.0+ MB\n"
     ]
    }
   ],
   "source": [
    "df_17_20_indv.info()"
   ]
  },
  {
   "cell_type": "markdown",
   "metadata": {
    "id": "G4UT9-koTrVq"
   },
   "source": [
    "Verificando Colunas"
   ]
  },
  {
   "cell_type": "code",
   "execution_count": 160,
   "metadata": {
    "id": "9e77vg3uBa4D",
    "outputId": "a9cdc7ec-0e34-4d50-ec0a-fa1b4478424e"
   },
   "outputs": [
    {
     "data": {
      "text/plain": [
       "Index(['id', 'pesid', 'data_inversa', 'dia_semana', 'horario', 'uf', 'br',\n",
       "       'km', 'municipio', 'causa_acidente', 'tipo_acidente',\n",
       "       'classificacao_acidente', 'fase_dia', 'sentido_via',\n",
       "       'condicao_metereologica', 'tipo_pista', 'tracado_via', 'uso_solo',\n",
       "       'id_veiculo', 'tipo_veiculo', 'marca', 'ano_fabricacao_veiculo',\n",
       "       'tipo_envolvido', 'estado_fisico', 'idade', 'sexo', 'ilesos',\n",
       "       'feridos_leves', 'feridos_graves', 'mortos', 'latitude', 'longitude',\n",
       "       'regional', 'delegacia', 'uop', 'ano'],\n",
       "      dtype='object')"
      ]
     },
     "execution_count": 160,
     "metadata": {},
     "output_type": "execute_result"
    }
   ],
   "source": [
    "df_17_20_indv.columns"
   ]
  },
  {
   "cell_type": "markdown",
   "metadata": {
    "id": "YM3OmddLTuMq"
   },
   "source": [
    "Criando uma nova variável com as colunas que iremos utilizar, e recebendo o nome de **df_17_20_indv_cut**"
   ]
  },
  {
   "cell_type": "code",
   "execution_count": 161,
   "metadata": {
    "id": "DSM-YRe_Ba4I"
   },
   "outputs": [],
   "source": [
    "df_17_20_indv_cut = df_17_20_indv[['id','data_inversa', 'dia_semana', 'horario', 'uf', 'causa_acidente', 'tipo_acidente',\n",
    "       'classificacao_acidente', 'fase_dia',\n",
    "       'condicao_metereologica', 'tipo_pista', 'tracado_via', 'uso_solo',\n",
    "       'tipo_veiculo', 'ano_fabricacao_veiculo',\n",
    "       'tipo_envolvido', 'idade', 'sexo', 'ilesos',\n",
    "       'mortos', 'latitude', 'longitude', 'ano']].copy()"
   ]
  },
  {
   "cell_type": "markdown",
   "metadata": {
    "id": "VnLy1dFTT6EF"
   },
   "source": [
    "Na nova variável, decidimos agrupar a coluna de feridos leves e feridos graves em uma única coluna, onde a mesma recebe o nome de *feridos_cal*"
   ]
  },
  {
   "cell_type": "code",
   "execution_count": 162,
   "metadata": {
    "id": "TF08kB5LBa4I"
   },
   "outputs": [],
   "source": [
    "df_17_20_indv_cut['feridos_cal'] = df_17_20_indv['feridos_leves'] + df_17_20_indv['feridos_graves']"
   ]
  },
  {
   "cell_type": "markdown",
   "metadata": {
    "id": "O--j5juWUZdr"
   },
   "source": [
    "Como instrução presente no relatorio da Policia Rodoviaria Federal, quando o trecho possui asfalto, o mesmo recebe Sim, e quando não possui Asfalto, recebe o nome Não. Devido a este fator, decidimos substituir os valores escritos como *Sim* por *'Urbano'* e os com o valor igual a *Não* por *'Rural'*"
   ]
  },
  {
   "cell_type": "code",
   "execution_count": 163,
   "metadata": {
    "id": "ZFJ05FAqBa4J"
   },
   "outputs": [],
   "source": [
    "df_17_20_indv_cut.loc[df_17_20_indv_cut['uso_solo']=='Sim','uso_solo']='Urbano'\n",
    "df_17_20_indv_cut.loc[df_17_20_indv_cut['uso_solo']=='Não','uso_solo']='Rural'"
   ]
  },
  {
   "cell_type": "code",
   "execution_count": 164,
   "metadata": {
    "id": "i65bOdbEBa4J",
    "outputId": "937f20f4-88df-4da2-a7a7-25f3da4e8ade"
   },
   "outputs": [
    {
     "data": {
      "text/html": [
       "<div>\n",
       "<style scoped>\n",
       "    .dataframe tbody tr th:only-of-type {\n",
       "        vertical-align: middle;\n",
       "    }\n",
       "\n",
       "    .dataframe tbody tr th {\n",
       "        vertical-align: top;\n",
       "    }\n",
       "\n",
       "    .dataframe thead th {\n",
       "        text-align: right;\n",
       "    }\n",
       "</style>\n",
       "<table border=\"1\" class=\"dataframe\">\n",
       "  <thead>\n",
       "    <tr style=\"text-align: right;\">\n",
       "      <th></th>\n",
       "      <th>id</th>\n",
       "      <th>data_inversa</th>\n",
       "      <th>dia_semana</th>\n",
       "      <th>horario</th>\n",
       "      <th>uf</th>\n",
       "      <th>causa_acidente</th>\n",
       "      <th>tipo_acidente</th>\n",
       "      <th>classificacao_acidente</th>\n",
       "      <th>fase_dia</th>\n",
       "      <th>condicao_metereologica</th>\n",
       "      <th>...</th>\n",
       "      <th>ano_fabricacao_veiculo</th>\n",
       "      <th>tipo_envolvido</th>\n",
       "      <th>idade</th>\n",
       "      <th>sexo</th>\n",
       "      <th>ilesos</th>\n",
       "      <th>mortos</th>\n",
       "      <th>latitude</th>\n",
       "      <th>longitude</th>\n",
       "      <th>ano</th>\n",
       "      <th>feridos_cal</th>\n",
       "    </tr>\n",
       "  </thead>\n",
       "  <tbody>\n",
       "    <tr>\n",
       "      <th>127403</th>\n",
       "      <td>64304.0</td>\n",
       "      <td>2017-08-22</td>\n",
       "      <td>terça-feira</td>\n",
       "      <td>17:32:00</td>\n",
       "      <td>SP</td>\n",
       "      <td>Desobediência às normas de trânsito pelo condutor</td>\n",
       "      <td>Colisão traseira</td>\n",
       "      <td>Com Vítimas Feridas</td>\n",
       "      <td>Pleno dia</td>\n",
       "      <td>Nublado</td>\n",
       "      <td>...</td>\n",
       "      <td>2004.0</td>\n",
       "      <td>Condutor</td>\n",
       "      <td>73.0</td>\n",
       "      <td>Masculino</td>\n",
       "      <td>1.0</td>\n",
       "      <td>0.0</td>\n",
       "      <td>-23.467690</td>\n",
       "      <td>-46.506340</td>\n",
       "      <td>2017.0</td>\n",
       "      <td>0.0</td>\n",
       "    </tr>\n",
       "    <tr>\n",
       "      <th>568336</th>\n",
       "      <td>271966.0</td>\n",
       "      <td>2020-02-27</td>\n",
       "      <td>quinta-feira</td>\n",
       "      <td>07:20:00</td>\n",
       "      <td>PR</td>\n",
       "      <td>Falta de Atenção à Condução</td>\n",
       "      <td>Colisão transversal</td>\n",
       "      <td>Com Vítimas Feridas</td>\n",
       "      <td>Pleno dia</td>\n",
       "      <td>Céu Claro</td>\n",
       "      <td>...</td>\n",
       "      <td>2018.0</td>\n",
       "      <td>Condutor</td>\n",
       "      <td>49.0</td>\n",
       "      <td>Feminino</td>\n",
       "      <td>0.0</td>\n",
       "      <td>0.0</td>\n",
       "      <td>-26.194427</td>\n",
       "      <td>-52.672993</td>\n",
       "      <td>2020.0</td>\n",
       "      <td>1.0</td>\n",
       "    </tr>\n",
       "    <tr>\n",
       "      <th>224632</th>\n",
       "      <td>110967.0</td>\n",
       "      <td>2018-02-13</td>\n",
       "      <td>terça-feira</td>\n",
       "      <td>11:00:00</td>\n",
       "      <td>SP</td>\n",
       "      <td>Falta de Atenção à Condução</td>\n",
       "      <td>Colisão traseira</td>\n",
       "      <td>Com Vítimas Feridas</td>\n",
       "      <td>Pleno dia</td>\n",
       "      <td>Nublado</td>\n",
       "      <td>...</td>\n",
       "      <td>2012.0</td>\n",
       "      <td>Passageiro</td>\n",
       "      <td>15.0</td>\n",
       "      <td>Masculino</td>\n",
       "      <td>0.0</td>\n",
       "      <td>0.0</td>\n",
       "      <td>-22.909193</td>\n",
       "      <td>-45.318848</td>\n",
       "      <td>2018.0</td>\n",
       "      <td>1.0</td>\n",
       "    </tr>\n",
       "    <tr>\n",
       "      <th>501832</th>\n",
       "      <td>245854.0</td>\n",
       "      <td>2019-10-29</td>\n",
       "      <td>terça-feira</td>\n",
       "      <td>08:00:00</td>\n",
       "      <td>RJ</td>\n",
       "      <td>Não guardar distância de segurança</td>\n",
       "      <td>Colisão traseira</td>\n",
       "      <td>Com Vítimas Feridas</td>\n",
       "      <td>Pleno dia</td>\n",
       "      <td>Céu Claro</td>\n",
       "      <td>...</td>\n",
       "      <td>2000.0</td>\n",
       "      <td>Condutor</td>\n",
       "      <td>40.0</td>\n",
       "      <td>Feminino</td>\n",
       "      <td>1.0</td>\n",
       "      <td>0.0</td>\n",
       "      <td>-22.671343</td>\n",
       "      <td>-43.285854</td>\n",
       "      <td>2019.0</td>\n",
       "      <td>0.0</td>\n",
       "    </tr>\n",
       "    <tr>\n",
       "      <th>343605</th>\n",
       "      <td>172401.0</td>\n",
       "      <td>2018-11-18</td>\n",
       "      <td>domingo</td>\n",
       "      <td>12:50:00</td>\n",
       "      <td>PI</td>\n",
       "      <td>Avarias e/ou desgaste excessivo no pneu</td>\n",
       "      <td>Capotamento</td>\n",
       "      <td>Com Vítimas Fatais</td>\n",
       "      <td>Pleno dia</td>\n",
       "      <td>Céu Claro</td>\n",
       "      <td>...</td>\n",
       "      <td>2015.0</td>\n",
       "      <td>Condutor</td>\n",
       "      <td>34.0</td>\n",
       "      <td>Feminino</td>\n",
       "      <td>0.0</td>\n",
       "      <td>0.0</td>\n",
       "      <td>-4.760148</td>\n",
       "      <td>-42.111641</td>\n",
       "      <td>2018.0</td>\n",
       "      <td>1.0</td>\n",
       "    </tr>\n",
       "    <tr>\n",
       "      <th>308171</th>\n",
       "      <td>155514.0</td>\n",
       "      <td>2018-08-27</td>\n",
       "      <td>segunda-feira</td>\n",
       "      <td>00:05:00</td>\n",
       "      <td>PR</td>\n",
       "      <td>Ingestão de álcool e/ou substâncias psicoativa...</td>\n",
       "      <td>Colisão transversal</td>\n",
       "      <td>Com Vítimas Feridas</td>\n",
       "      <td>Plena Noite</td>\n",
       "      <td>Céu Claro</td>\n",
       "      <td>...</td>\n",
       "      <td>2012.0</td>\n",
       "      <td>Condutor</td>\n",
       "      <td>26.0</td>\n",
       "      <td>Masculino</td>\n",
       "      <td>0.0</td>\n",
       "      <td>0.0</td>\n",
       "      <td>-25.371910</td>\n",
       "      <td>-49.191460</td>\n",
       "      <td>2018.0</td>\n",
       "      <td>1.0</td>\n",
       "    </tr>\n",
       "    <tr>\n",
       "      <th>461125</th>\n",
       "      <td>222297.0</td>\n",
       "      <td>2019-07-15</td>\n",
       "      <td>segunda-feira</td>\n",
       "      <td>15:30:00</td>\n",
       "      <td>BA</td>\n",
       "      <td>Falta de Atenção à Condução</td>\n",
       "      <td>Saída de leito carroçável</td>\n",
       "      <td>Com Vítimas Feridas</td>\n",
       "      <td>Pleno dia</td>\n",
       "      <td>Céu Claro</td>\n",
       "      <td>...</td>\n",
       "      <td>2012.0</td>\n",
       "      <td>Condutor</td>\n",
       "      <td>36.0</td>\n",
       "      <td>Feminino</td>\n",
       "      <td>0.0</td>\n",
       "      <td>0.0</td>\n",
       "      <td>-12.519078</td>\n",
       "      <td>-38.970829</td>\n",
       "      <td>2019.0</td>\n",
       "      <td>1.0</td>\n",
       "    </tr>\n",
       "    <tr>\n",
       "      <th>441497</th>\n",
       "      <td>211366.0</td>\n",
       "      <td>2019-05-24</td>\n",
       "      <td>sexta-feira</td>\n",
       "      <td>04:20:00</td>\n",
       "      <td>PB</td>\n",
       "      <td>Desobediência às normas de trânsito pelo condutor</td>\n",
       "      <td>Colisão transversal</td>\n",
       "      <td>Com Vítimas Feridas</td>\n",
       "      <td>Amanhecer</td>\n",
       "      <td>Céu Claro</td>\n",
       "      <td>...</td>\n",
       "      <td>2017.0</td>\n",
       "      <td>Condutor</td>\n",
       "      <td>31.0</td>\n",
       "      <td>Masculino</td>\n",
       "      <td>1.0</td>\n",
       "      <td>0.0</td>\n",
       "      <td>-6.716068</td>\n",
       "      <td>-37.835083</td>\n",
       "      <td>2019.0</td>\n",
       "      <td>0.0</td>\n",
       "    </tr>\n",
       "    <tr>\n",
       "      <th>404442</th>\n",
       "      <td>190337.0</td>\n",
       "      <td>2019-02-09</td>\n",
       "      <td>sábado</td>\n",
       "      <td>18:52:00</td>\n",
       "      <td>MG</td>\n",
       "      <td>Defeito Mecânico no Veículo</td>\n",
       "      <td>Colisão com objeto estático</td>\n",
       "      <td>Com Vítimas Feridas</td>\n",
       "      <td>Pleno dia</td>\n",
       "      <td>Céu Claro</td>\n",
       "      <td>...</td>\n",
       "      <td>2011.0</td>\n",
       "      <td>Passageiro</td>\n",
       "      <td>4.0</td>\n",
       "      <td>Feminino</td>\n",
       "      <td>0.0</td>\n",
       "      <td>0.0</td>\n",
       "      <td>-19.762642</td>\n",
       "      <td>-48.135693</td>\n",
       "      <td>2019.0</td>\n",
       "      <td>1.0</td>\n",
       "    </tr>\n",
       "  </tbody>\n",
       "</table>\n",
       "<p>9 rows × 24 columns</p>\n",
       "</div>"
      ],
      "text/plain": [
       "              id data_inversa     dia_semana   horario  uf  \\\n",
       "127403   64304.0   2017-08-22    terça-feira  17:32:00  SP   \n",
       "568336  271966.0   2020-02-27   quinta-feira  07:20:00  PR   \n",
       "224632  110967.0   2018-02-13    terça-feira  11:00:00  SP   \n",
       "501832  245854.0   2019-10-29    terça-feira  08:00:00  RJ   \n",
       "343605  172401.0   2018-11-18        domingo  12:50:00  PI   \n",
       "308171  155514.0   2018-08-27  segunda-feira  00:05:00  PR   \n",
       "461125  222297.0   2019-07-15  segunda-feira  15:30:00  BA   \n",
       "441497  211366.0   2019-05-24    sexta-feira  04:20:00  PB   \n",
       "404442  190337.0   2019-02-09         sábado  18:52:00  MG   \n",
       "\n",
       "                                           causa_acidente  \\\n",
       "127403  Desobediência às normas de trânsito pelo condutor   \n",
       "568336                        Falta de Atenção à Condução   \n",
       "224632                        Falta de Atenção à Condução   \n",
       "501832                 Não guardar distância de segurança   \n",
       "343605            Avarias e/ou desgaste excessivo no pneu   \n",
       "308171  Ingestão de álcool e/ou substâncias psicoativa...   \n",
       "461125                        Falta de Atenção à Condução   \n",
       "441497  Desobediência às normas de trânsito pelo condutor   \n",
       "404442                        Defeito Mecânico no Veículo   \n",
       "\n",
       "                      tipo_acidente classificacao_acidente     fase_dia  \\\n",
       "127403             Colisão traseira    Com Vítimas Feridas    Pleno dia   \n",
       "568336          Colisão transversal    Com Vítimas Feridas    Pleno dia   \n",
       "224632             Colisão traseira    Com Vítimas Feridas    Pleno dia   \n",
       "501832             Colisão traseira    Com Vítimas Feridas    Pleno dia   \n",
       "343605                  Capotamento     Com Vítimas Fatais    Pleno dia   \n",
       "308171          Colisão transversal    Com Vítimas Feridas  Plena Noite   \n",
       "461125    Saída de leito carroçável    Com Vítimas Feridas    Pleno dia   \n",
       "441497          Colisão transversal    Com Vítimas Feridas    Amanhecer   \n",
       "404442  Colisão com objeto estático    Com Vítimas Feridas    Pleno dia   \n",
       "\n",
       "       condicao_metereologica  ... ano_fabricacao_veiculo tipo_envolvido  \\\n",
       "127403                Nublado  ...                 2004.0       Condutor   \n",
       "568336              Céu Claro  ...                 2018.0       Condutor   \n",
       "224632                Nublado  ...                 2012.0     Passageiro   \n",
       "501832              Céu Claro  ...                 2000.0       Condutor   \n",
       "343605              Céu Claro  ...                 2015.0       Condutor   \n",
       "308171              Céu Claro  ...                 2012.0       Condutor   \n",
       "461125              Céu Claro  ...                 2012.0       Condutor   \n",
       "441497              Céu Claro  ...                 2017.0       Condutor   \n",
       "404442              Céu Claro  ...                 2011.0     Passageiro   \n",
       "\n",
       "       idade       sexo  ilesos mortos   latitude  longitude     ano  \\\n",
       "127403  73.0  Masculino     1.0    0.0 -23.467690 -46.506340  2017.0   \n",
       "568336  49.0   Feminino     0.0    0.0 -26.194427 -52.672993  2020.0   \n",
       "224632  15.0  Masculino     0.0    0.0 -22.909193 -45.318848  2018.0   \n",
       "501832  40.0   Feminino     1.0    0.0 -22.671343 -43.285854  2019.0   \n",
       "343605  34.0   Feminino     0.0    0.0  -4.760148 -42.111641  2018.0   \n",
       "308171  26.0  Masculino     0.0    0.0 -25.371910 -49.191460  2018.0   \n",
       "461125  36.0   Feminino     0.0    0.0 -12.519078 -38.970829  2019.0   \n",
       "441497  31.0  Masculino     1.0    0.0  -6.716068 -37.835083  2019.0   \n",
       "404442   4.0   Feminino     0.0    0.0 -19.762642 -48.135693  2019.0   \n",
       "\n",
       "        feridos_cal  \n",
       "127403          0.0  \n",
       "568336          1.0  \n",
       "224632          1.0  \n",
       "501832          0.0  \n",
       "343605          1.0  \n",
       "308171          1.0  \n",
       "461125          1.0  \n",
       "441497          0.0  \n",
       "404442          1.0  \n",
       "\n",
       "[9 rows x 24 columns]"
      ]
     },
     "execution_count": 164,
     "metadata": {},
     "output_type": "execute_result"
    }
   ],
   "source": [
    "df_17_20_indv_cut.sample(9)"
   ]
  },
  {
   "cell_type": "markdown",
   "metadata": {
    "id": "yyBzGrdcVDnH"
   },
   "source": [
    "Verificação de valores únicos"
   ]
  },
  {
   "cell_type": "code",
   "execution_count": 165,
   "metadata": {
    "id": "nOgL2lcEBa4J",
    "outputId": "2f5b8310-187d-4b15-ac55-cdd9612300e4"
   },
   "outputs": [
    {
     "data": {
      "text/plain": [
       "id                        270703\n",
       "data_inversa                1369\n",
       "dia_semana                     7\n",
       "horario                     1436\n",
       "uf                            27\n",
       "causa_acidente                24\n",
       "tipo_acidente                 16\n",
       "classificacao_acidente         3\n",
       "fase_dia                       4\n",
       "condicao_metereologica        10\n",
       "tipo_pista                     3\n",
       "tracado_via                   10\n",
       "uso_solo                       2\n",
       "tipo_veiculo                  25\n",
       "ano_fabricacao_veiculo        70\n",
       "tipo_envolvido                 6\n",
       "idade                        194\n",
       "sexo                           4\n",
       "ilesos                         2\n",
       "mortos                         2\n",
       "latitude                  171657\n",
       "longitude                 171854\n",
       "ano                            4\n",
       "feridos_cal                    2\n",
       "dtype: int64"
      ]
     },
     "execution_count": 165,
     "metadata": {},
     "output_type": "execute_result"
    }
   ],
   "source": [
    "df_17_20_indv_cut.nunique()"
   ]
  },
  {
   "cell_type": "markdown",
   "metadata": {
    "id": "NluRMhBrVT_J"
   },
   "source": [
    "Verificação dos Dados mais presentes nas Colunas"
   ]
  },
  {
   "cell_type": "code",
   "execution_count": 166,
   "metadata": {
    "id": "FQ3awtoZBa4K",
    "outputId": "da41c238-8915-420d-81d0-fc8d165e3f8e"
   },
   "outputs": [
    {
     "data": {
      "text/plain": [
       "Falta de Atenção à Condução                                                       240186\n",
       "Desobediência às normas de trânsito pelo condutor                                  72238\n",
       "Velocidade Incompatível                                                            57852\n",
       "Não guardar distância de segurança                                                 47856\n",
       "Ingestão de Álcool                                                                 47464\n",
       "Defeito Mecânico no Veículo                                                        28575\n",
       "Condutor Dormindo                                                                  22284\n",
       "Pista Escorregadia                                                                 21260\n",
       "Falta de Atenção do Pedestre                                                       18017\n",
       "Ultrapassagem Indevida                                                             16605\n",
       "Animais na Pista                                                                   12511\n",
       "Defeito na Via                                                                      8350\n",
       "Avarias e/ou desgaste excessivo no pneu                                             8304\n",
       "Restrição de Visibilidade                                                           5818\n",
       "Mal Súbito                                                                          5300\n",
       "Objeto estático sobre o leito carroçável                                            4487\n",
       "Sinalização da via insuficiente ou inadequada                                       2780\n",
       "Carga excessiva e/ou mal acondicionada                                              2360\n",
       "Desobediência às normas de trânsito pelo pedestre                                   2326\n",
       "Fenômenos da Natureza                                                               2197\n",
       "Ingestão de álcool e/ou substâncias psicoativas pelo pedestre                       2108\n",
       "Agressão Externa                                                                    2074\n",
       "Deficiência ou não Acionamento do Sistema de Iluminação/Sinalização do Veículo      2014\n",
       "Ingestão de Substâncias Psicoativas                                                  696\n",
       "Name: causa_acidente, dtype: int64"
      ]
     },
     "execution_count": 166,
     "metadata": {},
     "output_type": "execute_result"
    }
   ],
   "source": [
    "df_17_20_indv_cut['causa_acidente'].value_counts()"
   ]
  },
  {
   "cell_type": "code",
   "execution_count": 167,
   "metadata": {
    "id": "7Jg3vYOkBa4K",
    "outputId": "b4c98627-7b32-496b-b3e8-cf676be6678d"
   },
   "outputs": [
    {
     "data": {
      "text/plain": [
       "Colisão traseira                   143929\n",
       "Colisão transversal                 89515\n",
       "Colisão lateral                     87419\n",
       "Saída de leito carroçável           80607\n",
       "Colisão frontal                     58389\n",
       "Colisão com objeto estático         34156\n",
       "Tombamento                          29906\n",
       "Atropelamento de Pedestre           29772\n",
       "Capotamento                         22597\n",
       "Engavetamento                       18260\n",
       "Queda de ocupante de veículo        17365\n",
       "Atropelamento de Animal              9449\n",
       "Incêndio                             5395\n",
       "Colisão com objeto em movimento      3690\n",
       "Danos eventuais                      1718\n",
       "Derramamento de carga                1495\n",
       "Name: tipo_acidente, dtype: int64"
      ]
     },
     "execution_count": 167,
     "metadata": {},
     "output_type": "execute_result"
    }
   ],
   "source": [
    "df_17_20_indv_cut['tipo_acidente'].value_counts()"
   ]
  },
  {
   "cell_type": "code",
   "execution_count": 168,
   "metadata": {
    "id": "hnn55hP3Ba4K",
    "outputId": "d468238e-9cc9-4f69-fdce-fef36a6970e7"
   },
   "outputs": [
    {
     "data": {
      "text/plain": [
       "Com Vítimas Feridas    455198\n",
       "Sem Vítimas            122520\n",
       "Com Vítimas Fatais      55944\n",
       "Name: classificacao_acidente, dtype: int64"
      ]
     },
     "execution_count": 168,
     "metadata": {},
     "output_type": "execute_result"
    }
   ],
   "source": [
    "df_17_20_indv_cut['classificacao_acidente'].value_counts()"
   ]
  },
  {
   "cell_type": "code",
   "execution_count": 169,
   "metadata": {
    "id": "X4y0oSwoBa4L",
    "outputId": "f88d94cd-447d-4bfb-f63f-d11284b77967"
   },
   "outputs": [
    {
     "data": {
      "text/plain": [
       "Pleno dia      352988\n",
       "Plena Noite    214055\n",
       "Anoitecer       36759\n",
       "Amanhecer       29860\n",
       "Name: fase_dia, dtype: int64"
      ]
     },
     "execution_count": 169,
     "metadata": {},
     "output_type": "execute_result"
    }
   ],
   "source": [
    "df_17_20_indv_cut['fase_dia'].value_counts()"
   ]
  },
  {
   "cell_type": "code",
   "execution_count": 170,
   "metadata": {
    "id": "oalDrYbkBa4L",
    "outputId": "6098a3ff-36d6-459f-83ea-f9fcddf4fd4b"
   },
   "outputs": [
    {
     "data": {
      "text/plain": [
       "Céu Claro           359902\n",
       "Nublado             109461\n",
       "Chuva                76754\n",
       "Sol                  50292\n",
       "Garoa/Chuvisco       21301\n",
       "Ignorado              8794\n",
       "Nevoeiro/Neblina      5923\n",
       "Vento                 1216\n",
       "Granizo                 14\n",
       "Neve                     5\n",
       "Name: condicao_metereologica, dtype: int64"
      ]
     },
     "execution_count": 170,
     "metadata": {},
     "output_type": "execute_result"
    }
   ],
   "source": [
    "df_17_20_indv_cut['condicao_metereologica'].value_counts()"
   ]
  },
  {
   "cell_type": "markdown",
   "metadata": {
    "id": "CXYypiz5Vytb"
   },
   "source": [
    "Como possuimos valores \"*Ignorado\"*, decidimos substitui-los por Nulo"
   ]
  },
  {
   "cell_type": "code",
   "execution_count": 171,
   "metadata": {
    "id": "eFdoj8p_Ba4L"
   },
   "outputs": [],
   "source": [
    "df_17_20_indv_cut['condicao_metereologica'].replace('Ignorado',np.nan,inplace=True)"
   ]
  },
  {
   "cell_type": "code",
   "execution_count": 172,
   "metadata": {
    "id": "GIPFY1fCBa4M",
    "outputId": "b98aaab7-3e6b-4b2a-c4b9-4eb92f35f25c"
   },
   "outputs": [
    {
     "data": {
      "text/plain": [
       "Simples     338933\n",
       "Dupla       247541\n",
       "Múltipla     47188\n",
       "Name: tipo_pista, dtype: int64"
      ]
     },
     "execution_count": 172,
     "metadata": {},
     "output_type": "execute_result"
    }
   ],
   "source": [
    "df_17_20_indv_cut['tipo_pista'].value_counts()"
   ]
  },
  {
   "cell_type": "code",
   "execution_count": 173,
   "metadata": {
    "id": "K9fNXPp5Ba4M",
    "outputId": "33b50de2-3448-4bfc-d327-9446c1d52d56"
   },
   "outputs": [
    {
     "data": {
      "text/plain": [
       "Reta                     392166\n",
       "Curva                     97250\n",
       "Não Informado             67915\n",
       "Interseção de vias        30755\n",
       "Desvio Temporário         18103\n",
       "Rotatória                 11881\n",
       "Retorno Regulamentado      7219\n",
       "Viaduto                    4240\n",
       "Ponte                      3539\n",
       "Túnel                       594\n",
       "Name: tracado_via, dtype: int64"
      ]
     },
     "execution_count": 173,
     "metadata": {},
     "output_type": "execute_result"
    }
   ],
   "source": [
    "df_17_20_indv_cut['tracado_via'].value_counts()"
   ]
  },
  {
   "cell_type": "markdown",
   "metadata": {
    "id": "ju_HmdwXWDSM"
   },
   "source": [
    "Como possuimos valores \"Não Informado\", decidimos substitui-los por Nulo"
   ]
  },
  {
   "cell_type": "code",
   "execution_count": 174,
   "metadata": {
    "id": "G0Ng4l1UBa4N"
   },
   "outputs": [],
   "source": [
    "df_17_20_indv_cut['tracado_via'].replace('Não Informado',np.nan,inplace=True)"
   ]
  },
  {
   "cell_type": "code",
   "execution_count": 175,
   "metadata": {
    "id": "tkz4AHFMBa4N",
    "outputId": "82c04be7-54ba-42e8-efb7-195b8f5e659e"
   },
   "outputs": [
    {
     "data": {
      "text/plain": [
       "Rural     358948\n",
       "Urbano    274714\n",
       "Name: uso_solo, dtype: int64"
      ]
     },
     "execution_count": 175,
     "metadata": {},
     "output_type": "execute_result"
    }
   ],
   "source": [
    "df_17_20_indv_cut['uso_solo'].value_counts()"
   ]
  },
  {
   "cell_type": "code",
   "execution_count": 176,
   "metadata": {
    "id": "jckum1HkBa4O",
    "outputId": "92da1974-6a88-4343-efbd-744cd4c59737"
   },
   "outputs": [
    {
     "data": {
      "text/plain": [
       "Automóvel            283669\n",
       "Motocicleta          115118\n",
       "Caminhonete           57037\n",
       "Caminhão-trator       51609\n",
       "Caminhão              46419\n",
       "Ônibus                23316\n",
       "Camioneta             16029\n",
       "Motoneta              13267\n",
       "Bicicleta              7871\n",
       "Utilitário             7146\n",
       "Micro-ônibus           5683\n",
       "Outros                 2613\n",
       "Ciclomotor             1774\n",
       "Semireboque            1104\n",
       "Carroça-charrete        335\n",
       "Trator de rodas         280\n",
       "Reboque                 163\n",
       "Não Informado            74\n",
       "Triciclo                 63\n",
       "Trem-bonde               28\n",
       "Carro de mão             23\n",
       "Trator misto             15\n",
       "Trator de esteira         9\n",
       "Chassi-plataforma         9\n",
       "Quadriciclo               8\n",
       "Name: tipo_veiculo, dtype: int64"
      ]
     },
     "execution_count": 176,
     "metadata": {},
     "output_type": "execute_result"
    }
   ],
   "source": [
    "df_17_20_indv_cut['tipo_veiculo'].value_counts()"
   ]
  },
  {
   "cell_type": "markdown",
   "metadata": {
    "id": "w059h8WFWS3h"
   },
   "source": [
    "Como possuimos valores \"Não Informado\" e \"Outros\", decidimos substitui-los por Nulo"
   ]
  },
  {
   "cell_type": "code",
   "execution_count": 177,
   "metadata": {
    "id": "5118KnrLBa4O"
   },
   "outputs": [],
   "source": [
    "df_17_20_indv_cut['tipo_veiculo'].replace('Não Informado',np.nan,inplace=True)\n",
    "df_17_20_indv_cut['tipo_veiculo'].replace('Outros',np.nan,inplace=True)"
   ]
  },
  {
   "cell_type": "code",
   "execution_count": 178,
   "metadata": {
    "id": "P5-P1danBa4O",
    "outputId": "995ab03a-0439-4ea0-e660-31f33575545c"
   },
   "outputs": [
    {
     "data": {
      "text/plain": [
       "2013.0    50034\n",
       "2011.0    49784\n",
       "2014.0    44934\n",
       "2010.0    42832\n",
       "2012.0    42417\n",
       "          ...  \n",
       "1951.0        2\n",
       "1929.0        2\n",
       "1947.0        2\n",
       "1946.0        2\n",
       "1917.0        1\n",
       "Name: ano_fabricacao_veiculo, Length: 70, dtype: int64"
      ]
     },
     "execution_count": 178,
     "metadata": {},
     "output_type": "execute_result"
    }
   ],
   "source": [
    "df_17_20_indv_cut['ano_fabricacao_veiculo'].value_counts()"
   ]
  },
  {
   "cell_type": "markdown",
   "metadata": {
    "id": "nLr_EZKHWcLe"
   },
   "source": [
    "Verificação dos dados dos Anos de Frabricação com a ajuda do Box Plot"
   ]
  },
  {
   "cell_type": "code",
   "execution_count": 179,
   "metadata": {
    "id": "ZsnJunuBBa4P",
    "outputId": "95321436-222b-4849-ac25-a792d1acbb16"
   },
   "outputs": [
    {
     "name": "stderr",
     "output_type": "stream",
     "text": [
      "C:\\Users\\rodri\\anaconda3\\lib\\site-packages\\seaborn\\_decorators.py:36: FutureWarning: Pass the following variable as a keyword arg: x. From version 0.12, the only valid positional argument will be `data`, and passing other arguments without an explicit keyword will result in an error or misinterpretation.\n",
      "  warnings.warn(\n"
     ]
    },
    {
     "data": {
      "text/plain": [
       "<AxesSubplot:xlabel='ano_fabricacao_veiculo'>"
      ]
     },
     "execution_count": 179,
     "metadata": {},
     "output_type": "execute_result"
    },
    {
     "data": {
      "image/png": "[encoded data removed]",
      "text/plain": [
       "<Figure size 432x288 with 1 Axes>"
      ]
     },
     "metadata": {
      "needs_background": "light"
     },
     "output_type": "display_data"
    }
   ],
   "source": [
    "sns.boxplot(df_17_20_indv_cut['ano_fabricacao_veiculo'])"
   ]
  },
  {
   "cell_type": "code",
   "execution_count": 180,
   "metadata": {
    "id": "HSLbUl2nBa4Q",
    "outputId": "d04fa6d7-581e-4da1-d8cd-b07f0f02e84a"
   },
   "outputs": [
    {
     "data": {
      "text/plain": [
       "Condutor         443100\n",
       "Passageiro       164045\n",
       "Pedestre          13617\n",
       "Testemunha        12732\n",
       "Cavaleiro           164\n",
       "Não Informado         4\n",
       "Name: tipo_envolvido, dtype: int64"
      ]
     },
     "execution_count": 180,
     "metadata": {},
     "output_type": "execute_result"
    }
   ],
   "source": [
    "df_17_20_indv_cut['tipo_envolvido'].value_counts()"
   ]
  },
  {
   "cell_type": "markdown",
   "metadata": {
    "id": "blJc1nTvXNNl"
   },
   "source": [
    "Como a pergunta do nosso projeto se refere ao acidente, não vimos motivos deixar os dados da Testemunha no conjunto de dados, pois a mesma não participa ou influencia na ação. Outro ponto, como possuimos apenas 4 dados \"Não Informado\", decidimos retira-los."
   ]
  },
  {
   "cell_type": "code",
   "execution_count": 181,
   "metadata": {
    "id": "nD05Fw_jBa4R"
   },
   "outputs": [],
   "source": [
    "df_17_20_indv_cut.drop(df_17_20_indv_cut.index[df_17_20_indv_cut['tipo_envolvido'] == 'Testemunha'], inplace = True)"
   ]
  },
  {
   "cell_type": "code",
   "execution_count": 182,
   "metadata": {
    "id": "YqMpxG9TBa4R"
   },
   "outputs": [],
   "source": [
    "df_17_20_indv_cut.drop(df_17_20_indv_cut.index[df_17_20_indv_cut['tipo_envolvido'] == 'Não Informado'], inplace = True)"
   ]
  },
  {
   "cell_type": "code",
   "execution_count": 183,
   "metadata": {
    "id": "bT2PYysCBa4S",
    "outputId": "b8d393d9-8ef3-4db9-d01a-f1d13c4126a3"
   },
   "outputs": [
    {
     "data": {
      "text/plain": [
       "Condutor      443100\n",
       "Passageiro    164045\n",
       "Pedestre       13617\n",
       "Cavaleiro        164\n",
       "Name: tipo_envolvido, dtype: int64"
      ]
     },
     "execution_count": 183,
     "metadata": {},
     "output_type": "execute_result"
    }
   ],
   "source": [
    "df_17_20_indv_cut['tipo_envolvido'].value_counts()"
   ]
  },
  {
   "cell_type": "code",
   "execution_count": 184,
   "metadata": {
    "id": "E_E27RATBa4S",
    "outputId": "f639d3cf-4648-4d6b-cada-611f23ed78a8"
   },
   "outputs": [
    {
     "data": {
      "text/plain": [
       "35.0      15687\n",
       "32.0      15472\n",
       "36.0      15463\n",
       "30.0      15445\n",
       "33.0      15332\n",
       "          ...  \n",
       "783.0         1\n",
       "110.0         1\n",
       "1815.0        1\n",
       "517.0         1\n",
       "1008.0        1\n",
       "Name: idade, Length: 194, dtype: int64"
      ]
     },
     "execution_count": 184,
     "metadata": {},
     "output_type": "execute_result"
    }
   ],
   "source": [
    "df_17_20_indv_cut['idade'].value_counts()"
   ]
  },
  {
   "cell_type": "markdown",
   "metadata": {
    "id": "rRgnL96DXoJn"
   },
   "source": [
    "Verificação da 'idade' com auxilio da ferramenta Box Plot"
   ]
  },
  {
   "cell_type": "code",
   "execution_count": 185,
   "metadata": {
    "id": "8e5tEuLUBa4S",
    "outputId": "4a6d118c-5bc8-402d-d2be-044d90065b25"
   },
   "outputs": [
    {
     "name": "stderr",
     "output_type": "stream",
     "text": [
      "C:\\Users\\rodri\\anaconda3\\lib\\site-packages\\seaborn\\_decorators.py:36: FutureWarning: Pass the following variable as a keyword arg: x. From version 0.12, the only valid positional argument will be `data`, and passing other arguments without an explicit keyword will result in an error or misinterpretation.\n",
      "  warnings.warn(\n"
     ]
    },
    {
     "data": {
      "text/plain": [
       "<AxesSubplot:xlabel='idade'>"
      ]
     },
     "execution_count": 185,
     "metadata": {},
     "output_type": "execute_result"
    },
    {
     "data": {
      "image/png": "[encoded data removed]",
      "text/plain": [
       "<Figure size 432x288 with 1 Axes>"
      ]
     },
     "metadata": {
      "needs_background": "light"
     },
     "output_type": "display_data"
    }
   ],
   "source": [
    "sns.boxplot(df_17_20_indv_cut['idade'])"
   ]
  },
  {
   "cell_type": "markdown",
   "metadata": {
    "id": "yWkm71C9Ba4S"
   },
   "source": [
    "Como podemos ver, possuimos valores errados, onde é possivel perceber dados mostrando idades superiores a 500.\n",
    "Assim, utilizamos a idade da pessoa mais velha do mundo (117 anos) para ser nossa idade de corte"
   ]
  },
  {
   "cell_type": "code",
   "execution_count": 186,
   "metadata": {
    "id": "8L9nTP-SBa4T"
   },
   "outputs": [],
   "source": [
    "df_17_20_indv_cut.loc[df_17_20_indv_cut.idade>117,'idade'] = np.nan # Considerando outliers como faltantes...\n",
    "df_17_20_indv_cut.loc[df_17_20_indv_cut.idade<0,'idade'] = np.nan  # Considerando outliers como faltantes..."
   ]
  },
  {
   "cell_type": "code",
   "execution_count": 187,
   "metadata": {
    "id": "qX92TzXBBa4U",
    "outputId": "21f58150-9259-40bc-c0de-48a61a15b558"
   },
   "outputs": [
    {
     "data": {
      "text/plain": [
       "Masculino        452859\n",
       "Feminino         139642\n",
       "Não Informado     24614\n",
       "Ignorado           3811\n",
       "Name: sexo, dtype: int64"
      ]
     },
     "execution_count": 187,
     "metadata": {},
     "output_type": "execute_result"
    }
   ],
   "source": [
    "df_17_20_indv_cut['sexo'].value_counts()"
   ]
  },
  {
   "cell_type": "markdown",
   "metadata": {
    "id": "IsQbqhUUYfHV"
   },
   "source": [
    "Como possuimos valores iguais a \"Não Informado\" e \"Ignorado\", ambos foram substituido por valores Nulos"
   ]
  },
  {
   "cell_type": "code",
   "execution_count": 188,
   "metadata": {
    "id": "xJO5f8rJBa4U"
   },
   "outputs": [],
   "source": [
    "df_17_20_indv_cut['sexo'].replace('Não Informado',np.nan,inplace=True)\n",
    "df_17_20_indv_cut['sexo'].replace('Ignorado',np.nan,inplace=True)"
   ]
  },
  {
   "cell_type": "code",
   "execution_count": 189,
   "metadata": {
    "id": "IqiOc0oMBa4U",
    "outputId": "95746edb-36f1-400c-b9d0-ab093bd0c1fe"
   },
   "outputs": [
    {
     "data": {
      "text/plain": [
       "Masculino    452859\n",
       "Feminino     139642\n",
       "Name: sexo, dtype: int64"
      ]
     },
     "execution_count": 189,
     "metadata": {},
     "output_type": "execute_result"
    }
   ],
   "source": [
    "df_17_20_indv_cut['sexo'].value_counts()"
   ]
  },
  {
   "cell_type": "code",
   "execution_count": 190,
   "metadata": {
    "id": "1iKhyQcsBa4U",
    "outputId": "ab76ec84-2014-4eb0-a93f-16c7b6d34e1e"
   },
   "outputs": [
    {
     "data": {
      "text/plain": [
       "0.0    333214\n",
       "1.0    287712\n",
       "Name: ilesos, dtype: int64"
      ]
     },
     "execution_count": 190,
     "metadata": {},
     "output_type": "execute_result"
    }
   ],
   "source": [
    "df_17_20_indv_cut['ilesos'].value_counts()"
   ]
  },
  {
   "cell_type": "code",
   "execution_count": 191,
   "metadata": {
    "id": "Rlp7shXpBa4V",
    "outputId": "104f2df0-8899-445f-c681-3422b46e0b7d"
   },
   "outputs": [
    {
     "data": {
      "text/plain": [
       "0.0    600444\n",
       "1.0     20482\n",
       "Name: mortos, dtype: int64"
      ]
     },
     "execution_count": 191,
     "metadata": {},
     "output_type": "execute_result"
    }
   ],
   "source": [
    "df_17_20_indv_cut['mortos'].value_counts()"
   ]
  },
  {
   "cell_type": "code",
   "execution_count": 192,
   "metadata": {
    "id": "UQB6RvB_Ba4V",
    "outputId": "aceba482-6891-4844-a767-69a48655eba3"
   },
   "outputs": [
    {
     "data": {
      "text/plain": [
       "2017.0    198364\n",
       "2018.0    161438\n",
       "2019.0    159032\n",
       "2020.0    102092\n",
       "Name: ano, dtype: int64"
      ]
     },
     "execution_count": 192,
     "metadata": {},
     "output_type": "execute_result"
    }
   ],
   "source": [
    "df_17_20_indv_cut['ano'].value_counts()"
   ]
  },
  {
   "cell_type": "code",
   "execution_count": 193,
   "metadata": {
    "id": "qyadoUl1Ba4V",
    "outputId": "5e0991e6-50b2-4fa2-8c09-63d90eb354fc"
   },
   "outputs": [
    {
     "data": {
      "text/plain": [
       "0.0    331164\n",
       "1.0    289762\n",
       "Name: feridos_cal, dtype: int64"
      ]
     },
     "execution_count": 193,
     "metadata": {},
     "output_type": "execute_result"
    }
   ],
   "source": [
    "df_17_20_indv_cut['feridos_cal'].value_counts()"
   ]
  },
  {
   "cell_type": "markdown",
   "metadata": {
    "id": "MxQaOFOSZDdK"
   },
   "source": [
    "## Substituindo os Valores Nulos"
   ]
  },
  {
   "cell_type": "markdown",
   "metadata": {
    "id": "Tm-am94QYo0O"
   },
   "source": [
    "**Variaveis Numéricas **"
   ]
  },
  {
   "cell_type": "markdown",
   "metadata": {
    "id": "CYmV0E5SW5nW"
   },
   "source": [
    "Como possuimos valores nulos na coluna \"ano_fabricacao_veiculo\", decidimos preencher esses dados com a média do ano presente no coluna."
   ]
  },
  {
   "cell_type": "markdown",
   "metadata": {
    "id": "ECfM5m0rYW2d"
   },
   "source": [
    "Coluna *ano_fabricacao_veiculo*"
   ]
  },
  {
   "cell_type": "code",
   "execution_count": 194,
   "metadata": {
    "id": "5al1TaMYBa4P"
   },
   "outputs": [],
   "source": [
    "df_17_20_indv_cut['ano_fabricacao_veiculo'].fillna(df_17_20_indv_cut['ano_fabricacao_veiculo'].mean(),inplace=True)"
   ]
  },
  {
   "cell_type": "code",
   "execution_count": 195,
   "metadata": {
    "id": "hHhZsWEjBa4Q",
    "outputId": "b8e39cc6-2f85-4d50-86b0-0079a724b90c"
   },
   "outputs": [
    {
     "data": {
      "text/plain": [
       "0"
      ]
     },
     "execution_count": 195,
     "metadata": {},
     "output_type": "execute_result"
    }
   ],
   "source": [
    "df_17_20_indv_cut['ano_fabricacao_veiculo'].isnull().sum()"
   ]
  },
  {
   "cell_type": "markdown",
   "metadata": {
    "id": "p4iKzRBnYiV7"
   },
   "source": [
    "Coluna *idade*"
   ]
  },
  {
   "cell_type": "code",
   "execution_count": 196,
   "metadata": {
    "id": "_-ViDjzlBa4T",
    "outputId": "296e291a-6b8e-480d-ae7d-5ffd69b0d599"
   },
   "outputs": [
    {
     "name": "stderr",
     "output_type": "stream",
     "text": [
      "C:\\Users\\rodri\\anaconda3\\lib\\site-packages\\seaborn\\_decorators.py:36: FutureWarning: Pass the following variable as a keyword arg: x. From version 0.12, the only valid positional argument will be `data`, and passing other arguments without an explicit keyword will result in an error or misinterpretation.\n",
      "  warnings.warn(\n"
     ]
    },
    {
     "data": {
      "text/plain": [
       "<AxesSubplot:xlabel='idade'>"
      ]
     },
     "execution_count": 196,
     "metadata": {},
     "output_type": "execute_result"
    },
    {
     "data": {
      "image/png": "[encoded data removed]",
      "text/plain": [
       "<Figure size 432x288 with 1 Axes>"
      ]
     },
     "metadata": {
      "needs_background": "light"
     },
     "output_type": "display_data"
    }
   ],
   "source": [
    "sns.boxplot(df_17_20_indv_cut['idade'])"
   ]
  },
  {
   "cell_type": "code",
   "execution_count": 197,
   "metadata": {
    "id": "EoxtIil8Ba4T",
    "outputId": "401c81c9-7d8e-4f3e-95c8-c8ec34056f8c"
   },
   "outputs": [
    {
     "data": {
      "text/plain": [
       "47259"
      ]
     },
     "execution_count": 197,
     "metadata": {},
     "output_type": "execute_result"
    }
   ],
   "source": [
    "df_17_20_indv_cut['idade'].isnull().sum()"
   ]
  },
  {
   "cell_type": "markdown",
   "metadata": {
    "id": "-1Z3bhuuYO4m"
   },
   "source": [
    "Preenchendo os dados faltantes da coluna, com a média de valores presentes na coluna 'idade'."
   ]
  },
  {
   "cell_type": "code",
   "execution_count": 198,
   "metadata": {
    "id": "SV897f65Ba4T"
   },
   "outputs": [],
   "source": [
    "df_17_20_indv_cut['idade'].fillna(df_17_20_indv_cut['idade'].mean(),inplace=True)"
   ]
  },
  {
   "cell_type": "code",
   "execution_count": 199,
   "metadata": {
    "id": "-YYhdvksBa4T",
    "outputId": "7cd8bce9-d6cc-4602-a804-3501de0537b5"
   },
   "outputs": [
    {
     "data": {
      "text/plain": [
       "0"
      ]
     },
     "execution_count": 199,
     "metadata": {},
     "output_type": "execute_result"
    }
   ],
   "source": [
    "df_17_20_indv_cut['idade'].isnull().sum()"
   ]
  },
  {
   "cell_type": "code",
   "execution_count": 200,
   "metadata": {
    "id": "pcwOTC_DBa4V",
    "outputId": "57dacac1-689d-4eaa-a006-14d1a50ecdde"
   },
   "outputs": [
    {
     "data": {
      "text/plain": [
       "id                            0\n",
       "data_inversa                  0\n",
       "dia_semana                    0\n",
       "horario                       0\n",
       "uf                            0\n",
       "causa_acidente                0\n",
       "tipo_acidente                 0\n",
       "classificacao_acidente        0\n",
       "fase_dia                      0\n",
       "condicao_metereologica     8569\n",
       "tipo_pista                    0\n",
       "tracado_via               66363\n",
       "uso_solo                      0\n",
       "tipo_veiculo               2620\n",
       "ano_fabricacao_veiculo        0\n",
       "tipo_envolvido                0\n",
       "idade                         0\n",
       "sexo                      28425\n",
       "ilesos                        0\n",
       "mortos                        0\n",
       "latitude                      0\n",
       "longitude                     0\n",
       "ano                           0\n",
       "feridos_cal                   0\n",
       "dtype: int64"
      ]
     },
     "execution_count": 200,
     "metadata": {},
     "output_type": "execute_result"
    }
   ],
   "source": [
    "df_17_20_indv_cut.isnull().sum()"
   ]
  },
  {
   "cell_type": "markdown",
   "metadata": {
    "id": "vkyZ5Mv7aXfi"
   },
   "source": [
    "Com isso, podemos perceber que grande parte dos valores nulos/faltantes foram corrigidos, porém possuimos variaveis nominais que estão faltando no nosso dataset."
   ]
  },
  {
   "cell_type": "code",
   "execution_count": 201,
   "metadata": {
    "id": "ifZ8dj9QBa4W",
    "outputId": "dbc47e0f-5a11-4990-e5a4-3201df41bf93"
   },
   "outputs": [
    {
     "data": {
      "text/plain": [
       "'Agrupamento de dados e seleção de principais colunas a serem analisadas (2017-2020).\\n\\nid                            0      - Não Alterado\\ndia_semana                    0      - Não Alterado\\nhorario                       0      - Não Alterado\\nuf                            0      - Não Alterado\\ncausa_acidente                0      - Não Alterado\\ntipo_acidente                 0      - Não Alterado\\nclassificacao_acidente        0      - Não Alterado\\nfase_dia                      0      - Não Alterado\\ncondicao_metereologica     8597      - Ignorados -> np.nan\\ntipo_pista                    0      - Não Alterado\\ntracado_via               66609      - Não Informado - np.nan\\nuso_solo                      0      - Sim-> Urbano     Não-> Rural\\ntipo_veiculo               2645      - Outros e Não Informados -> np.nan\\nano_fabricacao_veiculo        0      - np.nan - > médias dos anos de fabricação\\ntipo_envolvido                0      - Não informado e Testemunha  -> drop do dataframe\\nidade                         0      - 0 < idade < 117 | outliers -> np.nan -> média de idades\\nsexo                      28618      - Não informado e Ignorados -> np.nan\\nilesos                        0      - Não Alterado\\nmortos                        0      - Não Alterado\\nano                           0      - Criado para rastreamento\\nferidos_cal                   0      - feridos_cal = feridos_leves + feridos_graves (criado)\\n\\n'"
      ]
     },
     "execution_count": 201,
     "metadata": {},
     "output_type": "execute_result"
    }
   ],
   "source": [
    "df_17_20_indv_cut.to_csv('df_ind.csv',index=False)\n",
    "\n",
    "'''Agrupamento de dados e seleção de principais colunas a serem analisadas (2017-2020).\n",
    "\n",
    "id                            0      - Não Alterado\n",
    "dia_semana                    0      - Não Alterado\n",
    "horario                       0      - Não Alterado\n",
    "uf                            0      - Não Alterado\n",
    "causa_acidente                0      - Não Alterado\n",
    "tipo_acidente                 0      - Não Alterado\n",
    "classificacao_acidente        0      - Não Alterado\n",
    "fase_dia                      0      - Não Alterado\n",
    "condicao_metereologica     8597      - Ignorados -> np.nan\n",
    "tipo_pista                    0      - Não Alterado\n",
    "tracado_via               66609      - Não Informado - np.nan\n",
    "uso_solo                      0      - Sim-> Urbano     Não-> Rural\n",
    "tipo_veiculo               2645      - Outros e Não Informados -> np.nan\n",
    "ano_fabricacao_veiculo        0      - np.nan - > médias dos anos de fabricação\n",
    "tipo_envolvido                0      - Não informado e Testemunha  -> drop do dataframe\n",
    "idade                         0      - 0 < idade < 117 | outliers -> np.nan -> média de idades\n",
    "sexo                      28618      - Não informado e Ignorados -> np.nan\n",
    "ilesos                        0      - Não Alterado\n",
    "mortos                        0      - Não Alterado\n",
    "ano                           0      - Criado para rastreamento\n",
    "feridos_cal                   0      - feridos_cal = feridos_leves + feridos_graves (criado)\n",
    "\n",
    "'''"
   ]
  },
  {
   "cell_type": "code",
   "execution_count": 202,
   "metadata": {
    "id": "yce1sgacBa4W",
    "outputId": "e48d9146-a615-4ada-8289-c78d8664096a"
   },
   "outputs": [
    {
     "data": {
      "text/plain": [
       "<AxesSubplot:>"
      ]
     },
     "execution_count": 202,
     "metadata": {},
     "output_type": "execute_result"
    },
    {
     "data": {
      "image/png": "[encoded data removed]",
      "text/plain": [
       "<Figure size 1800x720 with 2 Axes>"
      ]
     },
     "metadata": {
      "needs_background": "light"
     },
     "output_type": "display_data"
    }
   ],
   "source": [
    "msno.matrix(df_17_20_indv_cut)"
   ]
  },
  {
   "cell_type": "markdown",
   "metadata": {
    "id": "g4RpdjmdZAA5"
   },
   "source": [
    "**Variaveis Nominais **"
   ]
  },
  {
   "cell_type": "code",
   "execution_count": 203,
   "metadata": {
    "id": "KhEgM83qXu_s"
   },
   "outputs": [],
   "source": [
    "df_ind = pd.read_csv('df_ind.csv')"
   ]
  },
  {
   "cell_type": "code",
   "execution_count": 204,
   "metadata": {
    "id": "6BtBK75zXu_t",
    "outputId": "288b4607-5dd7-4cc9-86a3-d555095a38a3"
   },
   "outputs": [
    {
     "name": "stdout",
     "output_type": "stream",
     "text": [
      "<class 'pandas.core.frame.DataFrame'>\n",
      "RangeIndex: 620926 entries, 0 to 620925\n",
      "Data columns (total 24 columns):\n",
      " #   Column                  Non-Null Count   Dtype  \n",
      "---  ------                  --------------   -----  \n",
      " 0   id                      620926 non-null  float64\n",
      " 1   data_inversa            620926 non-null  object \n",
      " 2   dia_semana              620926 non-null  object \n",
      " 3   horario                 620926 non-null  object \n",
      " 4   uf                      620926 non-null  object \n",
      " 5   causa_acidente          620926 non-null  object \n",
      " 6   tipo_acidente           620926 non-null  object \n",
      " 7   classificacao_acidente  620926 non-null  object \n",
      " 8   fase_dia                620926 non-null  object \n",
      " 9   condicao_metereologica  612357 non-null  object \n",
      " 10  tipo_pista              620926 non-null  object \n",
      " 11  tracado_via             554563 non-null  object \n",
      " 12  uso_solo                620926 non-null  object \n",
      " 13  tipo_veiculo            618306 non-null  object \n",
      " 14  ano_fabricacao_veiculo  620926 non-null  float64\n",
      " 15  tipo_envolvido          620926 non-null  object \n",
      " 16  idade                   620926 non-null  float64\n",
      " 17  sexo                    592501 non-null  object \n",
      " 18  ilesos                  620926 non-null  float64\n",
      " 19  mortos                  620926 non-null  float64\n",
      " 20  latitude                620926 non-null  float64\n",
      " 21  longitude               620926 non-null  float64\n",
      " 22  ano                     620926 non-null  float64\n",
      " 23  feridos_cal             620926 non-null  float64\n",
      "dtypes: float64(9), object(15)\n",
      "memory usage: 113.7+ MB\n"
     ]
    }
   ],
   "source": [
    "df_ind.info()"
   ]
  },
  {
   "cell_type": "code",
   "execution_count": 205,
   "metadata": {
    "id": "TmsI2kgIXu_t",
    "outputId": "39988dff-4ec3-4aa5-f5b1-6085ef4d1f0f"
   },
   "outputs": [
    {
     "data": {
      "text/plain": [
       "'Melhoria de colocar subplot em um grid por exemplo 2 colunas e 10 linhas'"
      ]
     },
     "execution_count": 205,
     "metadata": {},
     "output_type": "execute_result"
    }
   ],
   "source": [
    "def cat_plot(dataframe):\n",
    "    \n",
    "    import matplotlib.pyplot as plt\n",
    "    import seaborn as sns\n",
    "    \n",
    "    \n",
    "    for i in dataframe.columns: \n",
    "        \n",
    "        plt.figure(figsize=(10,10))             \n",
    "        sns.barplot(x=dataframe[i].value_counts().index ,y = dataframe[i].value_counts())\n",
    "        plt.xticks(rotation=90);\n",
    "\n",
    "'''Melhoria de colocar subplot em um grid por exemplo 2 colunas e 10 linhas'''\n",
    "\n",
    "# fig, axes = plt.subplots(10, 2, figsize=(25,100), sharey=True)\n",
    "# \n",
    "# sns.barplot(ax=axes[0,0],x=df_17_20['dia_semana'].value_counts().index ,y = df_17_20['dia_semana'].value_counts())\n",
    "# plt.xticks(rotation=90);\n",
    "# \n",
    "# sns.barplot(ax=axes[0,1],x=df_17_20['tipo_pista'].value_counts().index ,y = df_17_20['tipo_pista'].value_counts())\n",
    "# plt.xticks(rotation=90);\n",
    "   "
   ]
  },
  {
   "cell_type": "markdown",
   "metadata": {
    "id": "i77svdgTZIIY"
   },
   "source": [
    "Como é possivel observar no gráfico abaixo, possuimos diversas variáveis nulas. Poderiamos, para solucionar esse problema, apenas dropar os valores, porém o gráfico nos mostra que grande parte dos dados faltantes não possuem relação com a falta de outras colunas, o que iria gerar uma perda grande de dados no nosso dataset. Assim sendo, optamos por tratar esses dados."
   ]
  },
  {
   "cell_type": "code",
   "execution_count": 206,
   "metadata": {
    "id": "6Kw-PSnGXu_t",
    "outputId": "b28d17fe-3658-4083-b979-908c1b6d75b1"
   },
   "outputs": [
    {
     "data": {
      "text/plain": [
       "<AxesSubplot:>"
      ]
     },
     "execution_count": 206,
     "metadata": {},
     "output_type": "execute_result"
    },
    {
     "data": {
      "image/png": "[encoded data removed]",
      "text/plain": [
       "<Figure size 1800x720 with 2 Axes>"
      ]
     },
     "metadata": {
      "needs_background": "light"
     },
     "output_type": "display_data"
    }
   ],
   "source": [
    "# https://github.com/ResidentMario/missingno\n",
    "msno.matrix(df_ind)"
   ]
  },
  {
   "cell_type": "code",
   "execution_count": 207,
   "metadata": {
    "id": "ei9YRDJrXu_u",
    "outputId": "4d9d7e7d-95f4-46c2-fbb7-56e563c1c339"
   },
   "outputs": [
    {
     "data": {
      "text/plain": [
       "<AxesSubplot:>"
      ]
     },
     "execution_count": 207,
     "metadata": {},
     "output_type": "execute_result"
    },
    {
     "data": {
      "image/png": "[encoded data removed]",
      "text/plain": [
       "<Figure size 1728x720 with 3 Axes>"
      ]
     },
     "metadata": {
      "needs_background": "light"
     },
     "output_type": "display_data"
    }
   ],
   "source": [
    "msno.bar(df_ind)"
   ]
  },
  {
   "cell_type": "code",
   "execution_count": 208,
   "metadata": {
    "id": "leuj5dOVXu_u",
    "outputId": "1d84e49d-5043-4d03-c710-0d9e1b6aa301"
   },
   "outputs": [
    {
     "data": {
      "text/plain": [
       "<AxesSubplot:>"
      ]
     },
     "execution_count": 208,
     "metadata": {},
     "output_type": "execute_result"
    },
    {
     "data": {
      "image/png": "[encoded data removed]",
      "text/plain": [
       "<Figure size 1440x864 with 2 Axes>"
      ]
     },
     "metadata": {
      "needs_background": "light"
     },
     "output_type": "display_data"
    }
   ],
   "source": [
    "msno.heatmap(df_ind)"
   ]
  },
  {
   "cell_type": "markdown",
   "metadata": {
    "id": "UkrUv6CyZwbu"
   },
   "source": [
    "Verificando as colunas que estão com dados faltantes."
   ]
  },
  {
   "cell_type": "code",
   "execution_count": 209,
   "metadata": {
    "id": "Vv7LbFyFXu_v",
    "outputId": "a6e47ed8-4543-49df-95b3-a3aed50d3796"
   },
   "outputs": [
    {
     "data": {
      "text/plain": [
       "id                            0\n",
       "data_inversa                  0\n",
       "dia_semana                    0\n",
       "horario                       0\n",
       "uf                            0\n",
       "causa_acidente                0\n",
       "tipo_acidente                 0\n",
       "classificacao_acidente        0\n",
       "fase_dia                      0\n",
       "condicao_metereologica     8569\n",
       "tipo_pista                    0\n",
       "tracado_via               66363\n",
       "uso_solo                      0\n",
       "tipo_veiculo               2620\n",
       "ano_fabricacao_veiculo        0\n",
       "tipo_envolvido                0\n",
       "idade                         0\n",
       "sexo                      28425\n",
       "ilesos                        0\n",
       "mortos                        0\n",
       "latitude                      0\n",
       "longitude                     0\n",
       "ano                           0\n",
       "feridos_cal                   0\n",
       "dtype: int64"
      ]
     },
     "execution_count": 209,
     "metadata": {},
     "output_type": "execute_result"
    }
   ],
   "source": [
    "df_ind.isnull().sum()"
   ]
  },
  {
   "cell_type": "markdown",
   "metadata": {
    "id": "gDVsKRfZaDs7"
   },
   "source": [
    "Com auxílio do grafico de barras, decidimos plotar os grafícos com as variaveis presentes no dataset, tanto para *condicao_metereologica* quanto *veiculos*."
   ]
  },
  {
   "cell_type": "code",
   "execution_count": 210,
   "metadata": {},
   "outputs": [
    {
     "data": {
      "text/plain": [
       "<AxesSubplot:ylabel='tipo_veiculo'>"
      ]
     },
     "execution_count": 210,
     "metadata": {},
     "output_type": "execute_result"
    },
    {
     "data": {
      "image/png": "[encoded data removed]",
      "text/plain": [
       "<Figure size 864x360 with 2 Axes>"
      ]
     },
     "metadata": {
      "needs_background": "light"
     },
     "output_type": "display_data"
    }
   ],
   "source": [
    "fig, (ax1, ax2) = plt.subplots(1, 2, figsize=(12, 5))\n",
    "\n",
    "plt.setp( ax1.xaxis.get_majorticklabels(),rotation=90)\n",
    "\n",
    "plt.setp( ax2.xaxis.get_majorticklabels(),rotation=90)\n",
    "\n",
    "sns.barplot(ax=ax1,x=df_ind['condicao_metereologica'].value_counts().index ,y = df_ind['condicao_metereologica'].value_counts())\n",
    "\n",
    "sns.barplot(ax=ax2,x=df_ind['tipo_veiculo'].value_counts().index ,y = df_ind['tipo_veiculo'].value_counts())\n"
   ]
  },
  {
   "cell_type": "markdown",
   "metadata": {
    "id": "kot2p0x5aWQS"
   },
   "source": [
    "Após análise dos graficos, é possivel avaliar alguns pontos:\r\n",
    "\r\n",
    "Na Coluna condicao_metereologica: \r\n",
    "1.   Possuimos 8597 dados faltantes\r\n",
    "\r\n",
    "Isso gera um valor menor que 1,5 % do nosso dataset (8597 / 623089). Sendo assim, decidos dropa-los já que sua margem de dados faltantes ser baixa.\r\n",
    "\r\n",
    "Na Coluna veiculo: \r\n",
    "2.   Possuimos 2645 dados faltantes\r\n",
    "\r\n",
    "Isso gera um valor menor que 0,42 % do nosso dataset (2645 / 623089). Sendo assim, decidos também dropa-los já que sua margem de dados faltantes ser baixa.\r\n",
    "\r\n",
    "No final, iremos ter retirado 1,8 % do nosso dataset, sendo que os dados retirados estão distribuidos entre os anos.\r\n",
    "623089 -> 611956 \r\n",
    "\r\n",
    "\r\n"
   ]
  },
  {
   "cell_type": "code",
   "execution_count": 211,
   "metadata": {
    "id": "8HqUPXk4Xu_x"
   },
   "outputs": [],
   "source": [
    "df_ind.dropna(subset=['condicao_metereologica','tipo_veiculo'],inplace=True)"
   ]
  },
  {
   "cell_type": "code",
   "execution_count": 212,
   "metadata": {
    "id": "ILGWdsWTXu_x",
    "outputId": "40bbc9f7-d7c3-441e-a56e-d937c53c06eb"
   },
   "outputs": [
    {
     "data": {
      "text/plain": [
       "id                            0\n",
       "data_inversa                  0\n",
       "dia_semana                    0\n",
       "horario                       0\n",
       "uf                            0\n",
       "causa_acidente                0\n",
       "tipo_acidente                 0\n",
       "classificacao_acidente        0\n",
       "fase_dia                      0\n",
       "condicao_metereologica        0\n",
       "tipo_pista                    0\n",
       "tracado_via               65435\n",
       "uso_solo                      0\n",
       "tipo_veiculo                  0\n",
       "ano_fabricacao_veiculo        0\n",
       "tipo_envolvido                0\n",
       "idade                         0\n",
       "sexo                      26089\n",
       "ilesos                        0\n",
       "mortos                        0\n",
       "latitude                      0\n",
       "longitude                     0\n",
       "ano                           0\n",
       "feridos_cal                   0\n",
       "dtype: int64"
      ]
     },
     "execution_count": 212,
     "metadata": {},
     "output_type": "execute_result"
    }
   ],
   "source": [
    "df_ind.isnull().sum()"
   ]
  },
  {
   "cell_type": "markdown",
   "metadata": {
    "id": "nF-eYgpxb3oL"
   },
   "source": [
    "Em relação as colunas tracado_via quanto sexo, possuimos uma quantidade de dados relevantes, e os mesmos serão tratados. Assim, chegamos na conclusão de substituir os dados faltantes de forma igualitária, onde os dados faltantes irão receber proporcionalmente valores conforme os já preenchidos corretamente (não nulos)."
   ]
  },
  {
   "cell_type": "markdown",
   "metadata": {
    "id": "L82rC5h3chNj"
   },
   "source": [
    "Coluna *tracado_via*"
   ]
  },
  {
   "cell_type": "code",
   "execution_count": 213,
   "metadata": {},
   "outputs": [
    {
     "data": {
      "image/png": "[encoded data removed]",
      "text/plain": [
       "<Figure size 432x288 with 1 Axes>"
      ]
     },
     "metadata": {
      "needs_background": "light"
     },
     "output_type": "display_data"
    }
   ],
   "source": [
    "sns.barplot(x=df_ind['classificacao_acidente'].value_counts().index ,y = df_ind['classificacao_acidente'].value_counts())\n",
    "plt.xticks(rotation=90);"
   ]
  },
  {
   "cell_type": "code",
   "execution_count": 214,
   "metadata": {
    "id": "By5vHQk0Xu_x",
    "outputId": "75f501b4-6b31-4268-eeaf-79e9a414aad1"
   },
   "outputs": [
    {
     "data": {
      "image/png": "[encoded data removed]",
      "text/plain": [
       "<Figure size 432x288 with 1 Axes>"
      ]
     },
     "metadata": {
      "needs_background": "light"
     },
     "output_type": "display_data"
    }
   ],
   "source": [
    "sns.barplot(x=df_ind['tracado_via'].value_counts().index ,y = df_ind['tracado_via'].value_counts())\n",
    "plt.xticks(rotation=90);\n",
    "\n",
    "# tracado_via 11 % subistituir proporcionalmente ?"
   ]
  },
  {
   "cell_type": "markdown",
   "metadata": {
    "id": "_UbJ8te-cl8R"
   },
   "source": [
    "Proporção de dados presentes no dataset:"
   ]
  },
  {
   "cell_type": "code",
   "execution_count": 215,
   "metadata": {
    "id": "m-Jrf2Q6Xu_y",
    "outputId": "e7e9157d-6b30-4c1d-924b-8a2f8f35d8ee"
   },
   "outputs": [
    {
     "data": {
      "text/plain": [
       "Reta                     69.0\n",
       "Curva                    17.0\n",
       "Interseção de vias        5.0\n",
       "Desvio Temporário         3.0\n",
       "Rotatória                 2.0\n",
       "Retorno Regulamentado     1.0\n",
       "Viaduto                   1.0\n",
       "Ponte                     1.0\n",
       "Túnel                     0.0\n",
       "Name: tracado_via, dtype: float64"
      ]
     },
     "execution_count": 215,
     "metadata": {},
     "output_type": "execute_result"
    }
   ],
   "source": [
    "round(df_ind['tracado_via'].value_counts()/df_ind['tracado_via'].count()*100)"
   ]
  },
  {
   "cell_type": "markdown",
   "metadata": {
    "id": "TAJlXPa3csI1"
   },
   "source": [
    "Sabendo a proporção de dados presentes no dataset, precisamos saber qual será o valor necéssario em cada variável para continuar com a mesma proporção. Sabendo que teremos 65676 dados para serem substituidos."
   ]
  },
  {
   "cell_type": "code",
   "execution_count": 216,
   "metadata": {
    "id": "uOvYA0yHXu_y",
    "outputId": "0924957a-59cd-49f1-aef8-93107f55ef93"
   },
   "outputs": [
    {
     "data": {
      "text/plain": [
       "Reta                     45261.0\n",
       "Curva                    11320.0\n",
       "Interseção de vias        3571.0\n",
       "Desvio Temporário         2089.0\n",
       "Rotatória                 1381.0\n",
       "Retorno Regulamentado      835.0\n",
       "Viaduto                    495.0\n",
       "Ponte                      411.0\n",
       "Túnel                       70.0\n",
       "Name: tracado_via, dtype: float64"
      ]
     },
     "execution_count": 216,
     "metadata": {},
     "output_type": "execute_result"
    }
   ],
   "source": [
    "round(df_ind['tracado_via'].value_counts()/df_ind['tracado_via'].count()*65435)"
   ]
  },
  {
   "cell_type": "markdown",
   "metadata": {
    "id": "JgPYxx27dMbh"
   },
   "source": [
    "Criamos um nova variavel, para receber as mudanças, que receberá o nome temp."
   ]
  },
  {
   "cell_type": "code",
   "execution_count": 217,
   "metadata": {
    "id": "UGea1PdgXu_z"
   },
   "outputs": [],
   "source": [
    "temp = df_ind.copy()"
   ]
  },
  {
   "cell_type": "code",
   "execution_count": 218,
   "metadata": {
    "id": "9c4NtPvhXu_z",
    "outputId": "276a176c-153f-42b2-c824-f4f1d4cb89f8"
   },
   "outputs": [
    {
     "data": {
      "text/plain": [
       "id                            0\n",
       "data_inversa                  0\n",
       "dia_semana                    0\n",
       "horario                       0\n",
       "uf                            0\n",
       "causa_acidente                0\n",
       "tipo_acidente                 0\n",
       "classificacao_acidente        0\n",
       "fase_dia                      0\n",
       "condicao_metereologica        0\n",
       "tipo_pista                    0\n",
       "tracado_via               65435\n",
       "uso_solo                      0\n",
       "tipo_veiculo                  0\n",
       "ano_fabricacao_veiculo        0\n",
       "tipo_envolvido                0\n",
       "idade                         0\n",
       "sexo                      26089\n",
       "ilesos                        0\n",
       "mortos                        0\n",
       "latitude                      0\n",
       "longitude                     0\n",
       "ano                           0\n",
       "feridos_cal                   0\n",
       "dtype: int64"
      ]
     },
     "execution_count": 218,
     "metadata": {},
     "output_type": "execute_result"
    }
   ],
   "source": [
    "temp.isnull().sum()"
   ]
  },
  {
   "cell_type": "code",
   "execution_count": 219,
   "metadata": {
    "id": "EiOoJC1CXu_0",
    "outputId": "bf368ad5-32d1-4f9b-aaeb-6e18868240f7"
   },
   "outputs": [
    {
     "data": {
      "image/png": "[encoded data removed]",
      "text/plain": [
       "<Figure size 432x288 with 1 Axes>"
      ]
     },
     "metadata": {
      "needs_background": "light"
     },
     "output_type": "display_data"
    }
   ],
   "source": [
    "sns.barplot(x=temp['tracado_via'].value_counts().index ,y = temp['tracado_via'].value_counts())\n",
    "plt.xticks(rotation=90);"
   ]
  },
  {
   "cell_type": "markdown",
   "metadata": {
    "id": "ZFCgLvBpdYCe"
   },
   "source": [
    "Então, para resolver o problema, foi desenvolvido uma função com a intenção de substituir os valores de forma aleatória no nosso dataset, para assim, não ser gerado nenhum viés durante a reposição de dados"
   ]
  },
  {
   "cell_type": "code",
   "execution_count": 220,
   "metadata": {
    "id": "jpl8-k73Xu_0"
   },
   "outputs": [],
   "source": [
    "def replace_randomly_nan(df_to_replace,column,new_value,size_to_replace):\n",
    "    \n",
    "    df_sample_na = df_to_replace.loc[df_to_replace[column].isnull(),column].sample(size_to_replace).copy()\n",
    "\n",
    "    for i in df_sample_na.index:\n",
    "        #print(i)\n",
    "        df_to_replace.loc[df_to_replace.index == i,column] = new_value"
   ]
  },
  {
   "cell_type": "code",
   "execution_count": 221,
   "metadata": {
    "id": "TT0kicNAXu_0"
   },
   "outputs": [],
   "source": [
    "replace_randomly_nan(temp,'tracado_via','Reta',45261)"
   ]
  },
  {
   "cell_type": "markdown",
   "metadata": {
    "id": "_UXwgqJddwqR"
   },
   "source": [
    "Teste da função para verificar se a função preencheu os 45261 dados de forma correta."
   ]
  },
  {
   "cell_type": "code",
   "execution_count": 222,
   "metadata": {
    "id": "a6QanzrHXu_0",
    "outputId": "109a66b2-ca86-4553-da39-bb99f4d092ce"
   },
   "outputs": [
    {
     "data": {
      "text/plain": [
       "id                            0\n",
       "data_inversa                  0\n",
       "dia_semana                    0\n",
       "horario                       0\n",
       "uf                            0\n",
       "causa_acidente                0\n",
       "tipo_acidente                 0\n",
       "classificacao_acidente        0\n",
       "fase_dia                      0\n",
       "condicao_metereologica        0\n",
       "tipo_pista                    0\n",
       "tracado_via               20174\n",
       "uso_solo                      0\n",
       "tipo_veiculo                  0\n",
       "ano_fabricacao_veiculo        0\n",
       "tipo_envolvido                0\n",
       "idade                         0\n",
       "sexo                      26089\n",
       "ilesos                        0\n",
       "mortos                        0\n",
       "latitude                      0\n",
       "longitude                     0\n",
       "ano                           0\n",
       "feridos_cal                   0\n",
       "dtype: int64"
      ]
     },
     "execution_count": 222,
     "metadata": {},
     "output_type": "execute_result"
    }
   ],
   "source": [
    "temp.isnull().sum()"
   ]
  },
  {
   "cell_type": "markdown",
   "metadata": {
    "id": "aw7rpVvZd2Cj"
   },
   "source": [
    "Como nossa função obteve sucesso, a mesma foi utilizada para as outras variáveis. Onde era preciso substituir: \r\n",
    "* Curva                    11320.0\n",
    "* Interseção de vias        3571.0\n",
    "* Desvio Temporário         2089.0\n",
    "* Rotatória                 1381.0\n",
    "* Retorno Regulamentado      835.0\n",
    "* Viaduto                    495.0\n",
    "* Ponte                      411.0\n",
    "* Túnel                       70.0   4      71.0\r\n"
   ]
  },
  {
   "cell_type": "code",
   "execution_count": 223,
   "metadata": {
    "id": "6dE0_YgTXu_1"
   },
   "outputs": [],
   "source": [
    "replace_randomly_nan(temp,'tracado_via','Curva',11320)\n",
    "replace_randomly_nan(temp,'tracado_via','Interseção de vias',3571)\n",
    "replace_randomly_nan(temp,'tracado_via','Desvio Temporário',2089)\n",
    "replace_randomly_nan(temp,'tracado_via','Rotatória',1381)\n",
    "replace_randomly_nan(temp,'tracado_via','Retorno Regulamentado',835)\n",
    "replace_randomly_nan(temp,'tracado_via','Viaduto',495)\n",
    "replace_randomly_nan(temp,'tracado_via','Ponte',411)\n",
    "replace_randomly_nan(temp,'tracado_via','Túnel',72)"
   ]
  },
  {
   "cell_type": "markdown",
   "metadata": {
    "id": "AT7mCVEoe18u"
   },
   "source": [
    "Verificação da proporção de dados."
   ]
  },
  {
   "cell_type": "code",
   "execution_count": 224,
   "metadata": {
    "id": "6R6naoVdXu_1",
    "outputId": "82fb88a7-d6b5-4dee-c987-846276a76620"
   },
   "outputs": [
    {
     "data": {
      "text/plain": [
       "Reta                     69.170167\n",
       "Curva                    17.300165\n",
       "Interseção de vias        5.457641\n",
       "Desvio Temporário         3.192625\n",
       "Rotatória                 2.109987\n",
       "Retorno Regulamentado     1.276793\n",
       "Viaduto                   0.757149\n",
       "Ponte                     0.628569\n",
       "Túnel                     0.106905\n",
       "Name: tracado_via, dtype: float64"
      ]
     },
     "execution_count": 224,
     "metadata": {},
     "output_type": "execute_result"
    }
   ],
   "source": [
    "df_ind['tracado_via'].value_counts()/df_ind['tracado_via'].count()*100"
   ]
  },
  {
   "cell_type": "markdown",
   "metadata": {
    "id": "srHMB8KMfLCO"
   },
   "source": [
    "Como é possivel ver, continuamos com a mesma proporção de dados."
   ]
  },
  {
   "cell_type": "code",
   "execution_count": 225,
   "metadata": {},
   "outputs": [
    {
     "data": {
      "text/plain": [
       "<AxesSubplot:ylabel='sexo'>"
      ]
     },
     "execution_count": 225,
     "metadata": {},
     "output_type": "execute_result"
    },
    {
     "data": {
      "image/png": "[encoded data removed]",
      "text/plain": [
       "<Figure size 864x360 with 2 Axes>"
      ]
     },
     "metadata": {
      "needs_background": "light"
     },
     "output_type": "display_data"
    }
   ],
   "source": [
    "fig, (ax3, ax4) = plt.subplots(1, 2, figsize=(12, 5))\n",
    "\n",
    "plt.setp( ax3.xaxis.get_majorticklabels(),rotation=90)\n",
    "\n",
    "plt.setp( ax4.xaxis.get_majorticklabels(),rotation=90)\n",
    "\n",
    "sns.barplot(ax = ax3,x=temp['tracado_via'].value_counts().index ,y = temp['tracado_via'].value_counts())\n",
    "\n",
    "sns.barplot(ax = ax4,x=df_ind['sexo'].value_counts().index ,y = df_ind['sexo'].value_counts())"
   ]
  },
  {
   "cell_type": "code",
   "execution_count": 226,
   "metadata": {
    "id": "6dcEJZvuXu_1",
    "outputId": "493e3656-4571-42c7-e9a8-c1dfb968aa1e"
   },
   "outputs": [
    {
     "data": {
      "image/png": "[encoded data removed]",
      "text/plain": [
       "<Figure size 432x288 with 1 Axes>"
      ]
     },
     "metadata": {
      "needs_background": "light"
     },
     "output_type": "display_data"
    }
   ],
   "source": [
    "sns.barplot(x=temp['tracado_via'].value_counts().index ,y = temp['tracado_via'].value_counts())\n",
    "plt.xticks(rotation=90);"
   ]
  },
  {
   "cell_type": "markdown",
   "metadata": {
    "id": "kKdfackjfV2z"
   },
   "source": [
    "Assim, a coluna *tracado_via* foi corrigida."
   ]
  },
  {
   "cell_type": "code",
   "execution_count": 227,
   "metadata": {
    "id": "kKrjHF0iXu_1",
    "outputId": "6201b241-0cfa-4d23-d535-a795fd7c6085"
   },
   "outputs": [
    {
     "data": {
      "text/plain": [
       "id                            0\n",
       "data_inversa                  0\n",
       "dia_semana                    0\n",
       "horario                       0\n",
       "uf                            0\n",
       "causa_acidente                0\n",
       "tipo_acidente                 0\n",
       "classificacao_acidente        0\n",
       "fase_dia                      0\n",
       "condicao_metereologica        0\n",
       "tipo_pista                    0\n",
       "tracado_via                   2\n",
       "uso_solo                      0\n",
       "tipo_veiculo                  0\n",
       "ano_fabricacao_veiculo        0\n",
       "tipo_envolvido                0\n",
       "idade                         0\n",
       "sexo                      26089\n",
       "ilesos                        0\n",
       "mortos                        0\n",
       "latitude                      0\n",
       "longitude                     0\n",
       "ano                           0\n",
       "feridos_cal                   0\n",
       "dtype: int64"
      ]
     },
     "execution_count": 227,
     "metadata": {},
     "output_type": "execute_result"
    }
   ],
   "source": [
    "temp.isnull().sum()"
   ]
  },
  {
   "cell_type": "markdown",
   "metadata": {
    "id": "rpcn2haEexl-"
   },
   "source": [
    "Coluna *sexo*"
   ]
  },
  {
   "cell_type": "code",
   "execution_count": 228,
   "metadata": {
    "id": "dg8Abwl4Xu_2",
    "outputId": "3611cc69-875f-4069-8456-be8a0d3289dc"
   },
   "outputs": [
    {
     "data": {
      "image/png": "[encoded data removed]",
      "text/plain": [
       "<Figure size 432x288 with 1 Axes>"
      ]
     },
     "metadata": {
      "needs_background": "light"
     },
     "output_type": "display_data"
    }
   ],
   "source": [
    "sns.barplot(x=df_ind['sexo'].value_counts().index ,y = df_ind['sexo'].value_counts())\n",
    "plt.xticks(rotation=90);"
   ]
  },
  {
   "cell_type": "markdown",
   "metadata": {
    "id": "NDDcaQ_Vf-JN"
   },
   "source": [
    "Proporção de dados presentes no dataset:"
   ]
  },
  {
   "cell_type": "code",
   "execution_count": 229,
   "metadata": {
    "id": "wPMzrtrKXu_2",
    "outputId": "1e9429f9-396f-4c9d-b530-743283bac379"
   },
   "outputs": [
    {
     "data": {
      "text/plain": [
       "Masculino    76.0\n",
       "Feminino     24.0\n",
       "Name: sexo, dtype: float64"
      ]
     },
     "execution_count": 229,
     "metadata": {},
     "output_type": "execute_result"
    }
   ],
   "source": [
    "round(df_ind['sexo'].value_counts()/df_ind['sexo'].count()*100)"
   ]
  },
  {
   "cell_type": "markdown",
   "metadata": {
    "id": "Lni43_N6gIfu"
   },
   "source": [
    "Sabendo a proporção de dados presentes no dataset, precisamos saber qual será o valor necessário em cada variável para continuar com a mesma proporção. Sabendo que teremos 26259 dados para serem substituidos."
   ]
  },
  {
   "cell_type": "code",
   "execution_count": 230,
   "metadata": {
    "id": "yP4Z1VkOXu_2",
    "outputId": "e3ad8c75-7e9c-4423-9aa1-7ad7dc6baff2"
   },
   "outputs": [
    {
     "data": {
      "text/plain": [
       "Masculino    19929.0\n",
       "Feminino      6160.0\n",
       "Name: sexo, dtype: float64"
      ]
     },
     "execution_count": 230,
     "metadata": {},
     "output_type": "execute_result"
    }
   ],
   "source": [
    "round(df_ind['sexo'].value_counts()/df_ind['sexo'].count()*26089)"
   ]
  },
  {
   "cell_type": "markdown",
   "metadata": {
    "id": "NyPdL8PDgR1F"
   },
   "source": [
    "Como a função informada acima, precisamos só substituir os valores calculados anteriormente para ocorrer os reparo."
   ]
  },
  {
   "cell_type": "code",
   "execution_count": 231,
   "metadata": {
    "id": "MAKnsydKXu_3"
   },
   "outputs": [],
   "source": [
    "replace_randomly_nan(temp,'sexo','Masculino',19929)\n",
    "replace_randomly_nan(temp,'sexo','Feminino',6160)"
   ]
  },
  {
   "cell_type": "markdown",
   "metadata": {
    "id": "iJt7JdD3gsvs"
   },
   "source": [
    "Verificação da proporção dos dados."
   ]
  },
  {
   "cell_type": "code",
   "execution_count": 232,
   "metadata": {
    "id": "e0xW61UIXu_3",
    "outputId": "9395a2aa-7538-4204-93fc-02d9f20d8e7c"
   },
   "outputs": [
    {
     "data": {
      "text/plain": [
       "Masculino    76.0\n",
       "Feminino     24.0\n",
       "Name: sexo, dtype: float64"
      ]
     },
     "execution_count": 232,
     "metadata": {},
     "output_type": "execute_result"
    }
   ],
   "source": [
    "round(df_ind['sexo'].value_counts()/df_ind['sexo'].count()*100)"
   ]
  },
  {
   "cell_type": "markdown",
   "metadata": {
    "id": "rXzJtSflgx0M"
   },
   "source": [
    "Com isso, finalizamos a correção dessa coluna."
   ]
  },
  {
   "cell_type": "code",
   "execution_count": 233,
   "metadata": {
    "id": "v0o6yN4HXu_4",
    "outputId": "83ae95cc-78a5-4ce5-85d5-abd2236500f9"
   },
   "outputs": [
    {
     "data": {
      "image/png": "[encoded data removed]",
      "text/plain": [
       "<Figure size 432x288 with 1 Axes>"
      ]
     },
     "metadata": {
      "needs_background": "light"
     },
     "output_type": "display_data"
    }
   ],
   "source": [
    "sns.barplot(x=temp['sexo'].value_counts().index ,y = temp['sexo'].value_counts())\n",
    "plt.xticks(rotation=90);"
   ]
  },
  {
   "cell_type": "markdown",
   "metadata": {
    "id": "F_damRnTg8ng"
   },
   "source": [
    "Assim, concluimos a limpeza dos nosso dados, e também a correção dos dados que apresentaram algum tipo de problema."
   ]
  },
  {
   "cell_type": "code",
   "execution_count": 242,
   "metadata": {
    "id": "Hgkr_QFYXu_3",
    "outputId": "85f2285e-9475-4199-856d-de609230fd8f"
   },
   "outputs": [
    {
     "data": {
      "text/plain": [
       "id                        0\n",
       "data_inversa              0\n",
       "dia_semana                0\n",
       "horario                   0\n",
       "uf                        0\n",
       "causa_acidente            0\n",
       "tipo_acidente             0\n",
       "classificacao_acidente    0\n",
       "fase_dia                  0\n",
       "condicao_metereologica    0\n",
       "tipo_pista                0\n",
       "tracado_via               0\n",
       "uso_solo                  0\n",
       "tipo_veiculo              0\n",
       "ano_fabricacao_veiculo    0\n",
       "tipo_envolvido            0\n",
       "idade                     0\n",
       "sexo                      0\n",
       "ilesos                    0\n",
       "mortos                    0\n",
       "latitude                  0\n",
       "longitude                 0\n",
       "ano                       0\n",
       "feridos_cal               0\n",
       "dtype: int64"
      ]
     },
     "execution_count": 242,
     "metadata": {},
     "output_type": "execute_result"
    }
   ],
   "source": [
    "temp.isnull().sum()"
   ]
  },
  {
   "cell_type": "code",
   "execution_count": 243,
   "metadata": {
    "id": "3_EVqasgXu_5",
    "outputId": "5cf6cf1f-43e2-4bb4-cbc9-d3f7252e7e9f"
   },
   "outputs": [
    {
     "data": {
      "text/plain": [
       "<AxesSubplot:>"
      ]
     },
     "execution_count": 243,
     "metadata": {},
     "output_type": "execute_result"
    },
    {
     "data": {
      "image/png": "[encoded data removed]",
      "text/plain": [
       "<Figure size 1800x720 with 2 Axes>"
      ]
     },
     "metadata": {
      "needs_background": "light"
     },
     "output_type": "display_data"
    }
   ],
   "source": [
    "msno.matrix(temp)"
   ]
  },
  {
   "cell_type": "markdown",
   "metadata": {
    "id": "GNo-YwEzhJE6"
   },
   "source": [
    "Exportação, do dataset limpo, com o nome **'df_acidentes.csv'**"
   ]
  },
  {
   "cell_type": "code",
   "execution_count": 244,
   "metadata": {
    "id": "BZZtDsAQXu_4"
   },
   "outputs": [],
   "source": [
    "temp.to_csv('df_acidentes.csv',index=False)"
   ]
  },
  {
   "cell_type": "code",
   "execution_count": 237,
   "metadata": {
    "id": "xAmSsD9dXu_4"
   },
   "outputs": [
    {
     "data": {
      "text/plain": [
       "' \\nParte 2\\n\\n\\nCorreção e Limpeza dos dados (EDA e ETL)\\n\\n\\nid                            0      - Não Alterado\\ndia_semana                    0      - Não Alterado\\nhorario                       0      - Não Alterado\\nuf                            0      - Não Alterado\\ncausa_acidente                0      - Não Alterado\\ntipo_acidente                 0      - Não Alterado\\nclassificacao_acidente        0      - Não Alterado\\nfase_dia                      0      - Não Alterado\\ncondicao_metereologica        0      - np.nan -> dropna\\ntipo_pista                    0      - Não Alterado\\ntracado_via                   0      - np.nan - > replace_randomly_nan() - preenchimento proporcional\\nuso_solo                      0      - Não Alterado\\ntipo_veiculo                  0      - np.nan -> dropna\\nano_fabricacao_veiculo        0      - Não Alterado\\ntipo_envolvido                0      - Não Alterado\\nidade                         0      - Não Alterado\\nsexo                          0      - np.nan - > replace_randomly_nan() - preenchimento proporcional\\nilesos                        0      - Não Alterado\\nmortos                        0      - Não Alterado\\nano                           0      - Não Alterado\\nferidos_cal                   0      - Não Alterado\\n\\n\\n========================================================================================================================== \\n--------------------------------------------------------------------------------------------------------------------------\\n==========================================================================================================================\\n\\nParte 1 \\n\\nAgrupamento de dados e seleção de principais colunas a serem analisadas (2017-2020). \\n\\nid                            0      - Não Alterado\\ndia_semana                    0      - Não Alterado\\nhorario                       0      - Não Alterado\\nuf                            0      - Não Alterado\\ncausa_acidente                0      - Não Alterado\\ntipo_acidente                 0      - Não Alterado\\nclassificacao_acidente        0      - Não Alterado\\nfase_dia                      0      - Não Alterado\\ncondicao_metereologica     8597      - Ignorados -> np.nan\\ntipo_pista                    0      - Não Alterado\\ntracado_via               66609      - Não Informado - np.nan\\nuso_solo                      0      - Sim-> Urbano     Não-> Rural\\ntipo_veiculo               2645      - Outros e Não Informados -> np.nan\\nano_fabricacao_veiculo        0      - np.nan - > médias dos anos de fabricação\\ntipo_envolvido                0      - Não informado e Testemunha  -> drop do dataframe\\nidade                         0      - 0 < idade < 117 | outliers -> np.nan -> média de idades\\nsexo                      28618      - Não informado e Ignorados -> np.nan\\nilesos                        0      - Não Alterado\\nmortos                        0      - Não Alterado\\nano                           0      - Criado para rastreamento\\nferidos_cal                   0      - feridos_cal = feridos_leves + feridos_graves (criado)\\n\\n========================================================================================================================== \\n--------------------------------------------------------------------------------------------------------------------------\\n==========================================================================================================================\\n\\nParte 0\\n\\nid                            0\\npesid                         4\\ndata_inversa                  0\\ndia_semana                    0\\nhorario                       0\\nuf                            0\\nbr                         1083\\nkm                         1083\\nmunicipio                     0\\ncausa_acidente                0\\ntipo_acidente                 0\\nclassificacao_acidente        0\\nfase_dia                      0\\nsentido_via                   0\\ncondicao_metereologica        0\\ntipo_pista                    0\\ntracado_via                   0\\nuso_solo                      0\\nid_veiculo                    4\\ntipo_veiculo                  0\\nmarca                     30885\\nano_fabricacao_veiculo    36269\\ntipo_envolvido                0\\nestado_fisico                 0\\nidade                     58641\\nsexo                          0\\nilesos                        0\\nferidos_leves                 0\\nferidos_graves                0\\nmortos                        0\\nlatitude                      0 - > tratados e corrigidos, valores inconsistentes removidos\\nlongitude                     0 - > tratados e corrigidos, valores inconsistentes removidos\\nregional                      0\\ndelegacia                     0\\nuop                       27830\\nano                           0\\n'"
      ]
     },
     "execution_count": 237,
     "metadata": {},
     "output_type": "execute_result"
    }
   ],
   "source": [
    "''' \n",
    "Parte 2\n",
    "\n",
    "\n",
    "Correção e Limpeza dos dados (EDA e ETL)\n",
    "\n",
    "\n",
    "id                            0      - Não Alterado\n",
    "data_inversa                  0      - Não Alterado\n",
    "dia_semana                    0      - Não Alterado\n",
    "horario                       0      - Não Alterado\n",
    "uf                            0      - Não Alterado\n",
    "causa_acidente                0      - Não Alterado\n",
    "tipo_acidente                 0      - Não Alterado\n",
    "classificacao_acidente        0      - Não Alterado\n",
    "fase_dia                      0      - Não Alterado\n",
    "condicao_metereologica        0      - np.nan -> dropna\n",
    "tipo_pista                    0      - Não Alterado\n",
    "tracado_via                   0      - np.nan - > replace_randomly_nan() - preenchimento proporcional\n",
    "uso_solo                      0      - Não Alterado\n",
    "tipo_veiculo                  0      - np.nan -> dropna\n",
    "ano_fabricacao_veiculo        0      - Não Alterado\n",
    "tipo_envolvido                0      - Não Alterado\n",
    "idade                         0      - Não Alterado\n",
    "sexo                          0      - np.nan - > replace_randomly_nan() - preenchimento proporcional\n",
    "ilesos                        0      - Não Alterado\n",
    "mortos                        0      - Não Alterado\n",
    "ano                           0      - Não Alterado\n",
    "feridos_cal                   0      - Não Alterado\n",
    "\n",
    "\n",
    "========================================================================================================================== \n",
    "--------------------------------------------------------------------------------------------------------------------------\n",
    "==========================================================================================================================\n",
    "\n",
    "Parte 1 \n",
    "\n",
    "Agrupamento de dados e seleção de principais colunas a serem analisadas (2017-2020). \n",
    "\n",
    "id                            0      - Não Alterado\n",
    "data_inversa                  0      - Não Alterado\n",
    "dia_semana                    0      - Não Alterado\n",
    "horario                       0      - Não Alterado\n",
    "uf                            0      - Não Alterado\n",
    "causa_acidente                0      - Não Alterado\n",
    "tipo_acidente                 0      - Não Alterado\n",
    "classificacao_acidente        0      - Não Alterado\n",
    "fase_dia                      0      - Não Alterado\n",
    "condicao_metereologica     8597      - Ignorados -> np.nan\n",
    "tipo_pista                    0      - Não Alterado\n",
    "tracado_via               66609      - Não Informado - np.nan\n",
    "uso_solo                      0      - Sim-> Urbano     Não-> Rural\n",
    "tipo_veiculo               2645      - Outros e Não Informados -> np.nan\n",
    "ano_fabricacao_veiculo        0      - np.nan - > médias dos anos de fabricação\n",
    "tipo_envolvido                0      - Não informado e Testemunha  -> drop do dataframe\n",
    "idade                         0      - 0 < idade < 117 | outliers -> np.nan -> média de idades\n",
    "sexo                      28618      - Não informado e Ignorados -> np.nan\n",
    "ilesos                        0      - Não Alterado\n",
    "mortos                        0      - Não Alterado\n",
    "ano                           0      - Criado para rastreamento\n",
    "feridos_cal                   0      - feridos_cal = feridos_leves + feridos_graves (criado)\n",
    "\n",
    "========================================================================================================================== \n",
    "--------------------------------------------------------------------------------------------------------------------------\n",
    "==========================================================================================================================\n",
    "\n",
    "Parte 0\n",
    "\n",
    "id                            0\n",
    "pesid                         4\n",
    "data_inversa                  0\n",
    "dia_semana                    0\n",
    "horario                       0\n",
    "uf                            0\n",
    "br                         1083\n",
    "km                         1083\n",
    "municipio                     0\n",
    "causa_acidente                0\n",
    "tipo_acidente                 0\n",
    "classificacao_acidente        0\n",
    "fase_dia                      0\n",
    "sentido_via                   0\n",
    "condicao_metereologica        0\n",
    "tipo_pista                    0\n",
    "tracado_via                   0\n",
    "uso_solo                      0\n",
    "id_veiculo                    4\n",
    "tipo_veiculo                  0\n",
    "marca                     30885\n",
    "ano_fabricacao_veiculo    36269\n",
    "tipo_envolvido                0\n",
    "estado_fisico                 0\n",
    "idade                     58641\n",
    "sexo                          0\n",
    "ilesos                        0\n",
    "feridos_leves                 0\n",
    "feridos_graves                0\n",
    "mortos                        0\n",
    "latitude                      0 - > tratados e corrigidos, valores inconsistentes removidos\n",
    "longitude                     0 - > tratados e corrigidos, valores inconsistentes removidos\n",
    "regional                      0\n",
    "delegacia                     0\n",
    "uop                       27830\n",
    "ano                           0\n",
    "'''"
   ]
  },
  {
   "cell_type": "code",
   "execution_count": 238,
   "metadata": {
    "id": "SFoLad7TXu_5"
   },
   "outputs": [
    {
     "data": {
      "text/html": [
       "<div>\n",
       "<style scoped>\n",
       "    .dataframe tbody tr th:only-of-type {\n",
       "        vertical-align: middle;\n",
       "    }\n",
       "\n",
       "    .dataframe tbody tr th {\n",
       "        vertical-align: top;\n",
       "    }\n",
       "\n",
       "    .dataframe thead th {\n",
       "        text-align: right;\n",
       "    }\n",
       "</style>\n",
       "<table border=\"1\" class=\"dataframe\">\n",
       "  <thead>\n",
       "    <tr style=\"text-align: right;\">\n",
       "      <th></th>\n",
       "      <th>classificacao_acidente</th>\n",
       "      <th>ilesos</th>\n",
       "      <th>feridos_cal</th>\n",
       "      <th>mortos</th>\n",
       "    </tr>\n",
       "  </thead>\n",
       "  <tbody>\n",
       "    <tr>\n",
       "      <th>267934</th>\n",
       "      <td>Com Vítimas Feridas</td>\n",
       "      <td>1.0</td>\n",
       "      <td>0.0</td>\n",
       "      <td>0.0</td>\n",
       "    </tr>\n",
       "    <tr>\n",
       "      <th>175549</th>\n",
       "      <td>Sem Vítimas</td>\n",
       "      <td>1.0</td>\n",
       "      <td>0.0</td>\n",
       "      <td>0.0</td>\n",
       "    </tr>\n",
       "    <tr>\n",
       "      <th>460965</th>\n",
       "      <td>Com Vítimas Feridas</td>\n",
       "      <td>0.0</td>\n",
       "      <td>1.0</td>\n",
       "      <td>0.0</td>\n",
       "    </tr>\n",
       "    <tr>\n",
       "      <th>432865</th>\n",
       "      <td>Com Vítimas Fatais</td>\n",
       "      <td>0.0</td>\n",
       "      <td>0.0</td>\n",
       "      <td>1.0</td>\n",
       "    </tr>\n",
       "    <tr>\n",
       "      <th>203957</th>\n",
       "      <td>Sem Vítimas</td>\n",
       "      <td>1.0</td>\n",
       "      <td>0.0</td>\n",
       "      <td>0.0</td>\n",
       "    </tr>\n",
       "  </tbody>\n",
       "</table>\n",
       "</div>"
      ],
      "text/plain": [
       "       classificacao_acidente  ilesos  feridos_cal  mortos\n",
       "267934    Com Vítimas Feridas     1.0          0.0     0.0\n",
       "175549            Sem Vítimas     1.0          0.0     0.0\n",
       "460965    Com Vítimas Feridas     0.0          1.0     0.0\n",
       "432865     Com Vítimas Fatais     0.0          0.0     1.0\n",
       "203957            Sem Vítimas     1.0          0.0     0.0"
      ]
     },
     "execution_count": 238,
     "metadata": {},
     "output_type": "execute_result"
    }
   ],
   "source": [
    "temp[['classificacao_acidente','ilesos','feridos_cal','mortos']].sample(5)"
   ]
  }
 ],
 "metadata": {
  "colab": {
   "name": "ETL_EDA.ipynb",
   "provenance": []
  },
  "kernelspec": {
   "display_name": "Python 3",
   "language": "python",
   "name": "python3"
  },
  "language_info": {
   "codemirror_mode": {
    "name": "ipython",
    "version": 3
   },
   "file_extension": ".py",
   "mimetype": "text/x-python",
   "name": "python",
   "nbconvert_exporter": "python",
   "pygments_lexer": "ipython3",
   "version": "3.8.5"
  }
 },
 "nbformat": 4,
 "nbformat_minor": 4
}
